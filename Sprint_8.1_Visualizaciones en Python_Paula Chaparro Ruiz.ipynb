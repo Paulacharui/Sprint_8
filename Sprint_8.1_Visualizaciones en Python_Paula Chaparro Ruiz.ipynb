{
 "cells": [
  {
   "cell_type": "markdown",
   "id": "9bb23e33",
   "metadata": {},
   "source": [
    "# <font color=\"violet\">**Nivel 1**</font>\n",
    "\n",
    "\n",
    "Realiza la conexión en Python con MySQL Workbench para cargar toda la información que tienes en las tablas.\n",
    "\n",
    "Realizarás una visualización para cada ejercicio. Comenta lo que llama la atención de graficar esta variable, justifica la elección del gráfico e interpreta los resultados en función de tus datos.\n"
   ]
  },
  {
   "cell_type": "code",
   "execution_count": 347,
   "id": "c983f167",
   "metadata": {},
   "outputs": [
    {
     "name": "stdout",
     "output_type": "stream",
     "text": [
      "Requirement already satisfied: mysql-connector-python in c:\\users\\pchap\\anaconda3\\envs\\reskilling\\lib\\site-packages (9.3.0)\n",
      "Note: you may need to restart the kernel to use updated packages.\n",
      "Requirement already satisfied: pymysql in c:\\users\\pchap\\anaconda3\\envs\\reskilling\\lib\\site-packages (1.1.1)\n",
      "Note: you may need to restart the kernel to use updated packages.\n",
      "Requirement already satisfied: sqlalchemy in c:\\users\\pchap\\anaconda3\\envs\\reskilling\\lib\\site-packages (2.0.39)\n",
      "Requirement already satisfied: greenlet!=0.4.17 in c:\\users\\pchap\\anaconda3\\envs\\reskilling\\lib\\site-packages (from sqlalchemy) (3.1.1)\n",
      "Requirement already satisfied: typing-extensions>=4.6.0 in c:\\users\\pchap\\anaconda3\\envs\\reskilling\\lib\\site-packages (from sqlalchemy) (4.12.2)\n",
      "Note: you may need to restart the kernel to use updated packages.\n",
      "Requirement already satisfied: cryptography in c:\\users\\pchap\\anaconda3\\envs\\reskilling\\lib\\site-packages (45.0.5)\n",
      "Requirement already satisfied: cffi>=1.14 in c:\\users\\pchap\\anaconda3\\envs\\reskilling\\lib\\site-packages (from cryptography) (1.17.1)\n",
      "Requirement already satisfied: pycparser in c:\\users\\pchap\\anaconda3\\envs\\reskilling\\lib\\site-packages (from cffi>=1.14->cryptography) (2.22)\n",
      "Note: you may need to restart the kernel to use updated packages.\n",
      "Requirement already satisfied: statsmodels in c:\\users\\pchap\\anaconda3\\envs\\reskilling\\lib\\site-packages (0.14.4)\n",
      "Requirement already satisfied: numpy<3,>=1.22.3 in c:\\users\\pchap\\anaconda3\\envs\\reskilling\\lib\\site-packages (from statsmodels) (2.2.4)\n",
      "Requirement already satisfied: scipy!=1.9.2,>=1.8 in c:\\users\\pchap\\anaconda3\\envs\\reskilling\\lib\\site-packages (from statsmodels) (1.16.0)\n",
      "Requirement already satisfied: pandas!=2.1.0,>=1.4 in c:\\users\\pchap\\anaconda3\\envs\\reskilling\\lib\\site-packages (from statsmodels) (2.2.3)\n",
      "Requirement already satisfied: patsy>=0.5.6 in c:\\users\\pchap\\anaconda3\\envs\\reskilling\\lib\\site-packages (from statsmodels) (1.0.1)\n",
      "Requirement already satisfied: packaging>=21.3 in c:\\users\\pchap\\anaconda3\\envs\\reskilling\\lib\\site-packages (from statsmodels) (24.2)\n",
      "Requirement already satisfied: python-dateutil>=2.8.2 in c:\\users\\pchap\\anaconda3\\envs\\reskilling\\lib\\site-packages (from pandas!=2.1.0,>=1.4->statsmodels) (2.9.0.post0)\n",
      "Requirement already satisfied: pytz>=2020.1 in c:\\users\\pchap\\anaconda3\\envs\\reskilling\\lib\\site-packages (from pandas!=2.1.0,>=1.4->statsmodels) (2025.1)\n",
      "Requirement already satisfied: tzdata>=2022.7 in c:\\users\\pchap\\anaconda3\\envs\\reskilling\\lib\\site-packages (from pandas!=2.1.0,>=1.4->statsmodels) (2025.2)\n",
      "Requirement already satisfied: six>=1.5 in c:\\users\\pchap\\anaconda3\\envs\\reskilling\\lib\\site-packages (from python-dateutil>=2.8.2->pandas!=2.1.0,>=1.4->statsmodels) (1.17.0)\n",
      "Note: you may need to restart the kernel to use updated packages.\n",
      "Requirement already satisfied: scipy in c:\\users\\pchap\\anaconda3\\envs\\reskilling\\lib\\site-packages (1.16.0)\n",
      "Requirement already satisfied: numpy<2.6,>=1.25.2 in c:\\users\\pchap\\anaconda3\\envs\\reskilling\\lib\\site-packages (from scipy) (2.2.4)\n",
      "Note: you may need to restart the kernel to use updated packages.\n",
      "Requirement already satisfied: pingouin in c:\\users\\pchap\\anaconda3\\envs\\reskilling\\lib\\site-packages (0.5.5)\n",
      "Requirement already satisfied: matplotlib in c:\\users\\pchap\\anaconda3\\envs\\reskilling\\lib\\site-packages (from pingouin) (3.10.3)\n",
      "Requirement already satisfied: numpy in c:\\users\\pchap\\anaconda3\\envs\\reskilling\\lib\\site-packages (from pingouin) (2.2.4)\n",
      "Requirement already satisfied: pandas>=1.5 in c:\\users\\pchap\\anaconda3\\envs\\reskilling\\lib\\site-packages (from pingouin) (2.2.3)\n",
      "Requirement already satisfied: pandas-flavor in c:\\users\\pchap\\anaconda3\\envs\\reskilling\\lib\\site-packages (from pingouin) (0.7.0)\n",
      "Requirement already satisfied: scikit-learn>=1.2 in c:\\users\\pchap\\anaconda3\\envs\\reskilling\\lib\\site-packages (from pingouin) (1.7.0)\n",
      "Requirement already satisfied: scipy in c:\\users\\pchap\\anaconda3\\envs\\reskilling\\lib\\site-packages (from pingouin) (1.16.0)\n",
      "Requirement already satisfied: seaborn in c:\\users\\pchap\\anaconda3\\envs\\reskilling\\lib\\site-packages (from pingouin) (0.13.2)\n",
      "Requirement already satisfied: statsmodels in c:\\users\\pchap\\anaconda3\\envs\\reskilling\\lib\\site-packages (from pingouin) (0.14.4)\n",
      "Requirement already satisfied: tabulate in c:\\users\\pchap\\anaconda3\\envs\\reskilling\\lib\\site-packages (from pingouin) (0.9.0)\n",
      "Requirement already satisfied: python-dateutil>=2.8.2 in c:\\users\\pchap\\anaconda3\\envs\\reskilling\\lib\\site-packages (from pandas>=1.5->pingouin) (2.9.0.post0)\n",
      "Requirement already satisfied: pytz>=2020.1 in c:\\users\\pchap\\anaconda3\\envs\\reskilling\\lib\\site-packages (from pandas>=1.5->pingouin) (2025.1)\n",
      "Requirement already satisfied: tzdata>=2022.7 in c:\\users\\pchap\\anaconda3\\envs\\reskilling\\lib\\site-packages (from pandas>=1.5->pingouin) (2025.2)\n",
      "Requirement already satisfied: joblib>=1.2.0 in c:\\users\\pchap\\anaconda3\\envs\\reskilling\\lib\\site-packages (from scikit-learn>=1.2->pingouin) (1.5.1)\n",
      "Requirement already satisfied: threadpoolctl>=3.1.0 in c:\\users\\pchap\\anaconda3\\envs\\reskilling\\lib\\site-packages (from scikit-learn>=1.2->pingouin) (3.6.0)\n",
      "Requirement already satisfied: contourpy>=1.0.1 in c:\\users\\pchap\\anaconda3\\envs\\reskilling\\lib\\site-packages (from matplotlib->pingouin) (1.3.2)\n",
      "Requirement already satisfied: cycler>=0.10 in c:\\users\\pchap\\anaconda3\\envs\\reskilling\\lib\\site-packages (from matplotlib->pingouin) (0.12.1)\n",
      "Requirement already satisfied: fonttools>=4.22.0 in c:\\users\\pchap\\anaconda3\\envs\\reskilling\\lib\\site-packages (from matplotlib->pingouin) (4.58.5)\n",
      "Requirement already satisfied: kiwisolver>=1.3.1 in c:\\users\\pchap\\anaconda3\\envs\\reskilling\\lib\\site-packages (from matplotlib->pingouin) (1.4.8)\n",
      "Requirement already satisfied: packaging>=20.0 in c:\\users\\pchap\\anaconda3\\envs\\reskilling\\lib\\site-packages (from matplotlib->pingouin) (24.2)\n",
      "Requirement already satisfied: pillow>=8 in c:\\users\\pchap\\anaconda3\\envs\\reskilling\\lib\\site-packages (from matplotlib->pingouin) (11.3.0)\n",
      "Requirement already satisfied: pyparsing>=2.3.1 in c:\\users\\pchap\\anaconda3\\envs\\reskilling\\lib\\site-packages (from matplotlib->pingouin) (3.2.3)\n",
      "Requirement already satisfied: xarray in c:\\users\\pchap\\anaconda3\\envs\\reskilling\\lib\\site-packages (from pandas-flavor->pingouin) (2025.7.1)\n",
      "Requirement already satisfied: patsy>=0.5.6 in c:\\users\\pchap\\anaconda3\\envs\\reskilling\\lib\\site-packages (from statsmodels->pingouin) (1.0.1)\n",
      "Requirement already satisfied: six>=1.5 in c:\\users\\pchap\\anaconda3\\envs\\reskilling\\lib\\site-packages (from python-dateutil>=2.8.2->pandas>=1.5->pingouin) (1.17.0)\n",
      "Note: you may need to restart the kernel to use updated packages.\n"
     ]
    }
   ],
   "source": [
    "#Instalo las conexiones necesarias:\n",
    "\n",
    "%pip install mysql-connector-python\n",
    "\n",
    "%pip install pymysql\n",
    "\n",
    "%pip install sqlalchemy\n",
    "\n",
    "%pip install cryptography\n",
    "\n",
    "%pip install statsmodels\n",
    "\n",
    "%pip install scipy\n",
    "\n",
    "%pip install pingouin"
   ]
  },
  {
   "cell_type": "code",
   "execution_count": 356,
   "id": "866f9dc5",
   "metadata": {},
   "outputs": [],
   "source": [
    "#Importo las bibliotecas que necesito\n",
    "\n",
    "from sqlalchemy import create_engine, text\n",
    "import os\n",
    "import dotenv\n",
    "import pandas as pd\n",
    "import matplotlib.pyplot as plt\n",
    "import seaborn as sns \n",
    "import plotly.express as px\n",
    "import numpy as np\n",
    "from datetime import datetime\n",
    "from scipy import stats\n",
    "import pingouin as pg\n"
   ]
  },
  {
   "cell_type": "code",
   "execution_count": 245,
   "id": "0c2fc680",
   "metadata": {},
   "outputs": [],
   "source": [
    "# Configuración de la conexión:\n",
    "dotenv.load_dotenv(r'C:\\Users\\pchap\\Documents\\Datos_conexion _mysql.env')  # ruta y nombre del archivo\n",
    "usuario = os.getenv('usuario')\n",
    "password = os.getenv('password') \n",
    "host = 'localhost'\n",
    "basedatos = 'sprint_4'  #Nombre de la base de datos\n",
    "\n",
    "# Crear la URL de conexión\n",
    "connection_url = f'mysql+pymysql://{usuario}:{password}@{host}/{basedatos}'\n",
    "engine = create_engine(connection_url) #el motor de la conexión\n",
    "\n"
   ]
  },
  {
   "cell_type": "code",
   "execution_count": 325,
   "id": "b3dee2b4",
   "metadata": {},
   "outputs": [],
   "source": [
    "#Creo y cargo los data frames\n",
    "\n",
    "companies = pd.read_sql('select * from companies', engine)\n",
    "credit_cards = pd.read_sql('select * from credit_cards', engine)\n",
    "products = pd.read_sql('select * from products', engine)\n",
    "products_transact = pd.read_sql('select transactions_id, products_id from products_transact', engine) # tengo que seleccionar las dos columnas porque si pongo * lo lee mal, solo coge 587 registros en vez de los 1457.\n",
    "transactions = pd.read_sql('select * from transactions', engine)\n",
    "users = pd.read_sql('select * from users', engine)"
   ]
  },
  {
   "cell_type": "code",
   "execution_count": 247,
   "id": "7ed17977",
   "metadata": {},
   "outputs": [
    {
     "data": {
      "application/vnd.microsoft.datawrangler.viewer.v0+json": {
       "columns": [
        {
         "name": "index",
         "rawType": "int64",
         "type": "integer"
        },
        {
         "name": "id",
         "rawType": "object",
         "type": "string"
        },
        {
         "name": "card_id",
         "rawType": "object",
         "type": "string"
        },
        {
         "name": "business_id",
         "rawType": "object",
         "type": "string"
        },
        {
         "name": "timestamp",
         "rawType": "datetime64[ns]",
         "type": "datetime"
        },
        {
         "name": "amount",
         "rawType": "float64",
         "type": "float"
        },
        {
         "name": "declined",
         "rawType": "int64",
         "type": "integer"
        },
        {
         "name": "product_id",
         "rawType": "object",
         "type": "string"
        },
        {
         "name": "user_id",
         "rawType": "int64",
         "type": "integer"
        },
        {
         "name": "lat",
         "rawType": "float64",
         "type": "float"
        },
        {
         "name": "longitude",
         "rawType": "float64",
         "type": "float"
        }
       ],
       "ref": "e3f44184-eb20-40eb-96a0-429bab06cbf9",
       "rows": [
        [
         "0",
         "02C6201E-D90A-1859-B4EE-88D2986D3B02",
         "CcU-2938",
         "b-2362",
         "2021-08-28 23:42:24",
         "466.92",
         "0",
         "71, 1, 19",
         "92",
         "81.9185",
         "-12.5276"
        ],
        [
         "1",
         "0466A42E-47CF-8D24-FD01-C0B689713128",
         "CcU-4219",
         "b-2302",
         "2021-07-26 07:29:18",
         "49.53",
         "0",
         "47, 97, 43",
         "170",
         "-43.9695",
         "-117.525"
        ],
        [
         "2",
         "063FBA79-99EC-66FB-29F7-25726D1764A5",
         "CcU-2987",
         "b-2250",
         "2022-01-06 21:25:27",
         "92.61",
         "0",
         "47, 67, 31, 5",
         "275",
         "-81.2227",
         "-129.05"
        ],
        [
         "3",
         "0668296C-CDB9-A883-76BC-2E4C44F8C8AE",
         "CcU-3743",
         "b-2618",
         "2022-01-26 02:07:14",
         "394.18",
         "0",
         "89, 83, 79",
         "265",
         "-34.3593",
         "-100.556"
        ],
        [
         "4",
         "06CD9AA5-9B42-D684-DDDD-A5E394FEBA99",
         "CcU-2959",
         "b-2346",
         "2021-10-26 23:00:01",
         "279.93",
         "0",
         "43, 31",
         "92",
         "33.7381",
         "158.298"
        ]
       ],
       "shape": {
        "columns": 10,
        "rows": 5
       }
      },
      "text/html": [
       "<div>\n",
       "<style scoped>\n",
       "    .dataframe tbody tr th:only-of-type {\n",
       "        vertical-align: middle;\n",
       "    }\n",
       "\n",
       "    .dataframe tbody tr th {\n",
       "        vertical-align: top;\n",
       "    }\n",
       "\n",
       "    .dataframe thead th {\n",
       "        text-align: right;\n",
       "    }\n",
       "</style>\n",
       "<table border=\"1\" class=\"dataframe\">\n",
       "  <thead>\n",
       "    <tr style=\"text-align: right;\">\n",
       "      <th></th>\n",
       "      <th>id</th>\n",
       "      <th>card_id</th>\n",
       "      <th>business_id</th>\n",
       "      <th>timestamp</th>\n",
       "      <th>amount</th>\n",
       "      <th>declined</th>\n",
       "      <th>product_id</th>\n",
       "      <th>user_id</th>\n",
       "      <th>lat</th>\n",
       "      <th>longitude</th>\n",
       "    </tr>\n",
       "  </thead>\n",
       "  <tbody>\n",
       "    <tr>\n",
       "      <th>0</th>\n",
       "      <td>02C6201E-D90A-1859-B4EE-88D2986D3B02</td>\n",
       "      <td>CcU-2938</td>\n",
       "      <td>b-2362</td>\n",
       "      <td>2021-08-28 23:42:24</td>\n",
       "      <td>466.92</td>\n",
       "      <td>0</td>\n",
       "      <td>71, 1, 19</td>\n",
       "      <td>92</td>\n",
       "      <td>81.9185</td>\n",
       "      <td>-12.5276</td>\n",
       "    </tr>\n",
       "    <tr>\n",
       "      <th>1</th>\n",
       "      <td>0466A42E-47CF-8D24-FD01-C0B689713128</td>\n",
       "      <td>CcU-4219</td>\n",
       "      <td>b-2302</td>\n",
       "      <td>2021-07-26 07:29:18</td>\n",
       "      <td>49.53</td>\n",
       "      <td>0</td>\n",
       "      <td>47, 97, 43</td>\n",
       "      <td>170</td>\n",
       "      <td>-43.9695</td>\n",
       "      <td>-117.5250</td>\n",
       "    </tr>\n",
       "    <tr>\n",
       "      <th>2</th>\n",
       "      <td>063FBA79-99EC-66FB-29F7-25726D1764A5</td>\n",
       "      <td>CcU-2987</td>\n",
       "      <td>b-2250</td>\n",
       "      <td>2022-01-06 21:25:27</td>\n",
       "      <td>92.61</td>\n",
       "      <td>0</td>\n",
       "      <td>47, 67, 31, 5</td>\n",
       "      <td>275</td>\n",
       "      <td>-81.2227</td>\n",
       "      <td>-129.0500</td>\n",
       "    </tr>\n",
       "    <tr>\n",
       "      <th>3</th>\n",
       "      <td>0668296C-CDB9-A883-76BC-2E4C44F8C8AE</td>\n",
       "      <td>CcU-3743</td>\n",
       "      <td>b-2618</td>\n",
       "      <td>2022-01-26 02:07:14</td>\n",
       "      <td>394.18</td>\n",
       "      <td>0</td>\n",
       "      <td>89, 83, 79</td>\n",
       "      <td>265</td>\n",
       "      <td>-34.3593</td>\n",
       "      <td>-100.5560</td>\n",
       "    </tr>\n",
       "    <tr>\n",
       "      <th>4</th>\n",
       "      <td>06CD9AA5-9B42-D684-DDDD-A5E394FEBA99</td>\n",
       "      <td>CcU-2959</td>\n",
       "      <td>b-2346</td>\n",
       "      <td>2021-10-26 23:00:01</td>\n",
       "      <td>279.93</td>\n",
       "      <td>0</td>\n",
       "      <td>43, 31</td>\n",
       "      <td>92</td>\n",
       "      <td>33.7381</td>\n",
       "      <td>158.2980</td>\n",
       "    </tr>\n",
       "  </tbody>\n",
       "</table>\n",
       "</div>"
      ],
      "text/plain": [
       "                                     id   card_id business_id  \\\n",
       "0  02C6201E-D90A-1859-B4EE-88D2986D3B02  CcU-2938      b-2362   \n",
       "1  0466A42E-47CF-8D24-FD01-C0B689713128  CcU-4219      b-2302   \n",
       "2  063FBA79-99EC-66FB-29F7-25726D1764A5  CcU-2987      b-2250   \n",
       "3  0668296C-CDB9-A883-76BC-2E4C44F8C8AE  CcU-3743      b-2618   \n",
       "4  06CD9AA5-9B42-D684-DDDD-A5E394FEBA99  CcU-2959      b-2346   \n",
       "\n",
       "            timestamp  amount  declined     product_id  user_id      lat  \\\n",
       "0 2021-08-28 23:42:24  466.92         0      71, 1, 19       92  81.9185   \n",
       "1 2021-07-26 07:29:18   49.53         0     47, 97, 43      170 -43.9695   \n",
       "2 2022-01-06 21:25:27   92.61         0  47, 67, 31, 5      275 -81.2227   \n",
       "3 2022-01-26 02:07:14  394.18         0     89, 83, 79      265 -34.3593   \n",
       "4 2021-10-26 23:00:01  279.93         0         43, 31       92  33.7381   \n",
       "\n",
       "   longitude  \n",
       "0   -12.5276  \n",
       "1  -117.5250  \n",
       "2  -129.0500  \n",
       "3  -100.5560  \n",
       "4   158.2980  "
      ]
     },
     "execution_count": 247,
     "metadata": {},
     "output_type": "execute_result"
    }
   ],
   "source": [
    "transactions.head()"
   ]
  },
  {
   "cell_type": "markdown",
   "id": "d13437ab",
   "metadata": {},
   "source": [
    "<font color=\"violet\">**- Ejercicio 1**</font>\n",
    "\n",
    "Gráfico con una variable numérica.\n",
    "\n",
    "Para este caso, elijo la variable amount de la cual consulto la media, el mínimo y el máximo.\n"
   ]
  },
  {
   "cell_type": "code",
   "execution_count": 248,
   "id": "552f4de5",
   "metadata": {},
   "outputs": [
    {
     "data": {
      "text/plain": [
       "<Axes: >"
      ]
     },
     "execution_count": 248,
     "metadata": {},
     "output_type": "execute_result"
    },
    {
     "data": {
      "image/png": "[encoded data removed]",
      "text/plain": [
       "<Figure size 640x480 with 1 Axes>"
      ]
     },
     "metadata": {},
     "output_type": "display_data"
    }
   ],
   "source": [
    "#Máx, min, y media de la columna amount.\n",
    "transactions.amount.agg(['max','mean','min']).plot.bar()"
   ]
  },
  {
   "cell_type": "code",
   "execution_count": 249,
   "id": "a9eac8d2",
   "metadata": {},
   "outputs": [
    {
     "data": {
      "application/vnd.microsoft.datawrangler.viewer.v0+json": {
       "columns": [
        {
         "name": "index",
         "rawType": "object",
         "type": "string"
        },
        {
         "name": "amount",
         "rawType": "float64",
         "type": "float"
        }
       ],
       "ref": "07574b80-18c9-4228-a66d-3b0ff3434ade",
       "rows": [
        [
         "max",
         "499.23"
        ],
        [
         "mean",
         "256.7355195911414"
        ],
        [
         "min",
         "15.05"
        ]
       ],
       "shape": {
        "columns": 1,
        "rows": 3
       }
      },
      "text/plain": [
       "max     499.23000\n",
       "mean    256.73552\n",
       "min      15.05000\n",
       "Name: amount, dtype: float64"
      ]
     },
     "execution_count": 249,
     "metadata": {},
     "output_type": "execute_result"
    }
   ],
   "source": [
    "transactions.amount.agg(['max','mean','min'])"
   ]
  },
  {
   "cell_type": "markdown",
   "id": "d1c70a5d",
   "metadata": {},
   "source": [
    "<font color=\"violet\">**- Ejercicio 2**</font>\n",
    "\n",
    "Gráfico con dos variables numéricas.\n",
    "\n",
    "De la tabla products relaciono precio y peso para ver si hay algo a destacar."
   ]
  },
  {
   "cell_type": "code",
   "execution_count": 250,
   "id": "0517e86f",
   "metadata": {},
   "outputs": [
    {
     "data": {
      "text/plain": [
       "<seaborn.axisgrid.FacetGrid at 0x28adeea3ed0>"
      ]
     },
     "execution_count": 250,
     "metadata": {},
     "output_type": "execute_result"
    },
    {
     "data": {
      "image/png": "[encoded data removed]",
      "text/plain": [
       "<Figure size 500x500 with 1 Axes>"
      ]
     },
     "metadata": {},
     "output_type": "display_data"
    }
   ],
   "source": [
    "#Precio y peso para ver si hay algo a destacar.\n",
    "products['price'] = products['price'].replace(r'[\\$,]', '', regex=True).astype(float) #Elimina el símbolo $ y las comas si las hay (usando una expresión regular) y convierte el string a float para poder graficar.\n",
    "sns.lmplot(data = products, x = 'weight' , y = ('price'))"
   ]
  },
  {
   "cell_type": "markdown",
   "id": "d909619b",
   "metadata": {},
   "source": [
    "No se ve una relación evidente entre el precio y el peso del producto."
   ]
  },
  {
   "cell_type": "markdown",
   "id": "e64820c4",
   "metadata": {},
   "source": [
    "<font color=\"violet\">**- Ejercicio 3**</font>\n",
    "\n",
    "Gráfico con una variable categórica.\n",
    "\n",
    "Transacciones declinadas vs no declinadas con etiquetas de sí o no"
   ]
  },
  {
   "cell_type": "code",
   "execution_count": 251,
   "id": "88deaad6",
   "metadata": {},
   "outputs": [
    {
     "data": {
      "image/png": "[encoded data removed]",
      "text/plain": [
       "<Figure size 640x480 with 1 Axes>"
      ]
     },
     "metadata": {},
     "output_type": "display_data"
    }
   ],
   "source": [
    "#Transacciones declinadas vs no declinadas con etiquetas de sí o no\n",
    "\n",
    "columna = transactions['declined'].value_counts() #cuenta cuántas veces aparece cada valor en la columna declined (cuántas veces hay un 0 y cuántas veces hay un 1).\n",
    "\n",
    "# Defino las etiquetas personalizadas\n",
    "etiquetas = ['No', 'Sí'] # 0 = No declinada, 1 = Sí declinada\n",
    "\n",
    "# Valores\n",
    "valores = [columna.get(0, 0), columna.get(1, 0)] #uso .get(0, 0) y .get(1, 0) para evitar errores si alguno de los valores no existe.\n",
    "\n",
    "# Creo el gráfico de barras\n",
    "plt.bar(etiquetas, valores, color = ['green','red'])\n",
    "plt.bar(etiquetas, valores, color = ['green','red'])\n",
    "plt.title('Cantidad de transacciones declinadas y no declinadas', pad=20) #Pad deja espacio entre el título y el gráfico\n",
    "plt.ylabel('Cantidad')\n",
    "plt.xlabel('¿Declinada?')\n",
    "plt.show()"
   ]
  },
  {
   "cell_type": "markdown",
   "id": "3a2dad2a",
   "metadata": {},
   "source": [
    "Respecto a las transacciones declinadas o no declinadas, vemos que en relación con el total de movimientos, el número de declinadas no es muy elevado."
   ]
  },
  {
   "cell_type": "markdown",
   "id": "dac6dbbc",
   "metadata": {},
   "source": [
    "<font color=\"violet\">**- Ejercicio 4**</font>\n",
    "\n",
    "Gráfico con una variable categórica y una numérica.\n",
    "\n",
    "Vamos a ver la media de compra por país y para ello se deben unir dos tablas, la de transactions y la de companies."
   ]
  },
  {
   "cell_type": "code",
   "execution_count": 252,
   "id": "6f68fdb8",
   "metadata": {},
   "outputs": [
    {
     "data": {
      "application/vnd.microsoft.datawrangler.viewer.v0+json": {
       "columns": [
        {
         "name": "index",
         "rawType": "int64",
         "type": "integer"
        },
        {
         "name": "id",
         "rawType": "object",
         "type": "string"
        },
        {
         "name": "card_id",
         "rawType": "object",
         "type": "string"
        },
        {
         "name": "business_id",
         "rawType": "object",
         "type": "string"
        },
        {
         "name": "timestamp",
         "rawType": "datetime64[ns]",
         "type": "datetime"
        },
        {
         "name": "amount",
         "rawType": "float64",
         "type": "float"
        },
        {
         "name": "declined",
         "rawType": "int64",
         "type": "integer"
        },
        {
         "name": "product_id",
         "rawType": "object",
         "type": "string"
        },
        {
         "name": "user_id",
         "rawType": "int64",
         "type": "integer"
        },
        {
         "name": "lat",
         "rawType": "float64",
         "type": "float"
        },
        {
         "name": "longitude",
         "rawType": "float64",
         "type": "float"
        }
       ],
       "ref": "99a06e68-011a-401c-8207-c7dd910dba0a",
       "rows": [
        [
         "0",
         "02C6201E-D90A-1859-B4EE-88D2986D3B02",
         "CcU-2938",
         "b-2362",
         "2021-08-28 23:42:24",
         "466.92",
         "0",
         "71, 1, 19",
         "92",
         "81.9185",
         "-12.5276"
        ],
        [
         "1",
         "0466A42E-47CF-8D24-FD01-C0B689713128",
         "CcU-4219",
         "b-2302",
         "2021-07-26 07:29:18",
         "49.53",
         "0",
         "47, 97, 43",
         "170",
         "-43.9695",
         "-117.525"
        ],
        [
         "2",
         "063FBA79-99EC-66FB-29F7-25726D1764A5",
         "CcU-2987",
         "b-2250",
         "2022-01-06 21:25:27",
         "92.61",
         "0",
         "47, 67, 31, 5",
         "275",
         "-81.2227",
         "-129.05"
        ],
        [
         "3",
         "0668296C-CDB9-A883-76BC-2E4C44F8C8AE",
         "CcU-3743",
         "b-2618",
         "2022-01-26 02:07:14",
         "394.18",
         "0",
         "89, 83, 79",
         "265",
         "-34.3593",
         "-100.556"
        ],
        [
         "4",
         "06CD9AA5-9B42-D684-DDDD-A5E394FEBA99",
         "CcU-2959",
         "b-2346",
         "2021-10-26 23:00:01",
         "279.93",
         "0",
         "43, 31",
         "92",
         "33.7381",
         "158.298"
        ]
       ],
       "shape": {
        "columns": 10,
        "rows": 5
       }
      },
      "text/html": [
       "<div>\n",
       "<style scoped>\n",
       "    .dataframe tbody tr th:only-of-type {\n",
       "        vertical-align: middle;\n",
       "    }\n",
       "\n",
       "    .dataframe tbody tr th {\n",
       "        vertical-align: top;\n",
       "    }\n",
       "\n",
       "    .dataframe thead th {\n",
       "        text-align: right;\n",
       "    }\n",
       "</style>\n",
       "<table border=\"1\" class=\"dataframe\">\n",
       "  <thead>\n",
       "    <tr style=\"text-align: right;\">\n",
       "      <th></th>\n",
       "      <th>id</th>\n",
       "      <th>card_id</th>\n",
       "      <th>business_id</th>\n",
       "      <th>timestamp</th>\n",
       "      <th>amount</th>\n",
       "      <th>declined</th>\n",
       "      <th>product_id</th>\n",
       "      <th>user_id</th>\n",
       "      <th>lat</th>\n",
       "      <th>longitude</th>\n",
       "    </tr>\n",
       "  </thead>\n",
       "  <tbody>\n",
       "    <tr>\n",
       "      <th>0</th>\n",
       "      <td>02C6201E-D90A-1859-B4EE-88D2986D3B02</td>\n",
       "      <td>CcU-2938</td>\n",
       "      <td>b-2362</td>\n",
       "      <td>2021-08-28 23:42:24</td>\n",
       "      <td>466.92</td>\n",
       "      <td>0</td>\n",
       "      <td>71, 1, 19</td>\n",
       "      <td>92</td>\n",
       "      <td>81.9185</td>\n",
       "      <td>-12.5276</td>\n",
       "    </tr>\n",
       "    <tr>\n",
       "      <th>1</th>\n",
       "      <td>0466A42E-47CF-8D24-FD01-C0B689713128</td>\n",
       "      <td>CcU-4219</td>\n",
       "      <td>b-2302</td>\n",
       "      <td>2021-07-26 07:29:18</td>\n",
       "      <td>49.53</td>\n",
       "      <td>0</td>\n",
       "      <td>47, 97, 43</td>\n",
       "      <td>170</td>\n",
       "      <td>-43.9695</td>\n",
       "      <td>-117.5250</td>\n",
       "    </tr>\n",
       "    <tr>\n",
       "      <th>2</th>\n",
       "      <td>063FBA79-99EC-66FB-29F7-25726D1764A5</td>\n",
       "      <td>CcU-2987</td>\n",
       "      <td>b-2250</td>\n",
       "      <td>2022-01-06 21:25:27</td>\n",
       "      <td>92.61</td>\n",
       "      <td>0</td>\n",
       "      <td>47, 67, 31, 5</td>\n",
       "      <td>275</td>\n",
       "      <td>-81.2227</td>\n",
       "      <td>-129.0500</td>\n",
       "    </tr>\n",
       "    <tr>\n",
       "      <th>3</th>\n",
       "      <td>0668296C-CDB9-A883-76BC-2E4C44F8C8AE</td>\n",
       "      <td>CcU-3743</td>\n",
       "      <td>b-2618</td>\n",
       "      <td>2022-01-26 02:07:14</td>\n",
       "      <td>394.18</td>\n",
       "      <td>0</td>\n",
       "      <td>89, 83, 79</td>\n",
       "      <td>265</td>\n",
       "      <td>-34.3593</td>\n",
       "      <td>-100.5560</td>\n",
       "    </tr>\n",
       "    <tr>\n",
       "      <th>4</th>\n",
       "      <td>06CD9AA5-9B42-D684-DDDD-A5E394FEBA99</td>\n",
       "      <td>CcU-2959</td>\n",
       "      <td>b-2346</td>\n",
       "      <td>2021-10-26 23:00:01</td>\n",
       "      <td>279.93</td>\n",
       "      <td>0</td>\n",
       "      <td>43, 31</td>\n",
       "      <td>92</td>\n",
       "      <td>33.7381</td>\n",
       "      <td>158.2980</td>\n",
       "    </tr>\n",
       "  </tbody>\n",
       "</table>\n",
       "</div>"
      ],
      "text/plain": [
       "                                     id   card_id business_id  \\\n",
       "0  02C6201E-D90A-1859-B4EE-88D2986D3B02  CcU-2938      b-2362   \n",
       "1  0466A42E-47CF-8D24-FD01-C0B689713128  CcU-4219      b-2302   \n",
       "2  063FBA79-99EC-66FB-29F7-25726D1764A5  CcU-2987      b-2250   \n",
       "3  0668296C-CDB9-A883-76BC-2E4C44F8C8AE  CcU-3743      b-2618   \n",
       "4  06CD9AA5-9B42-D684-DDDD-A5E394FEBA99  CcU-2959      b-2346   \n",
       "\n",
       "            timestamp  amount  declined     product_id  user_id      lat  \\\n",
       "0 2021-08-28 23:42:24  466.92         0      71, 1, 19       92  81.9185   \n",
       "1 2021-07-26 07:29:18   49.53         0     47, 97, 43      170 -43.9695   \n",
       "2 2022-01-06 21:25:27   92.61         0  47, 67, 31, 5      275 -81.2227   \n",
       "3 2022-01-26 02:07:14  394.18         0     89, 83, 79      265 -34.3593   \n",
       "4 2021-10-26 23:00:01  279.93         0         43, 31       92  33.7381   \n",
       "\n",
       "   longitude  \n",
       "0   -12.5276  \n",
       "1  -117.5250  \n",
       "2  -129.0500  \n",
       "3  -100.5560  \n",
       "4   158.2980  "
      ]
     },
     "execution_count": 252,
     "metadata": {},
     "output_type": "execute_result"
    }
   ],
   "source": [
    "#Vemos las 5 primeras filas de transactions\n",
    "transactions.head()"
   ]
  },
  {
   "cell_type": "code",
   "execution_count": 253,
   "id": "943bdd97",
   "metadata": {},
   "outputs": [
    {
     "data": {
      "application/vnd.microsoft.datawrangler.viewer.v0+json": {
       "columns": [
        {
         "name": "index",
         "rawType": "int64",
         "type": "integer"
        },
        {
         "name": "company_id",
         "rawType": "object",
         "type": "string"
        },
        {
         "name": "company_name",
         "rawType": "object",
         "type": "string"
        },
        {
         "name": "phone",
         "rawType": "object",
         "type": "string"
        },
        {
         "name": "email",
         "rawType": "object",
         "type": "string"
        },
        {
         "name": "country",
         "rawType": "object",
         "type": "string"
        },
        {
         "name": "website",
         "rawType": "object",
         "type": "string"
        }
       ],
       "ref": "3b944448-e4af-4feb-9861-0085c144c426",
       "rows": [
        [
         "0",
         "b-2222",
         "Ac Fermentum Incorporated",
         "06 85 56 52 33",
         "donec.porttitor.tellus@yahoo.net",
         "Germany",
         "https://instagram.com/site\r"
        ],
        [
         "1",
         "b-2226",
         "Magna A Neque Industries",
         "04 14 44 64 62",
         "risus.donec.nibh@icloud.org",
         "Australia",
         "https://whatsapp.com/group/9\r"
        ],
        [
         "2",
         "b-2230",
         "Fusce Corp.",
         "08 14 97 58 85",
         "risus@protonmail.edu",
         "United States",
         "https://pinterest.com/sub/cars\r"
        ],
        [
         "3",
         "b-2234",
         "Convallis In Incorporated",
         "06 66 57 29 50",
         "mauris.ut@aol.couk",
         "Germany",
         "https://cnn.com/user/110\r"
        ],
        [
         "4",
         "b-2238",
         "Ante Iaculis Nec Foundation",
         "08 23 04 99 53",
         "sed.dictum.proin@outlook.ca",
         "New Zealand",
         "https://netflix.com/settings\r"
        ]
       ],
       "shape": {
        "columns": 6,
        "rows": 5
       }
      },
      "text/html": [
       "<div>\n",
       "<style scoped>\n",
       "    .dataframe tbody tr th:only-of-type {\n",
       "        vertical-align: middle;\n",
       "    }\n",
       "\n",
       "    .dataframe tbody tr th {\n",
       "        vertical-align: top;\n",
       "    }\n",
       "\n",
       "    .dataframe thead th {\n",
       "        text-align: right;\n",
       "    }\n",
       "</style>\n",
       "<table border=\"1\" class=\"dataframe\">\n",
       "  <thead>\n",
       "    <tr style=\"text-align: right;\">\n",
       "      <th></th>\n",
       "      <th>company_id</th>\n",
       "      <th>company_name</th>\n",
       "      <th>phone</th>\n",
       "      <th>email</th>\n",
       "      <th>country</th>\n",
       "      <th>website</th>\n",
       "    </tr>\n",
       "  </thead>\n",
       "  <tbody>\n",
       "    <tr>\n",
       "      <th>0</th>\n",
       "      <td>b-2222</td>\n",
       "      <td>Ac Fermentum Incorporated</td>\n",
       "      <td>06 85 56 52 33</td>\n",
       "      <td>donec.porttitor.tellus@yahoo.net</td>\n",
       "      <td>Germany</td>\n",
       "      <td>https://instagram.com/site\\r</td>\n",
       "    </tr>\n",
       "    <tr>\n",
       "      <th>1</th>\n",
       "      <td>b-2226</td>\n",
       "      <td>Magna A Neque Industries</td>\n",
       "      <td>04 14 44 64 62</td>\n",
       "      <td>risus.donec.nibh@icloud.org</td>\n",
       "      <td>Australia</td>\n",
       "      <td>https://whatsapp.com/group/9\\r</td>\n",
       "    </tr>\n",
       "    <tr>\n",
       "      <th>2</th>\n",
       "      <td>b-2230</td>\n",
       "      <td>Fusce Corp.</td>\n",
       "      <td>08 14 97 58 85</td>\n",
       "      <td>risus@protonmail.edu</td>\n",
       "      <td>United States</td>\n",
       "      <td>https://pinterest.com/sub/cars\\r</td>\n",
       "    </tr>\n",
       "    <tr>\n",
       "      <th>3</th>\n",
       "      <td>b-2234</td>\n",
       "      <td>Convallis In Incorporated</td>\n",
       "      <td>06 66 57 29 50</td>\n",
       "      <td>mauris.ut@aol.couk</td>\n",
       "      <td>Germany</td>\n",
       "      <td>https://cnn.com/user/110\\r</td>\n",
       "    </tr>\n",
       "    <tr>\n",
       "      <th>4</th>\n",
       "      <td>b-2238</td>\n",
       "      <td>Ante Iaculis Nec Foundation</td>\n",
       "      <td>08 23 04 99 53</td>\n",
       "      <td>sed.dictum.proin@outlook.ca</td>\n",
       "      <td>New Zealand</td>\n",
       "      <td>https://netflix.com/settings\\r</td>\n",
       "    </tr>\n",
       "  </tbody>\n",
       "</table>\n",
       "</div>"
      ],
      "text/plain": [
       "  company_id                 company_name           phone  \\\n",
       "0     b-2222    Ac Fermentum Incorporated  06 85 56 52 33   \n",
       "1     b-2226     Magna A Neque Industries  04 14 44 64 62   \n",
       "2     b-2230                  Fusce Corp.  08 14 97 58 85   \n",
       "3     b-2234    Convallis In Incorporated  06 66 57 29 50   \n",
       "4     b-2238  Ante Iaculis Nec Foundation  08 23 04 99 53   \n",
       "\n",
       "                              email        country  \\\n",
       "0  donec.porttitor.tellus@yahoo.net        Germany   \n",
       "1       risus.donec.nibh@icloud.org      Australia   \n",
       "2              risus@protonmail.edu  United States   \n",
       "3                mauris.ut@aol.couk        Germany   \n",
       "4       sed.dictum.proin@outlook.ca    New Zealand   \n",
       "\n",
       "                            website  \n",
       "0      https://instagram.com/site\\r  \n",
       "1    https://whatsapp.com/group/9\\r  \n",
       "2  https://pinterest.com/sub/cars\\r  \n",
       "3        https://cnn.com/user/110\\r  \n",
       "4    https://netflix.com/settings\\r  "
      ]
     },
     "execution_count": 253,
     "metadata": {},
     "output_type": "execute_result"
    }
   ],
   "source": [
    "#Vemos las 5 primeras filas de companies\n",
    "companies.head()"
   ]
  },
  {
   "cell_type": "code",
   "execution_count": 254,
   "id": "c02260ac",
   "metadata": {},
   "outputs": [
    {
     "data": {
      "application/vnd.microsoft.datawrangler.viewer.v0+json": {
       "columns": [
        {
         "name": "index",
         "rawType": "int64",
         "type": "integer"
        },
        {
         "name": "id",
         "rawType": "object",
         "type": "string"
        },
        {
         "name": "card_id",
         "rawType": "object",
         "type": "string"
        },
        {
         "name": "business_id",
         "rawType": "object",
         "type": "string"
        },
        {
         "name": "timestamp",
         "rawType": "datetime64[ns]",
         "type": "datetime"
        },
        {
         "name": "amount",
         "rawType": "float64",
         "type": "float"
        },
        {
         "name": "declined",
         "rawType": "int64",
         "type": "integer"
        },
        {
         "name": "product_id",
         "rawType": "object",
         "type": "string"
        },
        {
         "name": "user_id",
         "rawType": "int64",
         "type": "integer"
        },
        {
         "name": "lat",
         "rawType": "float64",
         "type": "float"
        },
        {
         "name": "longitude",
         "rawType": "float64",
         "type": "float"
        },
        {
         "name": "company_id",
         "rawType": "object",
         "type": "string"
        },
        {
         "name": "company_name",
         "rawType": "object",
         "type": "string"
        },
        {
         "name": "phone",
         "rawType": "object",
         "type": "string"
        },
        {
         "name": "email",
         "rawType": "object",
         "type": "string"
        },
        {
         "name": "country",
         "rawType": "object",
         "type": "string"
        },
        {
         "name": "website",
         "rawType": "object",
         "type": "string"
        }
       ],
       "ref": "aaac2ed4-b146-4ffe-b374-eb58b0e671fb",
       "rows": [
        [
         "0",
         "02C6201E-D90A-1859-B4EE-88D2986D3B02",
         "CcU-2938",
         "b-2362",
         "2021-08-28 23:42:24",
         "466.92",
         "0",
         "71, 1, 19",
         "92",
         "81.9185",
         "-12.5276",
         "b-2362",
         "Lorem Eu Incorporated",
         "01 83 66 62 07",
         "enim.gravida.sit@hotmail.net",
         "Canada",
         "https://baidu.com/en-ca\r"
        ],
        [
         "1",
         "0466A42E-47CF-8D24-FD01-C0B689713128",
         "CcU-4219",
         "b-2302",
         "2021-07-26 07:29:18",
         "49.53",
         "0",
         "47, 97, 43",
         "170",
         "-43.9695",
         "-117.525",
         "b-2302",
         "Nunc Interdum Incorporated",
         "05 18 15 48 13",
         "non@outlook.com",
         "Germany",
         "https://wikipedia.org/en-us\r"
        ],
        [
         "2",
         "063FBA79-99EC-66FB-29F7-25726D1764A5",
         "CcU-2987",
         "b-2250",
         "2022-01-06 21:25:27",
         "92.61",
         "0",
         "47, 67, 31, 5",
         "275",
         "-81.2227",
         "-129.05",
         "b-2250",
         "Amet Nulla Donec Corporation",
         "07 15 25 14 74",
         "mattis.integer.eu@protonmail.net",
         "Italy",
         "https://netflix.com/sub/cars\r"
        ],
        [
         "3",
         "0668296C-CDB9-A883-76BC-2E4C44F8C8AE",
         "CcU-3743",
         "b-2618",
         "2022-01-26 02:07:14",
         "394.18",
         "0",
         "89, 83, 79",
         "265",
         "-34.3593",
         "-100.556",
         "b-2618",
         "Non Institute",
         "06 77 15 31 14",
         "amet.metus@protonmail.couk",
         "United Kingdom",
         "https://guardian.co.uk/settings\r"
        ],
        [
         "4",
         "06CD9AA5-9B42-D684-DDDD-A5E394FEBA99",
         "CcU-2959",
         "b-2346",
         "2021-10-26 23:00:01",
         "279.93",
         "0",
         "43, 31",
         "92",
         "33.7381",
         "158.298",
         "b-2346",
         "Ut Semper Foundation",
         "01 60 36 33 06",
         "consectetuer@google.ca",
         "Sweden",
         "https://ebay.com/settings\r"
        ]
       ],
       "shape": {
        "columns": 16,
        "rows": 5
       }
      },
      "text/html": [
       "<div>\n",
       "<style scoped>\n",
       "    .dataframe tbody tr th:only-of-type {\n",
       "        vertical-align: middle;\n",
       "    }\n",
       "\n",
       "    .dataframe tbody tr th {\n",
       "        vertical-align: top;\n",
       "    }\n",
       "\n",
       "    .dataframe thead th {\n",
       "        text-align: right;\n",
       "    }\n",
       "</style>\n",
       "<table border=\"1\" class=\"dataframe\">\n",
       "  <thead>\n",
       "    <tr style=\"text-align: right;\">\n",
       "      <th></th>\n",
       "      <th>id</th>\n",
       "      <th>card_id</th>\n",
       "      <th>business_id</th>\n",
       "      <th>timestamp</th>\n",
       "      <th>amount</th>\n",
       "      <th>declined</th>\n",
       "      <th>product_id</th>\n",
       "      <th>user_id</th>\n",
       "      <th>lat</th>\n",
       "      <th>longitude</th>\n",
       "      <th>company_id</th>\n",
       "      <th>company_name</th>\n",
       "      <th>phone</th>\n",
       "      <th>email</th>\n",
       "      <th>country</th>\n",
       "      <th>website</th>\n",
       "    </tr>\n",
       "  </thead>\n",
       "  <tbody>\n",
       "    <tr>\n",
       "      <th>0</th>\n",
       "      <td>02C6201E-D90A-1859-B4EE-88D2986D3B02</td>\n",
       "      <td>CcU-2938</td>\n",
       "      <td>b-2362</td>\n",
       "      <td>2021-08-28 23:42:24</td>\n",
       "      <td>466.92</td>\n",
       "      <td>0</td>\n",
       "      <td>71, 1, 19</td>\n",
       "      <td>92</td>\n",
       "      <td>81.9185</td>\n",
       "      <td>-12.5276</td>\n",
       "      <td>b-2362</td>\n",
       "      <td>Lorem Eu Incorporated</td>\n",
       "      <td>01 83 66 62 07</td>\n",
       "      <td>enim.gravida.sit@hotmail.net</td>\n",
       "      <td>Canada</td>\n",
       "      <td>https://baidu.com/en-ca\\r</td>\n",
       "    </tr>\n",
       "    <tr>\n",
       "      <th>1</th>\n",
       "      <td>0466A42E-47CF-8D24-FD01-C0B689713128</td>\n",
       "      <td>CcU-4219</td>\n",
       "      <td>b-2302</td>\n",
       "      <td>2021-07-26 07:29:18</td>\n",
       "      <td>49.53</td>\n",
       "      <td>0</td>\n",
       "      <td>47, 97, 43</td>\n",
       "      <td>170</td>\n",
       "      <td>-43.9695</td>\n",
       "      <td>-117.5250</td>\n",
       "      <td>b-2302</td>\n",
       "      <td>Nunc Interdum Incorporated</td>\n",
       "      <td>05 18 15 48 13</td>\n",
       "      <td>non@outlook.com</td>\n",
       "      <td>Germany</td>\n",
       "      <td>https://wikipedia.org/en-us\\r</td>\n",
       "    </tr>\n",
       "    <tr>\n",
       "      <th>2</th>\n",
       "      <td>063FBA79-99EC-66FB-29F7-25726D1764A5</td>\n",
       "      <td>CcU-2987</td>\n",
       "      <td>b-2250</td>\n",
       "      <td>2022-01-06 21:25:27</td>\n",
       "      <td>92.61</td>\n",
       "      <td>0</td>\n",
       "      <td>47, 67, 31, 5</td>\n",
       "      <td>275</td>\n",
       "      <td>-81.2227</td>\n",
       "      <td>-129.0500</td>\n",
       "      <td>b-2250</td>\n",
       "      <td>Amet Nulla Donec Corporation</td>\n",
       "      <td>07 15 25 14 74</td>\n",
       "      <td>mattis.integer.eu@protonmail.net</td>\n",
       "      <td>Italy</td>\n",
       "      <td>https://netflix.com/sub/cars\\r</td>\n",
       "    </tr>\n",
       "    <tr>\n",
       "      <th>3</th>\n",
       "      <td>0668296C-CDB9-A883-76BC-2E4C44F8C8AE</td>\n",
       "      <td>CcU-3743</td>\n",
       "      <td>b-2618</td>\n",
       "      <td>2022-01-26 02:07:14</td>\n",
       "      <td>394.18</td>\n",
       "      <td>0</td>\n",
       "      <td>89, 83, 79</td>\n",
       "      <td>265</td>\n",
       "      <td>-34.3593</td>\n",
       "      <td>-100.5560</td>\n",
       "      <td>b-2618</td>\n",
       "      <td>Non Institute</td>\n",
       "      <td>06 77 15 31 14</td>\n",
       "      <td>amet.metus@protonmail.couk</td>\n",
       "      <td>United Kingdom</td>\n",
       "      <td>https://guardian.co.uk/settings\\r</td>\n",
       "    </tr>\n",
       "    <tr>\n",
       "      <th>4</th>\n",
       "      <td>06CD9AA5-9B42-D684-DDDD-A5E394FEBA99</td>\n",
       "      <td>CcU-2959</td>\n",
       "      <td>b-2346</td>\n",
       "      <td>2021-10-26 23:00:01</td>\n",
       "      <td>279.93</td>\n",
       "      <td>0</td>\n",
       "      <td>43, 31</td>\n",
       "      <td>92</td>\n",
       "      <td>33.7381</td>\n",
       "      <td>158.2980</td>\n",
       "      <td>b-2346</td>\n",
       "      <td>Ut Semper Foundation</td>\n",
       "      <td>01 60 36 33 06</td>\n",
       "      <td>consectetuer@google.ca</td>\n",
       "      <td>Sweden</td>\n",
       "      <td>https://ebay.com/settings\\r</td>\n",
       "    </tr>\n",
       "  </tbody>\n",
       "</table>\n",
       "</div>"
      ],
      "text/plain": [
       "                                     id   card_id business_id  \\\n",
       "0  02C6201E-D90A-1859-B4EE-88D2986D3B02  CcU-2938      b-2362   \n",
       "1  0466A42E-47CF-8D24-FD01-C0B689713128  CcU-4219      b-2302   \n",
       "2  063FBA79-99EC-66FB-29F7-25726D1764A5  CcU-2987      b-2250   \n",
       "3  0668296C-CDB9-A883-76BC-2E4C44F8C8AE  CcU-3743      b-2618   \n",
       "4  06CD9AA5-9B42-D684-DDDD-A5E394FEBA99  CcU-2959      b-2346   \n",
       "\n",
       "            timestamp  amount  declined     product_id  user_id      lat  \\\n",
       "0 2021-08-28 23:42:24  466.92         0      71, 1, 19       92  81.9185   \n",
       "1 2021-07-26 07:29:18   49.53         0     47, 97, 43      170 -43.9695   \n",
       "2 2022-01-06 21:25:27   92.61         0  47, 67, 31, 5      275 -81.2227   \n",
       "3 2022-01-26 02:07:14  394.18         0     89, 83, 79      265 -34.3593   \n",
       "4 2021-10-26 23:00:01  279.93         0         43, 31       92  33.7381   \n",
       "\n",
       "   longitude company_id                  company_name           phone  \\\n",
       "0   -12.5276     b-2362         Lorem Eu Incorporated  01 83 66 62 07   \n",
       "1  -117.5250     b-2302    Nunc Interdum Incorporated  05 18 15 48 13   \n",
       "2  -129.0500     b-2250  Amet Nulla Donec Corporation  07 15 25 14 74   \n",
       "3  -100.5560     b-2618                 Non Institute  06 77 15 31 14   \n",
       "4   158.2980     b-2346          Ut Semper Foundation  01 60 36 33 06   \n",
       "\n",
       "                              email         country  \\\n",
       "0      enim.gravida.sit@hotmail.net          Canada   \n",
       "1                   non@outlook.com         Germany   \n",
       "2  mattis.integer.eu@protonmail.net           Italy   \n",
       "3        amet.metus@protonmail.couk  United Kingdom   \n",
       "4            consectetuer@google.ca          Sweden   \n",
       "\n",
       "                             website  \n",
       "0          https://baidu.com/en-ca\\r  \n",
       "1      https://wikipedia.org/en-us\\r  \n",
       "2     https://netflix.com/sub/cars\\r  \n",
       "3  https://guardian.co.uk/settings\\r  \n",
       "4        https://ebay.com/settings\\r  "
      ]
     },
     "execution_count": 254,
     "metadata": {},
     "output_type": "execute_result"
    }
   ],
   "source": [
    "#La unión de la tabla se hace por medio de business_id-company_id y vemos cómo queda\n",
    "\n",
    "transactions_companies=pd.merge(transactions, companies, left_on='business_id', right_on='company_id', how='inner') #inner: use intersection of keys from both frames, similar to a SQL inner join;\n",
    "transactions_companies.head()"
   ]
  },
  {
   "cell_type": "code",
   "execution_count": 255,
   "id": "fbe1b0bd",
   "metadata": {},
   "outputs": [
    {
     "data": {
      "text/plain": [
       "<Axes: xlabel='country'>"
      ]
     },
     "execution_count": 255,
     "metadata": {},
     "output_type": "execute_result"
    },
    {
     "data": {
      "image/png": "[encoded data removed]",
      "text/plain": [
       "<Figure size 640x480 with 1 Axes>"
      ]
     },
     "metadata": {},
     "output_type": "display_data"
    }
   ],
   "source": [
    "#Para el gráfico uso barras\n",
    "\n",
    "transactions_companies.groupby('country')['amount'].mean().plot.bar()"
   ]
  },
  {
   "cell_type": "markdown",
   "id": "e8e858da",
   "metadata": {},
   "source": [
    "En el gráfico podemos ver que los 5 países con media de compra más alta son USA, Irlanda, Canadá, UK y suecia.\n",
    "\n"
   ]
  },
  {
   "cell_type": "markdown",
   "id": "0d980698",
   "metadata": {},
   "source": [
    "<font color=\"violet\">**- Ejercicio 5**</font>\n",
    "\n",
    "Gráfico con dos variables categóricas \n",
    "\n",
    "Vamos a ver las transacciones declinadas y no declinadas realizadas por país."
   ]
  },
  {
   "cell_type": "code",
   "execution_count": 256,
   "id": "cc5a7b93",
   "metadata": {},
   "outputs": [
    {
     "data": {
      "text/plain": [
       "<Axes: xlabel='country'>"
      ]
     },
     "execution_count": 256,
     "metadata": {},
     "output_type": "execute_result"
    },
    {
     "data": {
      "image/png": "[encoded data removed]",
      "text/plain": [
       "<Figure size 640x480 with 1 Axes>"
      ]
     },
     "metadata": {},
     "output_type": "display_data"
    }
   ],
   "source": [
    "#Para el gráfico voy a usar barras apiladas con pandas\n",
    "\n",
    "# como quiero cambiar el nombre del valor de declined uso map para cambiar de forma directa los valores de 0 y 1 a 'No' y 'Sí'\n",
    "\n",
    "transactions_companies['declined'] = transactions_companies['declined'].map({0: 'No', 1: 'Sí'})\n",
    "\n",
    "pd.crosstab(transactions_companies['country'],transactions_companies['declined']).plot.bar(stacked = True, color = ['green','red'])"
   ]
  },
  {
   "cell_type": "markdown",
   "id": "fb570ac8",
   "metadata": {},
   "source": [
    "<font color=\"violet\">**- Ejercicio 6**</font>\n",
    "\n",
    "Gráfico con 3 variables "
   ]
  },
  {
   "cell_type": "code",
   "execution_count": null,
   "id": "fcceef2c",
   "metadata": {},
   "outputs": [
    {
     "data": {
      "image/png": "[encoded data removed]",
      "text/plain": [
       "<Figure size 1000x600 with 1 Axes>"
      ]
     },
     "metadata": {},
     "output_type": "display_data"
    }
   ],
   "source": [
    "# Resumo por el top 5 de países con mayor importe total\n",
    "\n",
    "top_5_countries = (\n",
    "    transactions_companies.groupby('country')['amount']\n",
    "    .sum()\n",
    "    .sort_values(ascending=False)\n",
    "    .head(5)\n",
    "    .index\n",
    ")\n",
    "\n",
    "\n",
    "#Filtro el DataFrame para incluir solo esos países\n",
    "transactions_companies_filtered = transactions_companies[transactions_companies['country'].isin(top_5_countries)]\n",
    "\n",
    "\n",
    "# Grafico el boxplot\n",
    "plt.figure(figsize=(10, 6))\n",
    "sns.boxplot(data= transactions_companies_filtered, x ='country', y ='amount',hue='declined') #como en el ejercicio anterior remapee la columna declined, ahora coge los valores como 0: 'No', 1: 'Sí'\n",
    "\n",
    "plt.title('Ventas por país (Top 5)')\n",
    "plt.tight_layout()\n",
    "plt.show()"
   ]
  },
  {
   "cell_type": "markdown",
   "id": "c0d8ab02",
   "metadata": {},
   "source": [
    "En el gráfico podemos observar que la media de ventas es similar en estos países situándose entre 200 -300 €.\n",
    "El país con más transacciones rechazadas es reino unido.\n",
    "\n"
   ]
  },
  {
   "cell_type": "markdown",
   "id": "b67c2851",
   "metadata": {},
   "source": [
    "<font color=\"violet\">**- Ejercicio 7**</font>\n",
    "\n",
    "Graficar un Pairplot.\n",
    "\n",
    "Ya que el pairplot es útil para visualizar relaciones entre múltiples variables numéricas y contiene parámetros (ex. hue) para incluir variables categóricas y ver cómo la relación entre variables numéricas varía según la categoría, vamos a ver cómo se comporta la compra según la edad de los compradores. "
   ]
  },
  {
   "cell_type": "code",
   "execution_count": 258,
   "id": "ce9b769c",
   "metadata": {},
   "outputs": [
    {
     "data": {
      "application/vnd.microsoft.datawrangler.viewer.v0+json": {
       "columns": [
        {
         "name": "index",
         "rawType": "int64",
         "type": "integer"
        },
        {
         "name": "id",
         "rawType": "int64",
         "type": "integer"
        },
        {
         "name": "name",
         "rawType": "object",
         "type": "string"
        },
        {
         "name": "surname",
         "rawType": "object",
         "type": "string"
        },
        {
         "name": "phone",
         "rawType": "object",
         "type": "string"
        },
        {
         "name": "personal_email",
         "rawType": "object",
         "type": "string"
        },
        {
         "name": "birth_date",
         "rawType": "object",
         "type": "unknown"
        },
        {
         "name": "country",
         "rawType": "object",
         "type": "string"
        },
        {
         "name": "city",
         "rawType": "object",
         "type": "string"
        },
        {
         "name": "postal_code",
         "rawType": "object",
         "type": "string"
        },
        {
         "name": "address",
         "rawType": "object",
         "type": "string"
        }
       ],
       "ref": "ad227fe6-3906-4a6d-96ac-142435d16d9c",
       "rows": [
        [
         "0",
         "1",
         "Zeus",
         "Gamble",
         "1-282-581-0551",
         "interdum.enim@protonmail.edu",
         "1985-11-17",
         "United States",
         "Lowell",
         "73544",
         "348-7818 Sagittis St."
        ],
        [
         "1",
         "2",
         "Garrett",
         "Mcconnell",
         "(718) 257-2412",
         "integer.vitae.nibh@protonmail.org",
         "1992-08-23",
         "United States",
         "Des Moines",
         "59464",
         "903 Sit Ave"
        ],
        [
         "2",
         "3",
         "Ciaran",
         "Harrison",
         "(522) 598-1365",
         "interdum.feugiat@aol.org",
         "1998-04-29",
         "United States",
         "Columbus",
         "56518",
         "736-2063 Tellus St."
        ],
        [
         "3",
         "4",
         "Howard",
         "Stafford",
         "1-411-740-3269",
         "ornare.egestas@icloud.edu",
         "1989-02-18",
         "United States",
         "Kailua",
         "77417",
         "Ap #545-2244 Erat. Rd."
        ],
        [
         "4",
         "5",
         "Hayfa",
         "Pierce",
         "1-554-541-2077",
         "et.malesuada.fames@hotmail.org",
         "1998-09-26",
         "United States",
         "Sandy",
         "31564",
         "341-2821 Ultrices Av."
        ]
       ],
       "shape": {
        "columns": 10,
        "rows": 5
       }
      },
      "text/html": [
       "<div>\n",
       "<style scoped>\n",
       "    .dataframe tbody tr th:only-of-type {\n",
       "        vertical-align: middle;\n",
       "    }\n",
       "\n",
       "    .dataframe tbody tr th {\n",
       "        vertical-align: top;\n",
       "    }\n",
       "\n",
       "    .dataframe thead th {\n",
       "        text-align: right;\n",
       "    }\n",
       "</style>\n",
       "<table border=\"1\" class=\"dataframe\">\n",
       "  <thead>\n",
       "    <tr style=\"text-align: right;\">\n",
       "      <th></th>\n",
       "      <th>id</th>\n",
       "      <th>name</th>\n",
       "      <th>surname</th>\n",
       "      <th>phone</th>\n",
       "      <th>personal_email</th>\n",
       "      <th>birth_date</th>\n",
       "      <th>country</th>\n",
       "      <th>city</th>\n",
       "      <th>postal_code</th>\n",
       "      <th>address</th>\n",
       "    </tr>\n",
       "  </thead>\n",
       "  <tbody>\n",
       "    <tr>\n",
       "      <th>0</th>\n",
       "      <td>1</td>\n",
       "      <td>Zeus</td>\n",
       "      <td>Gamble</td>\n",
       "      <td>1-282-581-0551</td>\n",
       "      <td>interdum.enim@protonmail.edu</td>\n",
       "      <td>1985-11-17</td>\n",
       "      <td>United States</td>\n",
       "      <td>Lowell</td>\n",
       "      <td>73544</td>\n",
       "      <td>348-7818 Sagittis St.</td>\n",
       "    </tr>\n",
       "    <tr>\n",
       "      <th>1</th>\n",
       "      <td>2</td>\n",
       "      <td>Garrett</td>\n",
       "      <td>Mcconnell</td>\n",
       "      <td>(718) 257-2412</td>\n",
       "      <td>integer.vitae.nibh@protonmail.org</td>\n",
       "      <td>1992-08-23</td>\n",
       "      <td>United States</td>\n",
       "      <td>Des Moines</td>\n",
       "      <td>59464</td>\n",
       "      <td>903 Sit Ave</td>\n",
       "    </tr>\n",
       "    <tr>\n",
       "      <th>2</th>\n",
       "      <td>3</td>\n",
       "      <td>Ciaran</td>\n",
       "      <td>Harrison</td>\n",
       "      <td>(522) 598-1365</td>\n",
       "      <td>interdum.feugiat@aol.org</td>\n",
       "      <td>1998-04-29</td>\n",
       "      <td>United States</td>\n",
       "      <td>Columbus</td>\n",
       "      <td>56518</td>\n",
       "      <td>736-2063 Tellus St.</td>\n",
       "    </tr>\n",
       "    <tr>\n",
       "      <th>3</th>\n",
       "      <td>4</td>\n",
       "      <td>Howard</td>\n",
       "      <td>Stafford</td>\n",
       "      <td>1-411-740-3269</td>\n",
       "      <td>ornare.egestas@icloud.edu</td>\n",
       "      <td>1989-02-18</td>\n",
       "      <td>United States</td>\n",
       "      <td>Kailua</td>\n",
       "      <td>77417</td>\n",
       "      <td>Ap #545-2244 Erat. Rd.</td>\n",
       "    </tr>\n",
       "    <tr>\n",
       "      <th>4</th>\n",
       "      <td>5</td>\n",
       "      <td>Hayfa</td>\n",
       "      <td>Pierce</td>\n",
       "      <td>1-554-541-2077</td>\n",
       "      <td>et.malesuada.fames@hotmail.org</td>\n",
       "      <td>1998-09-26</td>\n",
       "      <td>United States</td>\n",
       "      <td>Sandy</td>\n",
       "      <td>31564</td>\n",
       "      <td>341-2821 Ultrices Av.</td>\n",
       "    </tr>\n",
       "  </tbody>\n",
       "</table>\n",
       "</div>"
      ],
      "text/plain": [
       "   id     name    surname           phone                     personal_email  \\\n",
       "0   1     Zeus     Gamble  1-282-581-0551       interdum.enim@protonmail.edu   \n",
       "1   2  Garrett  Mcconnell  (718) 257-2412  integer.vitae.nibh@protonmail.org   \n",
       "2   3   Ciaran   Harrison  (522) 598-1365           interdum.feugiat@aol.org   \n",
       "3   4   Howard   Stafford  1-411-740-3269          ornare.egestas@icloud.edu   \n",
       "4   5    Hayfa     Pierce  1-554-541-2077     et.malesuada.fames@hotmail.org   \n",
       "\n",
       "   birth_date        country        city postal_code                 address  \n",
       "0  1985-11-17  United States      Lowell       73544   348-7818 Sagittis St.  \n",
       "1  1992-08-23  United States  Des Moines       59464             903 Sit Ave  \n",
       "2  1998-04-29  United States    Columbus       56518     736-2063 Tellus St.  \n",
       "3  1989-02-18  United States      Kailua       77417  Ap #545-2244 Erat. Rd.  \n",
       "4  1998-09-26  United States       Sandy       31564   341-2821 Ultrices Av.  "
      ]
     },
     "execution_count": 258,
     "metadata": {},
     "output_type": "execute_result"
    }
   ],
   "source": [
    "#Reviso la tabla users:\n",
    "\n",
    "users.head()"
   ]
  },
  {
   "cell_type": "code",
   "execution_count": 259,
   "id": "5390e0a5",
   "metadata": {},
   "outputs": [
    {
     "data": {
      "application/vnd.microsoft.datawrangler.viewer.v0+json": {
       "columns": [
        {
         "name": "index",
         "rawType": "int64",
         "type": "integer"
        },
        {
         "name": "user_id",
         "rawType": "int64",
         "type": "integer"
        },
        {
         "name": "name",
         "rawType": "object",
         "type": "string"
        },
        {
         "name": "surname",
         "rawType": "object",
         "type": "string"
        },
        {
         "name": "phone",
         "rawType": "object",
         "type": "string"
        },
        {
         "name": "personal_email",
         "rawType": "object",
         "type": "string"
        },
        {
         "name": "birth_date",
         "rawType": "datetime64[ns]",
         "type": "datetime"
        },
        {
         "name": "country",
         "rawType": "object",
         "type": "string"
        },
        {
         "name": "city",
         "rawType": "object",
         "type": "string"
        },
        {
         "name": "postal_code",
         "rawType": "object",
         "type": "string"
        },
        {
         "name": "address",
         "rawType": "object",
         "type": "string"
        },
        {
         "name": "age",
         "rawType": "int32",
         "type": "integer"
        }
       ],
       "ref": "93484715-5b64-44e9-a5da-0712e503fca6",
       "rows": [
        [
         "0",
         "1",
         "Zeus",
         "Gamble",
         "1-282-581-0551",
         "interdum.enim@protonmail.edu",
         "1985-11-17 00:00:00",
         "United States",
         "Lowell",
         "73544",
         "348-7818 Sagittis St.",
         "40"
        ],
        [
         "1",
         "2",
         "Garrett",
         "Mcconnell",
         "(718) 257-2412",
         "integer.vitae.nibh@protonmail.org",
         "1992-08-23 00:00:00",
         "United States",
         "Des Moines",
         "59464",
         "903 Sit Ave",
         "33"
        ],
        [
         "2",
         "3",
         "Ciaran",
         "Harrison",
         "(522) 598-1365",
         "interdum.feugiat@aol.org",
         "1998-04-29 00:00:00",
         "United States",
         "Columbus",
         "56518",
         "736-2063 Tellus St.",
         "27"
        ],
        [
         "3",
         "4",
         "Howard",
         "Stafford",
         "1-411-740-3269",
         "ornare.egestas@icloud.edu",
         "1989-02-18 00:00:00",
         "United States",
         "Kailua",
         "77417",
         "Ap #545-2244 Erat. Rd.",
         "36"
        ],
        [
         "4",
         "5",
         "Hayfa",
         "Pierce",
         "1-554-541-2077",
         "et.malesuada.fames@hotmail.org",
         "1998-09-26 00:00:00",
         "United States",
         "Sandy",
         "31564",
         "341-2821 Ultrices Av.",
         "27"
        ]
       ],
       "shape": {
        "columns": 11,
        "rows": 5
       }
      },
      "text/html": [
       "<div>\n",
       "<style scoped>\n",
       "    .dataframe tbody tr th:only-of-type {\n",
       "        vertical-align: middle;\n",
       "    }\n",
       "\n",
       "    .dataframe tbody tr th {\n",
       "        vertical-align: top;\n",
       "    }\n",
       "\n",
       "    .dataframe thead th {\n",
       "        text-align: right;\n",
       "    }\n",
       "</style>\n",
       "<table border=\"1\" class=\"dataframe\">\n",
       "  <thead>\n",
       "    <tr style=\"text-align: right;\">\n",
       "      <th></th>\n",
       "      <th>user_id</th>\n",
       "      <th>name</th>\n",
       "      <th>surname</th>\n",
       "      <th>phone</th>\n",
       "      <th>personal_email</th>\n",
       "      <th>birth_date</th>\n",
       "      <th>country</th>\n",
       "      <th>city</th>\n",
       "      <th>postal_code</th>\n",
       "      <th>address</th>\n",
       "      <th>age</th>\n",
       "    </tr>\n",
       "  </thead>\n",
       "  <tbody>\n",
       "    <tr>\n",
       "      <th>0</th>\n",
       "      <td>1</td>\n",
       "      <td>Zeus</td>\n",
       "      <td>Gamble</td>\n",
       "      <td>1-282-581-0551</td>\n",
       "      <td>interdum.enim@protonmail.edu</td>\n",
       "      <td>1985-11-17</td>\n",
       "      <td>United States</td>\n",
       "      <td>Lowell</td>\n",
       "      <td>73544</td>\n",
       "      <td>348-7818 Sagittis St.</td>\n",
       "      <td>40</td>\n",
       "    </tr>\n",
       "    <tr>\n",
       "      <th>1</th>\n",
       "      <td>2</td>\n",
       "      <td>Garrett</td>\n",
       "      <td>Mcconnell</td>\n",
       "      <td>(718) 257-2412</td>\n",
       "      <td>integer.vitae.nibh@protonmail.org</td>\n",
       "      <td>1992-08-23</td>\n",
       "      <td>United States</td>\n",
       "      <td>Des Moines</td>\n",
       "      <td>59464</td>\n",
       "      <td>903 Sit Ave</td>\n",
       "      <td>33</td>\n",
       "    </tr>\n",
       "    <tr>\n",
       "      <th>2</th>\n",
       "      <td>3</td>\n",
       "      <td>Ciaran</td>\n",
       "      <td>Harrison</td>\n",
       "      <td>(522) 598-1365</td>\n",
       "      <td>interdum.feugiat@aol.org</td>\n",
       "      <td>1998-04-29</td>\n",
       "      <td>United States</td>\n",
       "      <td>Columbus</td>\n",
       "      <td>56518</td>\n",
       "      <td>736-2063 Tellus St.</td>\n",
       "      <td>27</td>\n",
       "    </tr>\n",
       "    <tr>\n",
       "      <th>3</th>\n",
       "      <td>4</td>\n",
       "      <td>Howard</td>\n",
       "      <td>Stafford</td>\n",
       "      <td>1-411-740-3269</td>\n",
       "      <td>ornare.egestas@icloud.edu</td>\n",
       "      <td>1989-02-18</td>\n",
       "      <td>United States</td>\n",
       "      <td>Kailua</td>\n",
       "      <td>77417</td>\n",
       "      <td>Ap #545-2244 Erat. Rd.</td>\n",
       "      <td>36</td>\n",
       "    </tr>\n",
       "    <tr>\n",
       "      <th>4</th>\n",
       "      <td>5</td>\n",
       "      <td>Hayfa</td>\n",
       "      <td>Pierce</td>\n",
       "      <td>1-554-541-2077</td>\n",
       "      <td>et.malesuada.fames@hotmail.org</td>\n",
       "      <td>1998-09-26</td>\n",
       "      <td>United States</td>\n",
       "      <td>Sandy</td>\n",
       "      <td>31564</td>\n",
       "      <td>341-2821 Ultrices Av.</td>\n",
       "      <td>27</td>\n",
       "    </tr>\n",
       "  </tbody>\n",
       "</table>\n",
       "</div>"
      ],
      "text/plain": [
       "   user_id     name    surname           phone  \\\n",
       "0        1     Zeus     Gamble  1-282-581-0551   \n",
       "1        2  Garrett  Mcconnell  (718) 257-2412   \n",
       "2        3   Ciaran   Harrison  (522) 598-1365   \n",
       "3        4   Howard   Stafford  1-411-740-3269   \n",
       "4        5    Hayfa     Pierce  1-554-541-2077   \n",
       "\n",
       "                      personal_email birth_date        country        city  \\\n",
       "0       interdum.enim@protonmail.edu 1985-11-17  United States      Lowell   \n",
       "1  integer.vitae.nibh@protonmail.org 1992-08-23  United States  Des Moines   \n",
       "2           interdum.feugiat@aol.org 1998-04-29  United States    Columbus   \n",
       "3          ornare.egestas@icloud.edu 1989-02-18  United States      Kailua   \n",
       "4     et.malesuada.fames@hotmail.org 1998-09-26  United States       Sandy   \n",
       "\n",
       "  postal_code                 address  age  \n",
       "0       73544   348-7818 Sagittis St.   40  \n",
       "1       59464             903 Sit Ave   33  \n",
       "2       56518     736-2063 Tellus St.   27  \n",
       "3       77417  Ap #545-2244 Erat. Rd.   36  \n",
       "4       31564   341-2821 Ultrices Av.   27  "
      ]
     },
     "execution_count": 259,
     "metadata": {},
     "output_type": "execute_result"
    }
   ],
   "source": [
    "#Para poder calcular la edad de los usuarios primero debo convertir la columna birth_date a fecha para poder operar con los datos\n",
    "\n",
    "#Cambio el tipo de dato de la columna fecha y lo sobreescribo\n",
    "\n",
    "users['birth_date'] = pd.to_datetime(users.birth_date)\n",
    "\n",
    "#Creo una columna que contenga la edad de los usuarios. Resto la fecha actual a la de nacimiento para saber la edad\n",
    "users['age'] = (datetime.now().year - users['birth_date'].dt.year)\n",
    "\n",
    "#Cambio el nombre de la columna id por user_id:\n",
    "\n",
    "users.rename(columns= {'id': 'user_id'}, inplace=True) #nombre antiguo:nombre nuevo\n",
    "\n",
    "users.head()"
   ]
  },
  {
   "cell_type": "code",
   "execution_count": 260,
   "id": "0b13b865",
   "metadata": {},
   "outputs": [
    {
     "data": {
      "application/vnd.microsoft.datawrangler.viewer.v0+json": {
       "columns": [
        {
         "name": "index",
         "rawType": "int64",
         "type": "integer"
        },
        {
         "name": "transactions_id",
         "rawType": "object",
         "type": "string"
        },
        {
         "name": "card_id",
         "rawType": "object",
         "type": "string"
        },
        {
         "name": "business_id",
         "rawType": "object",
         "type": "string"
        },
        {
         "name": "timestamp",
         "rawType": "datetime64[ns]",
         "type": "datetime"
        },
        {
         "name": "amount",
         "rawType": "float64",
         "type": "float"
        },
        {
         "name": "declined",
         "rawType": "int64",
         "type": "integer"
        },
        {
         "name": "product_id",
         "rawType": "object",
         "type": "string"
        },
        {
         "name": "user_id",
         "rawType": "int64",
         "type": "integer"
        },
        {
         "name": "lat",
         "rawType": "float64",
         "type": "float"
        },
        {
         "name": "longitude",
         "rawType": "float64",
         "type": "float"
        }
       ],
       "ref": "7b2ddae8-7814-45b0-ad02-be5d2bc4fe4d",
       "rows": [
        [
         "0",
         "02C6201E-D90A-1859-B4EE-88D2986D3B02",
         "CcU-2938",
         "b-2362",
         "2021-08-28 23:42:24",
         "466.92",
         "0",
         "71, 1, 19",
         "92",
         "81.9185",
         "-12.5276"
        ],
        [
         "1",
         "0466A42E-47CF-8D24-FD01-C0B689713128",
         "CcU-4219",
         "b-2302",
         "2021-07-26 07:29:18",
         "49.53",
         "0",
         "47, 97, 43",
         "170",
         "-43.9695",
         "-117.525"
        ],
        [
         "2",
         "063FBA79-99EC-66FB-29F7-25726D1764A5",
         "CcU-2987",
         "b-2250",
         "2022-01-06 21:25:27",
         "92.61",
         "0",
         "47, 67, 31, 5",
         "275",
         "-81.2227",
         "-129.05"
        ],
        [
         "3",
         "0668296C-CDB9-A883-76BC-2E4C44F8C8AE",
         "CcU-3743",
         "b-2618",
         "2022-01-26 02:07:14",
         "394.18",
         "0",
         "89, 83, 79",
         "265",
         "-34.3593",
         "-100.556"
        ],
        [
         "4",
         "06CD9AA5-9B42-D684-DDDD-A5E394FEBA99",
         "CcU-2959",
         "b-2346",
         "2021-10-26 23:00:01",
         "279.93",
         "0",
         "43, 31",
         "92",
         "33.7381",
         "158.298"
        ]
       ],
       "shape": {
        "columns": 10,
        "rows": 5
       }
      },
      "text/html": [
       "<div>\n",
       "<style scoped>\n",
       "    .dataframe tbody tr th:only-of-type {\n",
       "        vertical-align: middle;\n",
       "    }\n",
       "\n",
       "    .dataframe tbody tr th {\n",
       "        vertical-align: top;\n",
       "    }\n",
       "\n",
       "    .dataframe thead th {\n",
       "        text-align: right;\n",
       "    }\n",
       "</style>\n",
       "<table border=\"1\" class=\"dataframe\">\n",
       "  <thead>\n",
       "    <tr style=\"text-align: right;\">\n",
       "      <th></th>\n",
       "      <th>transactions_id</th>\n",
       "      <th>card_id</th>\n",
       "      <th>business_id</th>\n",
       "      <th>timestamp</th>\n",
       "      <th>amount</th>\n",
       "      <th>declined</th>\n",
       "      <th>product_id</th>\n",
       "      <th>user_id</th>\n",
       "      <th>lat</th>\n",
       "      <th>longitude</th>\n",
       "    </tr>\n",
       "  </thead>\n",
       "  <tbody>\n",
       "    <tr>\n",
       "      <th>0</th>\n",
       "      <td>02C6201E-D90A-1859-B4EE-88D2986D3B02</td>\n",
       "      <td>CcU-2938</td>\n",
       "      <td>b-2362</td>\n",
       "      <td>2021-08-28 23:42:24</td>\n",
       "      <td>466.92</td>\n",
       "      <td>0</td>\n",
       "      <td>71, 1, 19</td>\n",
       "      <td>92</td>\n",
       "      <td>81.9185</td>\n",
       "      <td>-12.5276</td>\n",
       "    </tr>\n",
       "    <tr>\n",
       "      <th>1</th>\n",
       "      <td>0466A42E-47CF-8D24-FD01-C0B689713128</td>\n",
       "      <td>CcU-4219</td>\n",
       "      <td>b-2302</td>\n",
       "      <td>2021-07-26 07:29:18</td>\n",
       "      <td>49.53</td>\n",
       "      <td>0</td>\n",
       "      <td>47, 97, 43</td>\n",
       "      <td>170</td>\n",
       "      <td>-43.9695</td>\n",
       "      <td>-117.5250</td>\n",
       "    </tr>\n",
       "    <tr>\n",
       "      <th>2</th>\n",
       "      <td>063FBA79-99EC-66FB-29F7-25726D1764A5</td>\n",
       "      <td>CcU-2987</td>\n",
       "      <td>b-2250</td>\n",
       "      <td>2022-01-06 21:25:27</td>\n",
       "      <td>92.61</td>\n",
       "      <td>0</td>\n",
       "      <td>47, 67, 31, 5</td>\n",
       "      <td>275</td>\n",
       "      <td>-81.2227</td>\n",
       "      <td>-129.0500</td>\n",
       "    </tr>\n",
       "    <tr>\n",
       "      <th>3</th>\n",
       "      <td>0668296C-CDB9-A883-76BC-2E4C44F8C8AE</td>\n",
       "      <td>CcU-3743</td>\n",
       "      <td>b-2618</td>\n",
       "      <td>2022-01-26 02:07:14</td>\n",
       "      <td>394.18</td>\n",
       "      <td>0</td>\n",
       "      <td>89, 83, 79</td>\n",
       "      <td>265</td>\n",
       "      <td>-34.3593</td>\n",
       "      <td>-100.5560</td>\n",
       "    </tr>\n",
       "    <tr>\n",
       "      <th>4</th>\n",
       "      <td>06CD9AA5-9B42-D684-DDDD-A5E394FEBA99</td>\n",
       "      <td>CcU-2959</td>\n",
       "      <td>b-2346</td>\n",
       "      <td>2021-10-26 23:00:01</td>\n",
       "      <td>279.93</td>\n",
       "      <td>0</td>\n",
       "      <td>43, 31</td>\n",
       "      <td>92</td>\n",
       "      <td>33.7381</td>\n",
       "      <td>158.2980</td>\n",
       "    </tr>\n",
       "  </tbody>\n",
       "</table>\n",
       "</div>"
      ],
      "text/plain": [
       "                        transactions_id   card_id business_id  \\\n",
       "0  02C6201E-D90A-1859-B4EE-88D2986D3B02  CcU-2938      b-2362   \n",
       "1  0466A42E-47CF-8D24-FD01-C0B689713128  CcU-4219      b-2302   \n",
       "2  063FBA79-99EC-66FB-29F7-25726D1764A5  CcU-2987      b-2250   \n",
       "3  0668296C-CDB9-A883-76BC-2E4C44F8C8AE  CcU-3743      b-2618   \n",
       "4  06CD9AA5-9B42-D684-DDDD-A5E394FEBA99  CcU-2959      b-2346   \n",
       "\n",
       "            timestamp  amount  declined     product_id  user_id      lat  \\\n",
       "0 2021-08-28 23:42:24  466.92         0      71, 1, 19       92  81.9185   \n",
       "1 2021-07-26 07:29:18   49.53         0     47, 97, 43      170 -43.9695   \n",
       "2 2022-01-06 21:25:27   92.61         0  47, 67, 31, 5      275 -81.2227   \n",
       "3 2022-01-26 02:07:14  394.18         0     89, 83, 79      265 -34.3593   \n",
       "4 2021-10-26 23:00:01  279.93         0         43, 31       92  33.7381   \n",
       "\n",
       "   longitude  \n",
       "0   -12.5276  \n",
       "1  -117.5250  \n",
       "2  -129.0500  \n",
       "3  -100.5560  \n",
       "4   158.2980  "
      ]
     },
     "execution_count": 260,
     "metadata": {},
     "output_type": "execute_result"
    }
   ],
   "source": [
    "#modifico el nombre de la columna id de transactions:\n",
    "transactions.rename(columns= {'id': 'transactions_id'}, inplace=True)\n",
    "transactions.head()"
   ]
  },
  {
   "cell_type": "code",
   "execution_count": 261,
   "id": "5363ddf2",
   "metadata": {},
   "outputs": [
    {
     "data": {
      "application/vnd.microsoft.datawrangler.viewer.v0+json": {
       "columns": [
        {
         "name": "index",
         "rawType": "int64",
         "type": "integer"
        },
        {
         "name": "transactions_id",
         "rawType": "object",
         "type": "string"
        },
        {
         "name": "user_id",
         "rawType": "int64",
         "type": "integer"
        },
        {
         "name": "amount",
         "rawType": "float64",
         "type": "float"
        },
        {
         "name": "declined",
         "rawType": "int64",
         "type": "integer"
        },
        {
         "name": "age",
         "rawType": "int32",
         "type": "integer"
        },
        {
         "name": "country",
         "rawType": "object",
         "type": "string"
        }
       ],
       "ref": "eddcaad0-f2e5-495b-9a29-60f51b638835",
       "rows": [
        [
         "0",
         "02C6201E-D90A-1859-B4EE-88D2986D3B02",
         "92",
         "466.92",
         "0",
         "41",
         "United States"
        ],
        [
         "1",
         "0466A42E-47CF-8D24-FD01-C0B689713128",
         "170",
         "49.53",
         "0",
         "38",
         "United Kingdom"
        ],
        [
         "2",
         "063FBA79-99EC-66FB-29F7-25726D1764A5",
         "275",
         "92.61",
         "0",
         "43",
         "Canada"
        ],
        [
         "3",
         "0668296C-CDB9-A883-76BC-2E4C44F8C8AE",
         "265",
         "394.18",
         "0",
         "26",
         "Canada"
        ],
        [
         "4",
         "06CD9AA5-9B42-D684-DDDD-A5E394FEBA99",
         "92",
         "279.93",
         "0",
         "41",
         "United States"
        ]
       ],
       "shape": {
        "columns": 6,
        "rows": 5
       }
      },
      "text/html": [
       "<div>\n",
       "<style scoped>\n",
       "    .dataframe tbody tr th:only-of-type {\n",
       "        vertical-align: middle;\n",
       "    }\n",
       "\n",
       "    .dataframe tbody tr th {\n",
       "        vertical-align: top;\n",
       "    }\n",
       "\n",
       "    .dataframe thead th {\n",
       "        text-align: right;\n",
       "    }\n",
       "</style>\n",
       "<table border=\"1\" class=\"dataframe\">\n",
       "  <thead>\n",
       "    <tr style=\"text-align: right;\">\n",
       "      <th></th>\n",
       "      <th>transactions_id</th>\n",
       "      <th>user_id</th>\n",
       "      <th>amount</th>\n",
       "      <th>declined</th>\n",
       "      <th>age</th>\n",
       "      <th>country</th>\n",
       "    </tr>\n",
       "  </thead>\n",
       "  <tbody>\n",
       "    <tr>\n",
       "      <th>0</th>\n",
       "      <td>02C6201E-D90A-1859-B4EE-88D2986D3B02</td>\n",
       "      <td>92</td>\n",
       "      <td>466.92</td>\n",
       "      <td>0</td>\n",
       "      <td>41</td>\n",
       "      <td>United States</td>\n",
       "    </tr>\n",
       "    <tr>\n",
       "      <th>1</th>\n",
       "      <td>0466A42E-47CF-8D24-FD01-C0B689713128</td>\n",
       "      <td>170</td>\n",
       "      <td>49.53</td>\n",
       "      <td>0</td>\n",
       "      <td>38</td>\n",
       "      <td>United Kingdom</td>\n",
       "    </tr>\n",
       "    <tr>\n",
       "      <th>2</th>\n",
       "      <td>063FBA79-99EC-66FB-29F7-25726D1764A5</td>\n",
       "      <td>275</td>\n",
       "      <td>92.61</td>\n",
       "      <td>0</td>\n",
       "      <td>43</td>\n",
       "      <td>Canada</td>\n",
       "    </tr>\n",
       "    <tr>\n",
       "      <th>3</th>\n",
       "      <td>0668296C-CDB9-A883-76BC-2E4C44F8C8AE</td>\n",
       "      <td>265</td>\n",
       "      <td>394.18</td>\n",
       "      <td>0</td>\n",
       "      <td>26</td>\n",
       "      <td>Canada</td>\n",
       "    </tr>\n",
       "    <tr>\n",
       "      <th>4</th>\n",
       "      <td>06CD9AA5-9B42-D684-DDDD-A5E394FEBA99</td>\n",
       "      <td>92</td>\n",
       "      <td>279.93</td>\n",
       "      <td>0</td>\n",
       "      <td>41</td>\n",
       "      <td>United States</td>\n",
       "    </tr>\n",
       "  </tbody>\n",
       "</table>\n",
       "</div>"
      ],
      "text/plain": [
       "                        transactions_id  user_id  amount  declined  age  \\\n",
       "0  02C6201E-D90A-1859-B4EE-88D2986D3B02       92  466.92         0   41   \n",
       "1  0466A42E-47CF-8D24-FD01-C0B689713128      170   49.53         0   38   \n",
       "2  063FBA79-99EC-66FB-29F7-25726D1764A5      275   92.61         0   43   \n",
       "3  0668296C-CDB9-A883-76BC-2E4C44F8C8AE      265  394.18         0   26   \n",
       "4  06CD9AA5-9B42-D684-DDDD-A5E394FEBA99       92  279.93         0   41   \n",
       "\n",
       "          country  \n",
       "0   United States  \n",
       "1  United Kingdom  \n",
       "2          Canada  \n",
       "3          Canada  \n",
       "4   United States  "
      ]
     },
     "execution_count": 261,
     "metadata": {},
     "output_type": "execute_result"
    }
   ],
   "source": [
    "#Uno la tabla transactions con la de users pero solo con las columnas que me interesan y hago un nuevo data frame:\n",
    "\n",
    "transactions['declined'] = transactions_companies['declined'].map({'No': 0 , 'Sí': 1})\n",
    "\n",
    "T_transact = transactions[['transactions_id','user_id','amount','declined']]\n",
    "U_users = users[['user_id','age','country']]\n",
    "\n",
    "datos_pairplot = pd.merge(T_transact, U_users, on='user_id', how='inner')\n",
    "\n",
    "datos_pairplot.head()"
   ]
  },
  {
   "cell_type": "code",
   "execution_count": 262,
   "id": "cdffe96a",
   "metadata": {},
   "outputs": [
    {
     "data": {
      "image/png": "[encoded data removed]",
      "text/plain": [
       "<Figure size 569.986x500 with 6 Axes>"
      ]
     },
     "metadata": {},
     "output_type": "display_data"
    }
   ],
   "source": [
    "#creo el pairplot\n",
    "sns.pairplot(datos_pairplot, vars= ['amount','age'], hue='declined', palette=['green', 'red']);\n",
    "              "
   ]
  },
  {
   "cell_type": "markdown",
   "id": "4f774024",
   "metadata": {},
   "source": [
    "El grupo de edad entre los 34-36 son los que más concentran operaciones rechazadas"
   ]
  },
  {
   "cell_type": "markdown",
   "id": "800aeb41",
   "metadata": {},
   "source": [
    "# <font color=\"violet\">**Nivel 2**</font>\n"
   ]
  },
  {
   "cell_type": "markdown",
   "id": "5025f0e6",
   "metadata": {},
   "source": [
    "<font color=\"violet\">**- Ejercicio 1**</font>\n",
    "\n",
    "Correlación de todas las variables numéricas.\n",
    "\n",
    "Para este análisis usaré las variables amount, weight y productos por transacción."
   ]
  },
  {
   "cell_type": "markdown",
   "id": "8b5d0b25",
   "metadata": {},
   "source": [
    "*El primer paso es trabajar los datos y agruparlos para crear el data frame que necesito*"
   ]
  },
  {
   "cell_type": "code",
   "execution_count": 326,
   "id": "2b2b77f4",
   "metadata": {},
   "outputs": [
    {
     "data": {
      "application/vnd.microsoft.datawrangler.viewer.v0+json": {
       "columns": [
        {
         "name": "index",
         "rawType": "int64",
         "type": "integer"
        },
        {
         "name": "transactions_id",
         "rawType": "object",
         "type": "string"
        },
        {
         "name": "products_id",
         "rawType": "int64",
         "type": "integer"
        }
       ],
       "ref": "d9e4a708-d1a2-4db8-ba2b-f7458853a471",
       "rows": [
        [
         "0",
         "02C6201E-D90A-1859-B4EE-88D2986D3B02",
         "1"
        ],
        [
         "1",
         "1A6CECFB-2E3A-65A3-72D9-2FDB58A1E4BA",
         "1"
        ],
        [
         "2",
         "1EA2B262-D507-AD14-4374-4D532967113F",
         "1"
        ],
        [
         "3",
         "23CF8ED3-402C-7C54-59CD-DB505C5CCCCE",
         "1"
        ],
        [
         "4",
         "2A5A3001-104F-1D1F-7852-5BA801869B6F",
         "1"
        ],
        [
         "5",
         "2F3B6AB6-147D-EB0B-FE8D-9A4E2EA9DBD5",
         "1"
        ],
        [
         "6",
         "2F74E99B-9337-7F74-5208-5DEC81A174FD",
         "1"
        ],
        [
         "7",
         "35DE2442-5AEB-9C73-E8DE-BC31DEA8C4DE",
         "1"
        ],
        [
         "8",
         "3DED9D58-D22A-2B11-C662-183011AE51F4",
         "1"
        ],
        [
         "9",
         "3E495EC1-E1C5-26F1-0E3E-2D13EAA2593A",
         "1"
        ],
        [
         "10",
         "467CC274-71A7-51F4-B58A-A77AADD25833",
         "1"
        ],
        [
         "11",
         "62A399E3-0FDD-2E65-5A95-21D8C59C33DC",
         "1"
        ],
        [
         "12",
         "634E63C6-C2D6-EC48-4CCF-6B4A60AAEEB7",
         "1"
        ],
        [
         "13",
         "644264C8-A268-C3C5-5929-958C49CBC926",
         "1"
        ],
        [
         "14",
         "6CB65FA4-6A8E-0C33-BFB7-2E8E4A775E4B",
         "1"
        ],
        [
         "15",
         "726E5247-EC79-A415-3409-16A666404C6A",
         "1"
        ],
        [
         "16",
         "72C62199-C17C-9E1F-8AD7-247B81D6D758",
         "1"
        ],
        [
         "17",
         "83E6BA9E-E737-37D0-5385-585F1B8A318B",
         "1"
        ],
        [
         "18",
         "8438C66C-4964-D73D-6839-24F2CDAA5828",
         "1"
        ],
        [
         "19",
         "8719DE73-B4B6-3B52-29CE-15B666A73AF6",
         "1"
        ],
        [
         "20",
         "8768FDE2-A231-B916-8644-F7DCD13CAFC2",
         "1"
        ],
        [
         "21",
         "89A34935-2145-B045-3ED0-1FFAB39DDA32",
         "1"
        ],
        [
         "22",
         "8D895ADD-5501-2A9C-24DD-2EAEB7AEF1C5",
         "1"
        ],
        [
         "23",
         "9C4B45E7-C159-18E5-DB43-9D6F897775D4",
         "1"
        ],
        [
         "24",
         "A1ABDB2E-4E96-3D0D-2E4C-B19425290943",
         "1"
        ],
        [
         "25",
         "A31B0B35-6658-6805-353E-88479B3E4FD7",
         "1"
        ],
        [
         "26",
         "B3CE84BA-2A5C-226C-749F-ECCDF91F19CE",
         "1"
        ],
        [
         "27",
         "BA91684D-74AA-3BB6-148B-346B6EAD1937",
         "1"
        ],
        [
         "28",
         "C0B1ABC1-0C03-5C27-977E-A5EC13EED863",
         "1"
        ],
        [
         "29",
         "C1DCC32D-E42A-F2D6-17AD-FF4A639A9B5A",
         "1"
        ],
        [
         "30",
         "D3C579AE-FA77-6234-9843-6DA39D6E329D",
         "1"
        ],
        [
         "31",
         "D52157FC-58FC-68E6-91D4-CCB11178F8AC",
         "1"
        ],
        [
         "32",
         "DA247F32-9723-9BB6-B770-BC39C252CE15",
         "1"
        ],
        [
         "33",
         "E2DB8D98-9328-ACDA-39A3-802C7BB36D34",
         "1"
        ],
        [
         "34",
         "E308729C-4A62-08C9-45C6-58C9479D4626",
         "1"
        ],
        [
         "35",
         "E6E14C3A-1AE7-7B62-57D8-16A6F19C995F",
         "1"
        ],
        [
         "36",
         "EAC77318-72E4-51E3-AB5A-9BCCBA39C8F2",
         "1"
        ],
        [
         "37",
         "EE2D8157-D63E-6A91-A363-9CF68B530AD3",
         "1"
        ],
        [
         "38",
         "FD89D51B-AE8D-77DC-E450-B8083FBD3187",
         "1"
        ],
        [
         "39",
         "0A476ED9-0C13-1962-F87B-D3563924B539",
         "11"
        ],
        [
         "40",
         "1026DA24-8929-31F1-8250-D7BAB05C13D2",
         "11"
        ],
        [
         "41",
         "1742D72D-6EC3-1B42-A1B2-24AA75A6A14B",
         "11"
        ],
        [
         "42",
         "17B43AB2-DD7D-96C4-2C7D-1989F119A1CB",
         "11"
        ],
        [
         "43",
         "19E1EC3E-2119-1EFD-8AAE-5930D4A4E63F",
         "11"
        ],
        [
         "44",
         "22C9EC22-45FC-72C8-63CE-5FA99A24E770",
         "11"
        ],
        [
         "45",
         "2F3B6AB6-147D-EB0B-FE8D-9A4E2EA9DBD5",
         "11"
        ],
        [
         "46",
         "34368DE0-D181-1B5C-6698-8DF585C06421",
         "11"
        ],
        [
         "47",
         "41EC591D-808E-D85C-F05F-08BC3DE7A618",
         "11"
        ],
        [
         "48",
         "518D6CCF-593A-8932-BE5B-44597DCDDFE9",
         "11"
        ],
        [
         "49",
         "5E47EB85-1F76-1853-839F-94FCF9A95700",
         "11"
        ]
       ],
       "shape": {
        "columns": 2,
        "rows": 1457
       }
      },
      "text/html": [
       "<div>\n",
       "<style scoped>\n",
       "    .dataframe tbody tr th:only-of-type {\n",
       "        vertical-align: middle;\n",
       "    }\n",
       "\n",
       "    .dataframe tbody tr th {\n",
       "        vertical-align: top;\n",
       "    }\n",
       "\n",
       "    .dataframe thead th {\n",
       "        text-align: right;\n",
       "    }\n",
       "</style>\n",
       "<table border=\"1\" class=\"dataframe\">\n",
       "  <thead>\n",
       "    <tr style=\"text-align: right;\">\n",
       "      <th></th>\n",
       "      <th>transactions_id</th>\n",
       "      <th>products_id</th>\n",
       "    </tr>\n",
       "  </thead>\n",
       "  <tbody>\n",
       "    <tr>\n",
       "      <th>0</th>\n",
       "      <td>02C6201E-D90A-1859-B4EE-88D2986D3B02</td>\n",
       "      <td>1</td>\n",
       "    </tr>\n",
       "    <tr>\n",
       "      <th>1</th>\n",
       "      <td>1A6CECFB-2E3A-65A3-72D9-2FDB58A1E4BA</td>\n",
       "      <td>1</td>\n",
       "    </tr>\n",
       "    <tr>\n",
       "      <th>2</th>\n",
       "      <td>1EA2B262-D507-AD14-4374-4D532967113F</td>\n",
       "      <td>1</td>\n",
       "    </tr>\n",
       "    <tr>\n",
       "      <th>3</th>\n",
       "      <td>23CF8ED3-402C-7C54-59CD-DB505C5CCCCE</td>\n",
       "      <td>1</td>\n",
       "    </tr>\n",
       "    <tr>\n",
       "      <th>4</th>\n",
       "      <td>2A5A3001-104F-1D1F-7852-5BA801869B6F</td>\n",
       "      <td>1</td>\n",
       "    </tr>\n",
       "    <tr>\n",
       "      <th>...</th>\n",
       "      <td>...</td>\n",
       "      <td>...</td>\n",
       "    </tr>\n",
       "    <tr>\n",
       "      <th>1452</th>\n",
       "      <td>A84B14A2-2964-EFDE-A234-52B8BCAD87B7</td>\n",
       "      <td>97</td>\n",
       "    </tr>\n",
       "    <tr>\n",
       "      <th>1453</th>\n",
       "      <td>CEBC8755-77B1-722D-A899-E86B58B837BC</td>\n",
       "      <td>97</td>\n",
       "    </tr>\n",
       "    <tr>\n",
       "      <th>1454</th>\n",
       "      <td>D662DF87-90B7-8C73-CD48-FA68399392C9</td>\n",
       "      <td>97</td>\n",
       "    </tr>\n",
       "    <tr>\n",
       "      <th>1455</th>\n",
       "      <td>E6E14C3A-1AE7-7B62-57D8-16A6F19C995F</td>\n",
       "      <td>97</td>\n",
       "    </tr>\n",
       "    <tr>\n",
       "      <th>1456</th>\n",
       "      <td>FBD7E0D6-BA6B-F5BC-0CA9-EA4B8760100C</td>\n",
       "      <td>97</td>\n",
       "    </tr>\n",
       "  </tbody>\n",
       "</table>\n",
       "<p>1457 rows × 2 columns</p>\n",
       "</div>"
      ],
      "text/plain": [
       "                           transactions_id  products_id\n",
       "0     02C6201E-D90A-1859-B4EE-88D2986D3B02            1\n",
       "1     1A6CECFB-2E3A-65A3-72D9-2FDB58A1E4BA            1\n",
       "2     1EA2B262-D507-AD14-4374-4D532967113F            1\n",
       "3     23CF8ED3-402C-7C54-59CD-DB505C5CCCCE            1\n",
       "4     2A5A3001-104F-1D1F-7852-5BA801869B6F            1\n",
       "...                                    ...          ...\n",
       "1452  A84B14A2-2964-EFDE-A234-52B8BCAD87B7           97\n",
       "1453  CEBC8755-77B1-722D-A899-E86B58B837BC           97\n",
       "1454  D662DF87-90B7-8C73-CD48-FA68399392C9           97\n",
       "1455  E6E14C3A-1AE7-7B62-57D8-16A6F19C995F           97\n",
       "1456  FBD7E0D6-BA6B-F5BC-0CA9-EA4B8760100C           97\n",
       "\n",
       "[1457 rows x 2 columns]"
      ]
     },
     "execution_count": 326,
     "metadata": {},
     "output_type": "execute_result"
    }
   ],
   "source": [
    "# Convierto la columna 'products_id' de str a int porque me da error al operar (este cambio ya lo hice en el sprint de power bi porque me daba el mismo error)\n",
    "products_transact['products_id'] = products_transact['products_id'].astype(int)\n",
    "products_transact\n"
   ]
  },
  {
   "cell_type": "code",
   "execution_count": 327,
   "id": "a4fbe2b6",
   "metadata": {},
   "outputs": [
    {
     "data": {
      "application/vnd.microsoft.datawrangler.viewer.v0+json": {
       "columns": [
        {
         "name": "index",
         "rawType": "int64",
         "type": "integer"
        },
        {
         "name": "transactions_id",
         "rawType": "object",
         "type": "string"
        },
        {
         "name": "products_per_transact",
         "rawType": "int64",
         "type": "integer"
        }
       ],
       "ref": "ba3fda96-dcd3-4ffc-a228-75713355def7",
       "rows": [
        [
         "0",
         "02C6201E-D90A-1859-B4EE-88D2986D3B02",
         "3"
        ],
        [
         "1",
         "0466A42E-47CF-8D24-FD01-C0B689713128",
         "3"
        ],
        [
         "2",
         "063FBA79-99EC-66FB-29F7-25726D1764A5",
         "4"
        ],
        [
         "3",
         "0668296C-CDB9-A883-76BC-2E4C44F8C8AE",
         "3"
        ],
        [
         "4",
         "06CD9AA5-9B42-D684-DDDD-A5E394FEBA99",
         "2"
        ],
        [
         "5",
         "07A46D48-31A3-7E87-65B9-0DA902AD109F",
         "2"
        ],
        [
         "6",
         "09DE92CE-6F27-2BB7-13B5-9385B2B3B8E2",
         "2"
        ],
        [
         "7",
         "0A476ED9-0C13-1962-F87B-D3563924B539",
         "3"
        ],
        [
         "8",
         "0BEB80B7-9D66-1707-CE4B-9DC7E71914B5",
         "4"
        ],
        [
         "9",
         "0C7C3A33-9947-3BC1-846D-7BE3D0D17598",
         "2"
        ],
        [
         "10",
         "0CE957A6-CCAA-2B7A-6839-8A4B1B324853",
         "4"
        ],
        [
         "11",
         "0DD2E608-5C9E-D1B3-4999-B99F43AD735A",
         "3"
        ],
        [
         "12",
         "1017AA59-3D5F-7A4C-1992-D151A8D1FA0A",
         "2"
        ],
        [
         "13",
         "1026DA24-8929-31F1-8250-D7BAB05C13D2",
         "4"
        ],
        [
         "14",
         "108B1D1D-5B23-A76C-55EF-C568E49A05DD",
         "1"
        ],
        [
         "15",
         "10A9B07A-810C-76EB-4D15-12C6CC128037",
         "2"
        ],
        [
         "16",
         "11ABED97-EA12-1B9A-96F0-A93ACC172179",
         "1"
        ],
        [
         "17",
         "122DC333-E19F-D629-DCD8-9C54CF1EBB9A",
         "3"
        ],
        [
         "18",
         "133B82CC-DE62-8604-2D11-3DC5449E0A5F",
         "1"
        ],
        [
         "19",
         "135267BA-2E7D-957C-C42C-6450A2B3ED54",
         "2"
        ],
        [
         "20",
         "13DCC69F-EA07-E52B-8309-D474C6281E80",
         "3"
        ],
        [
         "21",
         "13FBB312-B283-7976-DA47-14DE5986218A",
         "4"
        ],
        [
         "22",
         "1479B3D2-B7BA-C7BB-4CE3-8D7C2DE85ABB",
         "3"
        ],
        [
         "23",
         "14CAE5B5-8FB1-3E4A-4C85-0EA4167534F4",
         "4"
        ],
        [
         "24",
         "1517E8A8-8B44-A7C9-6691-692C27D0DC2C",
         "2"
        ],
        [
         "25",
         "152598C2-029D-D684-4B66-91EDF393EBFF",
         "2"
        ],
        [
         "26",
         "156F3F80-7E7D-65CF-727D-6AE03CEB7520",
         "1"
        ],
        [
         "27",
         "1575F87A-E37B-DADD-554C-A99D8E7162A6",
         "3"
        ],
        [
         "28",
         "158A3ACB-541C-DBCC-65BD-6373CC67BF1C",
         "4"
        ],
        [
         "29",
         "15CC4862-D13E-ED4B-941C-486484AFDFAD",
         "2"
        ],
        [
         "30",
         "162C7E78-2B6B-7971-A1E4-D2124E732451",
         "1"
        ],
        [
         "31",
         "167DE938-B1C2-428D-FA3D-96A45CD41B22",
         "3"
        ],
        [
         "32",
         "1717FD6B-ADAD-7082-A748-9112BE892CCC",
         "2"
        ],
        [
         "33",
         "1742D72D-6EC3-1B42-A1B2-24AA75A6A14B",
         "4"
        ],
        [
         "34",
         "1753A288-9FC1-52E6-5C39-A1FFB97B0D3A",
         "4"
        ],
        [
         "35",
         "17561134-37A4-E316-2C3C-C5541EDAD761",
         "2"
        ],
        [
         "36",
         "1788C881-EE67-9BAB-377A-4C78E772160B",
         "3"
        ],
        [
         "37",
         "17B43AB2-DD7D-96C4-2C7D-1989F119A1CB",
         "2"
        ],
        [
         "38",
         "1822A630-4B6E-DABC-2576-6EC107FA15C2",
         "3"
        ],
        [
         "39",
         "18528B27-18B8-93DA-9B8C-31635C536DA4",
         "2"
        ],
        [
         "40",
         "185C9F2C-67A2-8EC0-0BB6-93789CC59F05",
         "2"
        ],
        [
         "41",
         "186F53DE-DE27-B1FE-B82F-15B61CEB7726",
         "3"
        ],
        [
         "42",
         "18B1AD88-F155-45B7-D2EA-4738407435D6",
         "1"
        ],
        [
         "43",
         "18B2472B-DA8B-36F7-B0F2-7DDA688B73D1",
         "2"
        ],
        [
         "44",
         "18C4E2DD-1E4C-F35E-2198-C660BD81DC25",
         "4"
        ],
        [
         "45",
         "18CCBA7C-ABC1-813D-FAF3-4BAB97429368",
         "4"
        ],
        [
         "46",
         "18D648AB-7D54-A3E8-2DBA-2D8D2991CA43",
         "1"
        ],
        [
         "47",
         "1998A483-B4CD-FAE6-745C-8F2F2EB77A8E",
         "3"
        ],
        [
         "48",
         "19E1EC3E-2119-1EFD-8AAE-5930D4A4E63F",
         "3"
        ],
        [
         "49",
         "1A1279B1-B393-3EE4-6A2E-6D8F1256A49D",
         "3"
        ]
       ],
       "shape": {
        "columns": 2,
        "rows": 587
       }
      },
      "text/html": [
       "<div>\n",
       "<style scoped>\n",
       "    .dataframe tbody tr th:only-of-type {\n",
       "        vertical-align: middle;\n",
       "    }\n",
       "\n",
       "    .dataframe tbody tr th {\n",
       "        vertical-align: top;\n",
       "    }\n",
       "\n",
       "    .dataframe thead th {\n",
       "        text-align: right;\n",
       "    }\n",
       "</style>\n",
       "<table border=\"1\" class=\"dataframe\">\n",
       "  <thead>\n",
       "    <tr style=\"text-align: right;\">\n",
       "      <th></th>\n",
       "      <th>transactions_id</th>\n",
       "      <th>products_per_transact</th>\n",
       "    </tr>\n",
       "  </thead>\n",
       "  <tbody>\n",
       "    <tr>\n",
       "      <th>0</th>\n",
       "      <td>02C6201E-D90A-1859-B4EE-88D2986D3B02</td>\n",
       "      <td>3</td>\n",
       "    </tr>\n",
       "    <tr>\n",
       "      <th>1</th>\n",
       "      <td>0466A42E-47CF-8D24-FD01-C0B689713128</td>\n",
       "      <td>3</td>\n",
       "    </tr>\n",
       "    <tr>\n",
       "      <th>2</th>\n",
       "      <td>063FBA79-99EC-66FB-29F7-25726D1764A5</td>\n",
       "      <td>4</td>\n",
       "    </tr>\n",
       "    <tr>\n",
       "      <th>3</th>\n",
       "      <td>0668296C-CDB9-A883-76BC-2E4C44F8C8AE</td>\n",
       "      <td>3</td>\n",
       "    </tr>\n",
       "    <tr>\n",
       "      <th>4</th>\n",
       "      <td>06CD9AA5-9B42-D684-DDDD-A5E394FEBA99</td>\n",
       "      <td>2</td>\n",
       "    </tr>\n",
       "    <tr>\n",
       "      <th>...</th>\n",
       "      <td>...</td>\n",
       "      <td>...</td>\n",
       "    </tr>\n",
       "    <tr>\n",
       "      <th>582</th>\n",
       "      <td>FD2E8957-414B-BEEC-E9AD-59AA7A8A6290</td>\n",
       "      <td>4</td>\n",
       "    </tr>\n",
       "    <tr>\n",
       "      <th>583</th>\n",
       "      <td>FD89D51B-AE8D-77DC-E450-B8083FBD3187</td>\n",
       "      <td>4</td>\n",
       "    </tr>\n",
       "    <tr>\n",
       "      <th>584</th>\n",
       "      <td>FD9CBCCD-8E1E-8DA1-4606-7E3A6F3A5A65</td>\n",
       "      <td>1</td>\n",
       "    </tr>\n",
       "    <tr>\n",
       "      <th>585</th>\n",
       "      <td>FE809ED4-2DB6-55AC-C915-929516E4646B</td>\n",
       "      <td>2</td>\n",
       "    </tr>\n",
       "    <tr>\n",
       "      <th>586</th>\n",
       "      <td>FE96CE47-BD59-381C-4E18-E3CA3D44E8FF</td>\n",
       "      <td>1</td>\n",
       "    </tr>\n",
       "  </tbody>\n",
       "</table>\n",
       "<p>587 rows × 2 columns</p>\n",
       "</div>"
      ],
      "text/plain": [
       "                          transactions_id  products_per_transact\n",
       "0    02C6201E-D90A-1859-B4EE-88D2986D3B02                      3\n",
       "1    0466A42E-47CF-8D24-FD01-C0B689713128                      3\n",
       "2    063FBA79-99EC-66FB-29F7-25726D1764A5                      4\n",
       "3    0668296C-CDB9-A883-76BC-2E4C44F8C8AE                      3\n",
       "4    06CD9AA5-9B42-D684-DDDD-A5E394FEBA99                      2\n",
       "..                                    ...                    ...\n",
       "582  FD2E8957-414B-BEEC-E9AD-59AA7A8A6290                      4\n",
       "583  FD89D51B-AE8D-77DC-E450-B8083FBD3187                      4\n",
       "584  FD9CBCCD-8E1E-8DA1-4606-7E3A6F3A5A65                      1\n",
       "585  FE809ED4-2DB6-55AC-C915-929516E4646B                      2\n",
       "586  FE96CE47-BD59-381C-4E18-E3CA3D44E8FF                      1\n",
       "\n",
       "[587 rows x 2 columns]"
      ]
     },
     "execution_count": 327,
     "metadata": {},
     "output_type": "execute_result"
    }
   ],
   "source": [
    "#calculo el total de productos de cada transacción:\n",
    "total_products = products_transact.groupby('transactions_id', as_index= False).count()\n",
    "total_products.rename(columns={'products_id':'products_per_transact'},inplace=True)\n",
    "total_products"
   ]
  },
  {
   "cell_type": "code",
   "execution_count": 265,
   "id": "93211ce8",
   "metadata": {},
   "outputs": [
    {
     "data": {
      "application/vnd.microsoft.datawrangler.viewer.v0+json": {
       "columns": [
        {
         "name": "index",
         "rawType": "int64",
         "type": "integer"
        },
        {
         "name": "id",
         "rawType": "object",
         "type": "string"
        },
        {
         "name": "product_name",
         "rawType": "object",
         "type": "string"
        },
        {
         "name": "price",
         "rawType": "float64",
         "type": "float"
        },
        {
         "name": "colour",
         "rawType": "object",
         "type": "string"
        },
        {
         "name": "weight",
         "rawType": "float64",
         "type": "float"
        },
        {
         "name": "warehouse_id",
         "rawType": "object",
         "type": "string"
        }
       ],
       "ref": "9c07258f-b00c-4467-b3f1-1936b6cb81da",
       "rows": [
        [
         "0",
         "1",
         "Direwolf Stannis",
         "161.11",
         "#7c7c7c",
         "1.0",
         "WH-4"
        ],
        [
         "1",
         "10",
         "Karstark Dorne",
         "119.52",
         "#f4f4f4",
         "2.4",
         "WH--5"
        ],
        [
         "2",
         "100",
         "south duel",
         "40.43",
         "#6d6d6d",
         "3.0",
         "WH--95"
        ],
        [
         "3",
         "11",
         "Karstark Dorne",
         "49.7",
         "#141414",
         "2.7",
         "WH--6"
        ],
        [
         "4",
         "12",
         "duel Direwolf",
         "181.6",
         "#a8a8a8",
         "2.1",
         "WH--7"
        ]
       ],
       "shape": {
        "columns": 6,
        "rows": 5
       }
      },
      "text/html": [
       "<div>\n",
       "<style scoped>\n",
       "    .dataframe tbody tr th:only-of-type {\n",
       "        vertical-align: middle;\n",
       "    }\n",
       "\n",
       "    .dataframe tbody tr th {\n",
       "        vertical-align: top;\n",
       "    }\n",
       "\n",
       "    .dataframe thead th {\n",
       "        text-align: right;\n",
       "    }\n",
       "</style>\n",
       "<table border=\"1\" class=\"dataframe\">\n",
       "  <thead>\n",
       "    <tr style=\"text-align: right;\">\n",
       "      <th></th>\n",
       "      <th>id</th>\n",
       "      <th>product_name</th>\n",
       "      <th>price</th>\n",
       "      <th>colour</th>\n",
       "      <th>weight</th>\n",
       "      <th>warehouse_id</th>\n",
       "    </tr>\n",
       "  </thead>\n",
       "  <tbody>\n",
       "    <tr>\n",
       "      <th>0</th>\n",
       "      <td>1</td>\n",
       "      <td>Direwolf Stannis</td>\n",
       "      <td>161.11</td>\n",
       "      <td>#7c7c7c</td>\n",
       "      <td>1.0</td>\n",
       "      <td>WH-4</td>\n",
       "    </tr>\n",
       "    <tr>\n",
       "      <th>1</th>\n",
       "      <td>10</td>\n",
       "      <td>Karstark Dorne</td>\n",
       "      <td>119.52</td>\n",
       "      <td>#f4f4f4</td>\n",
       "      <td>2.4</td>\n",
       "      <td>WH--5</td>\n",
       "    </tr>\n",
       "    <tr>\n",
       "      <th>2</th>\n",
       "      <td>100</td>\n",
       "      <td>south duel</td>\n",
       "      <td>40.43</td>\n",
       "      <td>#6d6d6d</td>\n",
       "      <td>3.0</td>\n",
       "      <td>WH--95</td>\n",
       "    </tr>\n",
       "    <tr>\n",
       "      <th>3</th>\n",
       "      <td>11</td>\n",
       "      <td>Karstark Dorne</td>\n",
       "      <td>49.70</td>\n",
       "      <td>#141414</td>\n",
       "      <td>2.7</td>\n",
       "      <td>WH--6</td>\n",
       "    </tr>\n",
       "    <tr>\n",
       "      <th>4</th>\n",
       "      <td>12</td>\n",
       "      <td>duel Direwolf</td>\n",
       "      <td>181.60</td>\n",
       "      <td>#a8a8a8</td>\n",
       "      <td>2.1</td>\n",
       "      <td>WH--7</td>\n",
       "    </tr>\n",
       "  </tbody>\n",
       "</table>\n",
       "</div>"
      ],
      "text/plain": [
       "    id      product_name   price   colour  weight warehouse_id\n",
       "0    1  Direwolf Stannis  161.11  #7c7c7c     1.0         WH-4\n",
       "1   10    Karstark Dorne  119.52  #f4f4f4     2.4        WH--5\n",
       "2  100        south duel   40.43  #6d6d6d     3.0       WH--95\n",
       "3   11    Karstark Dorne   49.70  #141414     2.7        WH--6\n",
       "4   12     duel Direwolf  181.60  #a8a8a8     2.1        WH--7"
      ]
     },
     "execution_count": 265,
     "metadata": {},
     "output_type": "execute_result"
    }
   ],
   "source": [
    "#reviso la tabla products para tener una guía:\n",
    "products.head()"
   ]
  },
  {
   "cell_type": "code",
   "execution_count": 329,
   "id": "8df8684d",
   "metadata": {},
   "outputs": [
    {
     "data": {
      "application/vnd.microsoft.datawrangler.viewer.v0+json": {
       "columns": [
        {
         "name": "index",
         "rawType": "int64",
         "type": "integer"
        },
        {
         "name": "id",
         "rawType": "int64",
         "type": "integer"
        },
        {
         "name": "product_name",
         "rawType": "object",
         "type": "string"
        },
        {
         "name": "price",
         "rawType": "object",
         "type": "string"
        },
        {
         "name": "colour",
         "rawType": "object",
         "type": "string"
        },
        {
         "name": "weight",
         "rawType": "float64",
         "type": "float"
        },
        {
         "name": "warehouse_id",
         "rawType": "object",
         "type": "string"
        }
       ],
       "ref": "d15b305a-876f-4eaa-8d7c-460c31eb56db",
       "rows": [
        [
         "0",
         "1",
         "Direwolf Stannis",
         "$161.11",
         "#7c7c7c",
         "1.0",
         "WH-4"
        ],
        [
         "1",
         "10",
         "Karstark Dorne",
         "$119.52",
         "#f4f4f4",
         "2.4",
         "WH--5"
        ],
        [
         "2",
         "100",
         "south duel",
         "$40.43",
         "#6d6d6d",
         "3.0",
         "WH--95"
        ],
        [
         "3",
         "11",
         "Karstark Dorne",
         "$49.70",
         "#141414",
         "2.7",
         "WH--6"
        ],
        [
         "4",
         "12",
         "duel Direwolf",
         "$181.60",
         "#a8a8a8",
         "2.1",
         "WH--7"
        ],
        [
         "5",
         "13",
         "palpatine chewbacca",
         "$139.59",
         "#2b2b2b",
         "1.0",
         "WH--8"
        ],
        [
         "6",
         "14",
         "Direwolf",
         "$147.53",
         "#c4c4c4",
         "2.0",
         "WH--9"
        ],
        [
         "7",
         "15",
         "Stannis warden",
         "$194.29",
         "#dbdbdb",
         "1.5",
         "WH--10"
        ],
        [
         "8",
         "16",
         "the duel warden",
         "$180.91",
         "#666666",
         "3.0",
         "WH--11"
        ],
        [
         "9",
         "17",
         "skywalker ewok sith",
         "$91.89",
         "#7c7c7c",
         "3.2",
         "WH--12"
        ],
        [
         "10",
         "18",
         "Karstark warden",
         "$148.91",
         "#c4c4c4",
         "0.8",
         "WH--13"
        ],
        [
         "11",
         "19",
         "dooku solo",
         "$60.33",
         "#3f3f3f",
         "0.6",
         "WH--14"
        ],
        [
         "12",
         "2",
         "Tarly Stark",
         "$9.24",
         "#919191",
         "2.0",
         "WH-3"
        ],
        [
         "13",
         "20",
         "warden Karstark",
         "$91.96",
         "#b5b5b5",
         "1.4",
         "WH--15"
        ],
        [
         "14",
         "21",
         "duel Direwolf",
         "$96.90",
         "#e2e2e2",
         "1.2",
         "WH--16"
        ],
        [
         "15",
         "22",
         "chewbacca mustafar",
         "$150.02",
         "#fcfcfc",
         "2.4",
         "WH--17"
        ],
        [
         "16",
         "23",
         "riverlands north",
         "$169.96",
         "#545454",
         "2.7",
         "WH--18"
        ],
        [
         "17",
         "24",
         "south duel tourney",
         "$48.99",
         "#aaaaaa",
         "2.1",
         "WH--19"
        ],
        [
         "18",
         "25",
         "skywalker ewok",
         "$157.53",
         "#2b2b2b",
         "1.0",
         "WH--20"
        ],
        [
         "19",
         "26",
         "Stark Karstark",
         "$53.01",
         "#898989",
         "2.0",
         "WH--21"
        ],
        [
         "20",
         "27",
         "Stannis riverlands",
         "$172.93",
         "#7a7a7a",
         "1.5",
         "WH--22"
        ],
        [
         "21",
         "28",
         "chewbacca mustafar",
         "$127.44",
         "#efefef",
         "3.0",
         "WH--23"
        ],
        [
         "22",
         "29",
         "Tully maester Tarly",
         "$167.20",
         "#111111",
         "3.2",
         "WH--24"
        ],
        [
         "23",
         "3",
         "duel tourney Lannister",
         "$171.13",
         "#d8d8d8",
         "1.5",
         "WH-2"
        ],
        [
         "24",
         "30",
         "Karstark warden",
         "$79.53",
         "#606060",
         "0.8",
         "WH--25"
        ],
        [
         "25",
         "31",
         "Lannister",
         "$85.02",
         "#3f3f3f",
         "0.6",
         "WH--26"
        ],
        [
         "26",
         "32",
         "north",
         "$178.28",
         "#0f0f0f",
         "1.4",
         "WH--27"
        ],
        [
         "27",
         "33",
         "duel warden",
         "$127.09",
         "#191919",
         "1.2",
         "WH--28"
        ],
        [
         "28",
         "34",
         "of north",
         "$128.48",
         "#919191",
         "2.4",
         "WH--29"
        ],
        [
         "29",
         "35",
         "the giantsblood maester",
         "$107.17",
         "#8c8c8c",
         "2.7",
         "WH--30"
        ],
        [
         "30",
         "36",
         "Lannister",
         "$96.22",
         "#a5a5a5",
         "2.1",
         "WH--31"
        ],
        [
         "31",
         "37",
         "Direwolf Littlefinger",
         "$26.66",
         "#aaaaaa",
         "1.0",
         "WH--32"
        ],
        [
         "32",
         "38",
         "ewok sith",
         "$55.43",
         "#666666",
         "2.0",
         "WH--33"
        ],
        [
         "33",
         "39",
         "warden",
         "$196.65",
         "#a0a0a0",
         "1.5",
         "WH--34"
        ],
        [
         "34",
         "4",
         "warden south duel",
         "$71.89",
         "#111111",
         "3.0",
         "WH-1"
        ],
        [
         "35",
         "40",
         "tatooine dooku solo",
         "$73.31",
         "#070707",
         "3.0",
         "WH--35"
        ],
        [
         "36",
         "41",
         "Lannister Barratheon Direwolf",
         "$141.01",
         "#fcfcfc",
         "3.2",
         "WH--36"
        ],
        [
         "37",
         "42",
         "sith",
         "$83.51",
         "#494949",
         "0.8",
         "WH--37"
        ],
        [
         "38",
         "43",
         "duel",
         "$59.80",
         "#5b5b5b",
         "0.6",
         "WH--38"
        ],
        [
         "39",
         "44",
         "Karstark Dorne",
         "$105.48",
         "#878787",
         "1.4",
         "WH--39"
        ],
        [
         "40",
         "45",
         "south",
         "$92.65",
         "#bfbfbf",
         "1.2",
         "WH--40"
        ],
        [
         "41",
         "46",
         "giantsblood maester Karstark",
         "$58.78",
         "#2b2b2b",
         "2.4",
         "WH--41"
        ],
        [
         "42",
         "47",
         "Tully",
         "$82.15",
         "#919191",
         "2.7",
         "WH--42"
        ],
        [
         "43",
         "48",
         "rock Renly in",
         "$21.53",
         "#9e9e9e",
         "2.1",
         "WH--43"
        ],
        [
         "44",
         "49",
         "the giantsblood maester",
         "$53.31",
         "#e2e2e2",
         "1.0",
         "WH--44"
        ],
        [
         "45",
         "5",
         "skywalker ewok",
         "$171.22",
         "#dbdbdb",
         "3.2",
         "WH-0"
        ],
        [
         "46",
         "50",
         "in",
         "$124.04",
         "#7a7a7a",
         "2.0",
         "WH--45"
        ],
        [
         "47",
         "51",
         "north Tully",
         "$30.14",
         "#262626",
         "1.5",
         "WH--46"
        ],
        [
         "48",
         "52",
         "riverlands the duel",
         "$31.52",
         "#727272",
         "3.0",
         "WH--47"
        ],
        [
         "49",
         "53",
         "kingsblood Littlefinger the",
         "$137.81",
         "#3a3a3a",
         "3.2",
         "WH--48"
        ]
       ],
       "shape": {
        "columns": 6,
        "rows": 100
       }
      },
      "text/html": [
       "<div>\n",
       "<style scoped>\n",
       "    .dataframe tbody tr th:only-of-type {\n",
       "        vertical-align: middle;\n",
       "    }\n",
       "\n",
       "    .dataframe tbody tr th {\n",
       "        vertical-align: top;\n",
       "    }\n",
       "\n",
       "    .dataframe thead th {\n",
       "        text-align: right;\n",
       "    }\n",
       "</style>\n",
       "<table border=\"1\" class=\"dataframe\">\n",
       "  <thead>\n",
       "    <tr style=\"text-align: right;\">\n",
       "      <th></th>\n",
       "      <th>id</th>\n",
       "      <th>product_name</th>\n",
       "      <th>price</th>\n",
       "      <th>colour</th>\n",
       "      <th>weight</th>\n",
       "      <th>warehouse_id</th>\n",
       "    </tr>\n",
       "  </thead>\n",
       "  <tbody>\n",
       "    <tr>\n",
       "      <th>0</th>\n",
       "      <td>1</td>\n",
       "      <td>Direwolf Stannis</td>\n",
       "      <td>$161.11</td>\n",
       "      <td>#7c7c7c</td>\n",
       "      <td>1.0</td>\n",
       "      <td>WH-4</td>\n",
       "    </tr>\n",
       "    <tr>\n",
       "      <th>1</th>\n",
       "      <td>10</td>\n",
       "      <td>Karstark Dorne</td>\n",
       "      <td>$119.52</td>\n",
       "      <td>#f4f4f4</td>\n",
       "      <td>2.4</td>\n",
       "      <td>WH--5</td>\n",
       "    </tr>\n",
       "    <tr>\n",
       "      <th>2</th>\n",
       "      <td>100</td>\n",
       "      <td>south duel</td>\n",
       "      <td>$40.43</td>\n",
       "      <td>#6d6d6d</td>\n",
       "      <td>3.0</td>\n",
       "      <td>WH--95</td>\n",
       "    </tr>\n",
       "    <tr>\n",
       "      <th>3</th>\n",
       "      <td>11</td>\n",
       "      <td>Karstark Dorne</td>\n",
       "      <td>$49.70</td>\n",
       "      <td>#141414</td>\n",
       "      <td>2.7</td>\n",
       "      <td>WH--6</td>\n",
       "    </tr>\n",
       "    <tr>\n",
       "      <th>4</th>\n",
       "      <td>12</td>\n",
       "      <td>duel Direwolf</td>\n",
       "      <td>$181.60</td>\n",
       "      <td>#a8a8a8</td>\n",
       "      <td>2.1</td>\n",
       "      <td>WH--7</td>\n",
       "    </tr>\n",
       "    <tr>\n",
       "      <th>...</th>\n",
       "      <td>...</td>\n",
       "      <td>...</td>\n",
       "      <td>...</td>\n",
       "      <td>...</td>\n",
       "      <td>...</td>\n",
       "      <td>...</td>\n",
       "    </tr>\n",
       "    <tr>\n",
       "      <th>95</th>\n",
       "      <td>95</td>\n",
       "      <td>riverlands north Direwolf</td>\n",
       "      <td>$6.90</td>\n",
       "      <td>#c1c1c1</td>\n",
       "      <td>2.7</td>\n",
       "      <td>WH--90</td>\n",
       "    </tr>\n",
       "    <tr>\n",
       "      <th>96</th>\n",
       "      <td>96</td>\n",
       "      <td>dooku solo</td>\n",
       "      <td>$20.92</td>\n",
       "      <td>#282828</td>\n",
       "      <td>2.1</td>\n",
       "      <td>WH--91</td>\n",
       "    </tr>\n",
       "    <tr>\n",
       "      <th>97</th>\n",
       "      <td>97</td>\n",
       "      <td>jinn Winterfell</td>\n",
       "      <td>$65.25</td>\n",
       "      <td>#bababa</td>\n",
       "      <td>1.0</td>\n",
       "      <td>WH--92</td>\n",
       "    </tr>\n",
       "    <tr>\n",
       "      <th>98</th>\n",
       "      <td>98</td>\n",
       "      <td>Direwolf Littlefinger</td>\n",
       "      <td>$38.33</td>\n",
       "      <td>#bababa</td>\n",
       "      <td>2.0</td>\n",
       "      <td>WH--93</td>\n",
       "    </tr>\n",
       "    <tr>\n",
       "      <th>99</th>\n",
       "      <td>99</td>\n",
       "      <td>the duel</td>\n",
       "      <td>$151.78</td>\n",
       "      <td>#212121</td>\n",
       "      <td>1.5</td>\n",
       "      <td>WH--94</td>\n",
       "    </tr>\n",
       "  </tbody>\n",
       "</table>\n",
       "<p>100 rows × 6 columns</p>\n",
       "</div>"
      ],
      "text/plain": [
       "     id               product_name    price   colour  weight warehouse_id\n",
       "0     1           Direwolf Stannis  $161.11  #7c7c7c     1.0         WH-4\n",
       "1    10             Karstark Dorne  $119.52  #f4f4f4     2.4        WH--5\n",
       "2   100                 south duel   $40.43  #6d6d6d     3.0       WH--95\n",
       "3    11             Karstark Dorne   $49.70  #141414     2.7        WH--6\n",
       "4    12              duel Direwolf  $181.60  #a8a8a8     2.1        WH--7\n",
       "..  ...                        ...      ...      ...     ...          ...\n",
       "95   95  riverlands north Direwolf    $6.90  #c1c1c1     2.7       WH--90\n",
       "96   96                 dooku solo   $20.92  #282828     2.1       WH--91\n",
       "97   97            jinn Winterfell   $65.25  #bababa     1.0       WH--92\n",
       "98   98      Direwolf Littlefinger   $38.33  #bababa     2.0       WH--93\n",
       "99   99                   the duel  $151.78  #212121     1.5       WH--94\n",
       "\n",
       "[100 rows x 6 columns]"
      ]
     },
     "execution_count": 329,
     "metadata": {},
     "output_type": "execute_result"
    }
   ],
   "source": [
    "# Convierto la columna 'id' de str a int porque me da error al operar (este cambio ya lo hice en el sprint de power bi porque me daba el mismo error)\n",
    "products['id'] = products['id'].astype(int)\n",
    "products"
   ]
  },
  {
   "cell_type": "code",
   "execution_count": 330,
   "id": "cb8d4645",
   "metadata": {},
   "outputs": [
    {
     "data": {
      "application/vnd.microsoft.datawrangler.viewer.v0+json": {
       "columns": [
        {
         "name": "index",
         "rawType": "int64",
         "type": "integer"
        },
        {
         "name": "transactions_id",
         "rawType": "object",
         "type": "string"
        },
        {
         "name": "products_id",
         "rawType": "int64",
         "type": "integer"
        },
        {
         "name": "id",
         "rawType": "int64",
         "type": "integer"
        },
        {
         "name": "weight",
         "rawType": "float64",
         "type": "float"
        }
       ],
       "ref": "b8f2c517-d497-45c8-a67c-327fb3fb7a13",
       "rows": [
        [
         "0",
         "02C6201E-D90A-1859-B4EE-88D2986D3B02",
         "1",
         "1",
         "1.0"
        ],
        [
         "1",
         "1A6CECFB-2E3A-65A3-72D9-2FDB58A1E4BA",
         "1",
         "1",
         "1.0"
        ],
        [
         "2",
         "1EA2B262-D507-AD14-4374-4D532967113F",
         "1",
         "1",
         "1.0"
        ],
        [
         "3",
         "23CF8ED3-402C-7C54-59CD-DB505C5CCCCE",
         "1",
         "1",
         "1.0"
        ],
        [
         "4",
         "2A5A3001-104F-1D1F-7852-5BA801869B6F",
         "1",
         "1",
         "1.0"
        ],
        [
         "5",
         "2F3B6AB6-147D-EB0B-FE8D-9A4E2EA9DBD5",
         "1",
         "1",
         "1.0"
        ],
        [
         "6",
         "2F74E99B-9337-7F74-5208-5DEC81A174FD",
         "1",
         "1",
         "1.0"
        ],
        [
         "7",
         "35DE2442-5AEB-9C73-E8DE-BC31DEA8C4DE",
         "1",
         "1",
         "1.0"
        ],
        [
         "8",
         "3DED9D58-D22A-2B11-C662-183011AE51F4",
         "1",
         "1",
         "1.0"
        ],
        [
         "9",
         "3E495EC1-E1C5-26F1-0E3E-2D13EAA2593A",
         "1",
         "1",
         "1.0"
        ],
        [
         "10",
         "467CC274-71A7-51F4-B58A-A77AADD25833",
         "1",
         "1",
         "1.0"
        ],
        [
         "11",
         "62A399E3-0FDD-2E65-5A95-21D8C59C33DC",
         "1",
         "1",
         "1.0"
        ],
        [
         "12",
         "634E63C6-C2D6-EC48-4CCF-6B4A60AAEEB7",
         "1",
         "1",
         "1.0"
        ],
        [
         "13",
         "644264C8-A268-C3C5-5929-958C49CBC926",
         "1",
         "1",
         "1.0"
        ],
        [
         "14",
         "6CB65FA4-6A8E-0C33-BFB7-2E8E4A775E4B",
         "1",
         "1",
         "1.0"
        ],
        [
         "15",
         "726E5247-EC79-A415-3409-16A666404C6A",
         "1",
         "1",
         "1.0"
        ],
        [
         "16",
         "72C62199-C17C-9E1F-8AD7-247B81D6D758",
         "1",
         "1",
         "1.0"
        ],
        [
         "17",
         "83E6BA9E-E737-37D0-5385-585F1B8A318B",
         "1",
         "1",
         "1.0"
        ],
        [
         "18",
         "8438C66C-4964-D73D-6839-24F2CDAA5828",
         "1",
         "1",
         "1.0"
        ],
        [
         "19",
         "8719DE73-B4B6-3B52-29CE-15B666A73AF6",
         "1",
         "1",
         "1.0"
        ],
        [
         "20",
         "8768FDE2-A231-B916-8644-F7DCD13CAFC2",
         "1",
         "1",
         "1.0"
        ],
        [
         "21",
         "89A34935-2145-B045-3ED0-1FFAB39DDA32",
         "1",
         "1",
         "1.0"
        ],
        [
         "22",
         "8D895ADD-5501-2A9C-24DD-2EAEB7AEF1C5",
         "1",
         "1",
         "1.0"
        ],
        [
         "23",
         "9C4B45E7-C159-18E5-DB43-9D6F897775D4",
         "1",
         "1",
         "1.0"
        ],
        [
         "24",
         "A1ABDB2E-4E96-3D0D-2E4C-B19425290943",
         "1",
         "1",
         "1.0"
        ],
        [
         "25",
         "A31B0B35-6658-6805-353E-88479B3E4FD7",
         "1",
         "1",
         "1.0"
        ],
        [
         "26",
         "B3CE84BA-2A5C-226C-749F-ECCDF91F19CE",
         "1",
         "1",
         "1.0"
        ],
        [
         "27",
         "BA91684D-74AA-3BB6-148B-346B6EAD1937",
         "1",
         "1",
         "1.0"
        ],
        [
         "28",
         "C0B1ABC1-0C03-5C27-977E-A5EC13EED863",
         "1",
         "1",
         "1.0"
        ],
        [
         "29",
         "C1DCC32D-E42A-F2D6-17AD-FF4A639A9B5A",
         "1",
         "1",
         "1.0"
        ],
        [
         "30",
         "D3C579AE-FA77-6234-9843-6DA39D6E329D",
         "1",
         "1",
         "1.0"
        ],
        [
         "31",
         "D52157FC-58FC-68E6-91D4-CCB11178F8AC",
         "1",
         "1",
         "1.0"
        ],
        [
         "32",
         "DA247F32-9723-9BB6-B770-BC39C252CE15",
         "1",
         "1",
         "1.0"
        ],
        [
         "33",
         "E2DB8D98-9328-ACDA-39A3-802C7BB36D34",
         "1",
         "1",
         "1.0"
        ],
        [
         "34",
         "E308729C-4A62-08C9-45C6-58C9479D4626",
         "1",
         "1",
         "1.0"
        ],
        [
         "35",
         "E6E14C3A-1AE7-7B62-57D8-16A6F19C995F",
         "1",
         "1",
         "1.0"
        ],
        [
         "36",
         "EAC77318-72E4-51E3-AB5A-9BCCBA39C8F2",
         "1",
         "1",
         "1.0"
        ],
        [
         "37",
         "EE2D8157-D63E-6A91-A363-9CF68B530AD3",
         "1",
         "1",
         "1.0"
        ],
        [
         "38",
         "FD89D51B-AE8D-77DC-E450-B8083FBD3187",
         "1",
         "1",
         "1.0"
        ],
        [
         "39",
         "0A476ED9-0C13-1962-F87B-D3563924B539",
         "11",
         "11",
         "2.7"
        ],
        [
         "40",
         "1026DA24-8929-31F1-8250-D7BAB05C13D2",
         "11",
         "11",
         "2.7"
        ],
        [
         "41",
         "1742D72D-6EC3-1B42-A1B2-24AA75A6A14B",
         "11",
         "11",
         "2.7"
        ],
        [
         "42",
         "17B43AB2-DD7D-96C4-2C7D-1989F119A1CB",
         "11",
         "11",
         "2.7"
        ],
        [
         "43",
         "19E1EC3E-2119-1EFD-8AAE-5930D4A4E63F",
         "11",
         "11",
         "2.7"
        ],
        [
         "44",
         "22C9EC22-45FC-72C8-63CE-5FA99A24E770",
         "11",
         "11",
         "2.7"
        ],
        [
         "45",
         "2F3B6AB6-147D-EB0B-FE8D-9A4E2EA9DBD5",
         "11",
         "11",
         "2.7"
        ],
        [
         "46",
         "34368DE0-D181-1B5C-6698-8DF585C06421",
         "11",
         "11",
         "2.7"
        ],
        [
         "47",
         "41EC591D-808E-D85C-F05F-08BC3DE7A618",
         "11",
         "11",
         "2.7"
        ],
        [
         "48",
         "518D6CCF-593A-8932-BE5B-44597DCDDFE9",
         "11",
         "11",
         "2.7"
        ],
        [
         "49",
         "5E47EB85-1F76-1853-839F-94FCF9A95700",
         "11",
         "11",
         "2.7"
        ]
       ],
       "shape": {
        "columns": 4,
        "rows": 1457
       }
      },
      "text/html": [
       "<div>\n",
       "<style scoped>\n",
       "    .dataframe tbody tr th:only-of-type {\n",
       "        vertical-align: middle;\n",
       "    }\n",
       "\n",
       "    .dataframe tbody tr th {\n",
       "        vertical-align: top;\n",
       "    }\n",
       "\n",
       "    .dataframe thead th {\n",
       "        text-align: right;\n",
       "    }\n",
       "</style>\n",
       "<table border=\"1\" class=\"dataframe\">\n",
       "  <thead>\n",
       "    <tr style=\"text-align: right;\">\n",
       "      <th></th>\n",
       "      <th>transactions_id</th>\n",
       "      <th>products_id</th>\n",
       "      <th>id</th>\n",
       "      <th>weight</th>\n",
       "    </tr>\n",
       "  </thead>\n",
       "  <tbody>\n",
       "    <tr>\n",
       "      <th>0</th>\n",
       "      <td>02C6201E-D90A-1859-B4EE-88D2986D3B02</td>\n",
       "      <td>1</td>\n",
       "      <td>1</td>\n",
       "      <td>1.0</td>\n",
       "    </tr>\n",
       "    <tr>\n",
       "      <th>1</th>\n",
       "      <td>1A6CECFB-2E3A-65A3-72D9-2FDB58A1E4BA</td>\n",
       "      <td>1</td>\n",
       "      <td>1</td>\n",
       "      <td>1.0</td>\n",
       "    </tr>\n",
       "    <tr>\n",
       "      <th>2</th>\n",
       "      <td>1EA2B262-D507-AD14-4374-4D532967113F</td>\n",
       "      <td>1</td>\n",
       "      <td>1</td>\n",
       "      <td>1.0</td>\n",
       "    </tr>\n",
       "    <tr>\n",
       "      <th>3</th>\n",
       "      <td>23CF8ED3-402C-7C54-59CD-DB505C5CCCCE</td>\n",
       "      <td>1</td>\n",
       "      <td>1</td>\n",
       "      <td>1.0</td>\n",
       "    </tr>\n",
       "    <tr>\n",
       "      <th>4</th>\n",
       "      <td>2A5A3001-104F-1D1F-7852-5BA801869B6F</td>\n",
       "      <td>1</td>\n",
       "      <td>1</td>\n",
       "      <td>1.0</td>\n",
       "    </tr>\n",
       "    <tr>\n",
       "      <th>...</th>\n",
       "      <td>...</td>\n",
       "      <td>...</td>\n",
       "      <td>...</td>\n",
       "      <td>...</td>\n",
       "    </tr>\n",
       "    <tr>\n",
       "      <th>1452</th>\n",
       "      <td>A84B14A2-2964-EFDE-A234-52B8BCAD87B7</td>\n",
       "      <td>97</td>\n",
       "      <td>97</td>\n",
       "      <td>1.0</td>\n",
       "    </tr>\n",
       "    <tr>\n",
       "      <th>1453</th>\n",
       "      <td>CEBC8755-77B1-722D-A899-E86B58B837BC</td>\n",
       "      <td>97</td>\n",
       "      <td>97</td>\n",
       "      <td>1.0</td>\n",
       "    </tr>\n",
       "    <tr>\n",
       "      <th>1454</th>\n",
       "      <td>D662DF87-90B7-8C73-CD48-FA68399392C9</td>\n",
       "      <td>97</td>\n",
       "      <td>97</td>\n",
       "      <td>1.0</td>\n",
       "    </tr>\n",
       "    <tr>\n",
       "      <th>1455</th>\n",
       "      <td>E6E14C3A-1AE7-7B62-57D8-16A6F19C995F</td>\n",
       "      <td>97</td>\n",
       "      <td>97</td>\n",
       "      <td>1.0</td>\n",
       "    </tr>\n",
       "    <tr>\n",
       "      <th>1456</th>\n",
       "      <td>FBD7E0D6-BA6B-F5BC-0CA9-EA4B8760100C</td>\n",
       "      <td>97</td>\n",
       "      <td>97</td>\n",
       "      <td>1.0</td>\n",
       "    </tr>\n",
       "  </tbody>\n",
       "</table>\n",
       "<p>1457 rows × 4 columns</p>\n",
       "</div>"
      ],
      "text/plain": [
       "                           transactions_id  products_id  id  weight\n",
       "0     02C6201E-D90A-1859-B4EE-88D2986D3B02            1   1     1.0\n",
       "1     1A6CECFB-2E3A-65A3-72D9-2FDB58A1E4BA            1   1     1.0\n",
       "2     1EA2B262-D507-AD14-4374-4D532967113F            1   1     1.0\n",
       "3     23CF8ED3-402C-7C54-59CD-DB505C5CCCCE            1   1     1.0\n",
       "4     2A5A3001-104F-1D1F-7852-5BA801869B6F            1   1     1.0\n",
       "...                                    ...          ...  ..     ...\n",
       "1452  A84B14A2-2964-EFDE-A234-52B8BCAD87B7           97  97     1.0\n",
       "1453  CEBC8755-77B1-722D-A899-E86B58B837BC           97  97     1.0\n",
       "1454  D662DF87-90B7-8C73-CD48-FA68399392C9           97  97     1.0\n",
       "1455  E6E14C3A-1AE7-7B62-57D8-16A6F19C995F           97  97     1.0\n",
       "1456  FBD7E0D6-BA6B-F5BC-0CA9-EA4B8760100C           97  97     1.0\n",
       "\n",
       "[1457 rows x 4 columns]"
      ]
     },
     "execution_count": 330,
     "metadata": {},
     "output_type": "execute_result"
    }
   ],
   "source": [
    "#Hago un merge con la tabla products para obtener el peso\n",
    "\n",
    "P_products = products[['id','weight']]\n",
    "products_transact = pd.merge(products_transact,P_products, left_on='products_id', right_on='id',how='inner')\n",
    "products_transact"
   ]
  },
  {
   "cell_type": "code",
   "execution_count": 332,
   "id": "2fd54995",
   "metadata": {},
   "outputs": [
    {
     "data": {
      "application/vnd.microsoft.datawrangler.viewer.v0+json": {
       "columns": [
        {
         "name": "index",
         "rawType": "int64",
         "type": "integer"
        },
        {
         "name": "transactions_id",
         "rawType": "object",
         "type": "string"
        },
        {
         "name": "total_weight",
         "rawType": "float64",
         "type": "float"
        }
       ],
       "ref": "f4a5e595-e8c6-4e0e-a1e8-136816f164b1",
       "rows": [
        [
         "0",
         "02C6201E-D90A-1859-B4EE-88D2986D3B02",
         "4.3"
        ],
        [
         "1",
         "0466A42E-47CF-8D24-FD01-C0B689713128",
         "4.3"
        ],
        [
         "2",
         "063FBA79-99EC-66FB-29F7-25726D1764A5",
         "7.1"
        ],
        [
         "3",
         "0668296C-CDB9-A883-76BC-2E4C44F8C8AE",
         "6.5"
        ],
        [
         "4",
         "06CD9AA5-9B42-D684-DDDD-A5E394FEBA99",
         "1.2"
        ],
        [
         "5",
         "07A46D48-31A3-7E87-65B9-0DA902AD109F",
         "5.4"
        ],
        [
         "6",
         "09DE92CE-6F27-2BB7-13B5-9385B2B3B8E2",
         "1.2"
        ],
        [
         "7",
         "0A476ED9-0C13-1962-F87B-D3563924B539",
         "9.1"
        ],
        [
         "8",
         "0BEB80B7-9D66-1707-CE4B-9DC7E71914B5",
         "8.5"
        ],
        [
         "9",
         "0C7C3A33-9947-3BC1-846D-7BE3D0D17598",
         "3.8"
        ],
        [
         "10",
         "0CE957A6-CCAA-2B7A-6839-8A4B1B324853",
         "5.3"
        ],
        [
         "11",
         "0DD2E608-5C9E-D1B3-4999-B99F43AD735A",
         "6.5"
        ],
        [
         "12",
         "1017AA59-3D5F-7A4C-1992-D151A8D1FA0A",
         "2.0"
        ],
        [
         "13",
         "1026DA24-8929-31F1-8250-D7BAB05C13D2",
         "7.5"
        ],
        [
         "14",
         "108B1D1D-5B23-A76C-55EF-C568E49A05DD",
         "2.7"
        ],
        [
         "15",
         "10A9B07A-810C-76EB-4D15-12C6CC128037",
         "3.3"
        ],
        [
         "16",
         "11ABED97-EA12-1B9A-96F0-A93ACC172179",
         "3.2"
        ],
        [
         "17",
         "122DC333-E19F-D629-DCD8-9C54CF1EBB9A",
         "2.2"
        ],
        [
         "18",
         "133B82CC-DE62-8604-2D11-3DC5449E0A5F",
         "3.2"
        ],
        [
         "19",
         "135267BA-2E7D-957C-C42C-6450A2B3ED54",
         "5.4"
        ],
        [
         "20",
         "13DCC69F-EA07-E52B-8309-D474C6281E80",
         "6.9"
        ],
        [
         "21",
         "13FBB312-B283-7976-DA47-14DE5986218A",
         "7.1"
        ],
        [
         "22",
         "1479B3D2-B7BA-C7BB-4CE3-8D7C2DE85ABB",
         "9.1"
        ],
        [
         "23",
         "14CAE5B5-8FB1-3E4A-4C85-0EA4167534F4",
         "6.8"
        ],
        [
         "24",
         "1517E8A8-8B44-A7C9-6691-692C27D0DC2C",
         "3.3"
        ],
        [
         "25",
         "152598C2-029D-D684-4B66-91EDF393EBFF",
         "3.7"
        ],
        [
         "26",
         "156F3F80-7E7D-65CF-727D-6AE03CEB7520",
         "3.2"
        ],
        [
         "27",
         "1575F87A-E37B-DADD-554C-A99D8E7162A6",
         "4.7"
        ],
        [
         "28",
         "158A3ACB-541C-DBCC-65BD-6373CC67BF1C",
         "10.1"
        ],
        [
         "29",
         "15CC4862-D13E-ED4B-941C-486484AFDFAD",
         "4.2"
        ],
        [
         "30",
         "162C7E78-2B6B-7971-A1E4-D2124E732451",
         "3.2"
        ],
        [
         "31",
         "167DE938-B1C2-428D-FA3D-96A45CD41B22",
         "3.6"
        ],
        [
         "32",
         "1717FD6B-ADAD-7082-A748-9112BE892CCC",
         "5.2"
        ],
        [
         "33",
         "1742D72D-6EC3-1B42-A1B2-24AA75A6A14B",
         "9.2"
        ],
        [
         "34",
         "1753A288-9FC1-52E6-5C39-A1FFB97B0D3A",
         "5.8"
        ],
        [
         "35",
         "17561134-37A4-E316-2C3C-C5541EDAD761",
         "5.2"
        ],
        [
         "36",
         "1788C881-EE67-9BAB-377A-4C78E772160B",
         "3.2"
        ],
        [
         "37",
         "17B43AB2-DD7D-96C4-2C7D-1989F119A1CB",
         "5.9"
        ],
        [
         "38",
         "1822A630-4B6E-DABC-2576-6EC107FA15C2",
         "4.3"
        ],
        [
         "39",
         "18528B27-18B8-93DA-9B8C-31635C536DA4",
         "3.3"
        ],
        [
         "40",
         "185C9F2C-67A2-8EC0-0BB6-93789CC59F05",
         "5.9"
        ],
        [
         "41",
         "186F53DE-DE27-B1FE-B82F-15B61CEB7726",
         "4.8"
        ],
        [
         "42",
         "18B1AD88-F155-45B7-D2EA-4738407435D6",
         "0.6"
        ],
        [
         "43",
         "18B2472B-DA8B-36F7-B0F2-7DDA688B73D1",
         "5.4"
        ],
        [
         "44",
         "18C4E2DD-1E4C-F35E-2198-C660BD81DC25",
         "5.8"
        ],
        [
         "45",
         "18CCBA7C-ABC1-813D-FAF3-4BAB97429368",
         "9.1"
        ],
        [
         "46",
         "18D648AB-7D54-A3E8-2DBA-2D8D2991CA43",
         "3.2"
        ],
        [
         "47",
         "1998A483-B4CD-FAE6-745C-8F2F2EB77A8E",
         "3.9"
        ],
        [
         "48",
         "19E1EC3E-2119-1EFD-8AAE-5930D4A4E63F",
         "8.6"
        ],
        [
         "49",
         "1A1279B1-B393-3EE4-6A2E-6D8F1256A49D",
         "4.3"
        ]
       ],
       "shape": {
        "columns": 2,
        "rows": 587
       }
      },
      "text/html": [
       "<div>\n",
       "<style scoped>\n",
       "    .dataframe tbody tr th:only-of-type {\n",
       "        vertical-align: middle;\n",
       "    }\n",
       "\n",
       "    .dataframe tbody tr th {\n",
       "        vertical-align: top;\n",
       "    }\n",
       "\n",
       "    .dataframe thead th {\n",
       "        text-align: right;\n",
       "    }\n",
       "</style>\n",
       "<table border=\"1\" class=\"dataframe\">\n",
       "  <thead>\n",
       "    <tr style=\"text-align: right;\">\n",
       "      <th></th>\n",
       "      <th>transactions_id</th>\n",
       "      <th>total_weight</th>\n",
       "    </tr>\n",
       "  </thead>\n",
       "  <tbody>\n",
       "    <tr>\n",
       "      <th>0</th>\n",
       "      <td>02C6201E-D90A-1859-B4EE-88D2986D3B02</td>\n",
       "      <td>4.3</td>\n",
       "    </tr>\n",
       "    <tr>\n",
       "      <th>1</th>\n",
       "      <td>0466A42E-47CF-8D24-FD01-C0B689713128</td>\n",
       "      <td>4.3</td>\n",
       "    </tr>\n",
       "    <tr>\n",
       "      <th>2</th>\n",
       "      <td>063FBA79-99EC-66FB-29F7-25726D1764A5</td>\n",
       "      <td>7.1</td>\n",
       "    </tr>\n",
       "    <tr>\n",
       "      <th>3</th>\n",
       "      <td>0668296C-CDB9-A883-76BC-2E4C44F8C8AE</td>\n",
       "      <td>6.5</td>\n",
       "    </tr>\n",
       "    <tr>\n",
       "      <th>4</th>\n",
       "      <td>06CD9AA5-9B42-D684-DDDD-A5E394FEBA99</td>\n",
       "      <td>1.2</td>\n",
       "    </tr>\n",
       "    <tr>\n",
       "      <th>...</th>\n",
       "      <td>...</td>\n",
       "      <td>...</td>\n",
       "    </tr>\n",
       "    <tr>\n",
       "      <th>582</th>\n",
       "      <td>FD2E8957-414B-BEEC-E9AD-59AA7A8A6290</td>\n",
       "      <td>9.7</td>\n",
       "    </tr>\n",
       "    <tr>\n",
       "      <th>583</th>\n",
       "      <td>FD89D51B-AE8D-77DC-E450-B8083FBD3187</td>\n",
       "      <td>5.5</td>\n",
       "    </tr>\n",
       "    <tr>\n",
       "      <th>584</th>\n",
       "      <td>FD9CBCCD-8E1E-8DA1-4606-7E3A6F3A5A65</td>\n",
       "      <td>1.0</td>\n",
       "    </tr>\n",
       "    <tr>\n",
       "      <th>585</th>\n",
       "      <td>FE809ED4-2DB6-55AC-C915-929516E4646B</td>\n",
       "      <td>3.3</td>\n",
       "    </tr>\n",
       "    <tr>\n",
       "      <th>586</th>\n",
       "      <td>FE96CE47-BD59-381C-4E18-E3CA3D44E8FF</td>\n",
       "      <td>1.5</td>\n",
       "    </tr>\n",
       "  </tbody>\n",
       "</table>\n",
       "<p>587 rows × 2 columns</p>\n",
       "</div>"
      ],
      "text/plain": [
       "                          transactions_id  total_weight\n",
       "0    02C6201E-D90A-1859-B4EE-88D2986D3B02           4.3\n",
       "1    0466A42E-47CF-8D24-FD01-C0B689713128           4.3\n",
       "2    063FBA79-99EC-66FB-29F7-25726D1764A5           7.1\n",
       "3    0668296C-CDB9-A883-76BC-2E4C44F8C8AE           6.5\n",
       "4    06CD9AA5-9B42-D684-DDDD-A5E394FEBA99           1.2\n",
       "..                                    ...           ...\n",
       "582  FD2E8957-414B-BEEC-E9AD-59AA7A8A6290           9.7\n",
       "583  FD89D51B-AE8D-77DC-E450-B8083FBD3187           5.5\n",
       "584  FD9CBCCD-8E1E-8DA1-4606-7E3A6F3A5A65           1.0\n",
       "585  FE809ED4-2DB6-55AC-C915-929516E4646B           3.3\n",
       "586  FE96CE47-BD59-381C-4E18-E3CA3D44E8FF           1.5\n",
       "\n",
       "[587 rows x 2 columns]"
      ]
     },
     "execution_count": 332,
     "metadata": {},
     "output_type": "execute_result"
    }
   ],
   "source": [
    "#calculo el peso total de cada transacción y lo guardo en una variable\n",
    "\n",
    "peso_total = products_transact[['transactions_id','weight']]\n",
    "total_weight= peso_total.groupby('transactions_id', as_index=False).sum().round(2)\n",
    "total_weight.rename(columns={'weight':'total_weight'}, inplace=True)\n",
    "total_weight\n"
   ]
  },
  {
   "cell_type": "code",
   "execution_count": 333,
   "id": "54c73182",
   "metadata": {},
   "outputs": [
    {
     "data": {
      "application/vnd.microsoft.datawrangler.viewer.v0+json": {
       "columns": [
        {
         "name": "index",
         "rawType": "int64",
         "type": "integer"
        },
        {
         "name": "transactions_id",
         "rawType": "object",
         "type": "string"
        },
        {
         "name": "products_per_transact",
         "rawType": "int64",
         "type": "integer"
        },
        {
         "name": "total_weight",
         "rawType": "float64",
         "type": "float"
        }
       ],
       "ref": "167356d4-f30c-478f-9412-79036e71ce5c",
       "rows": [
        [
         "0",
         "02C6201E-D90A-1859-B4EE-88D2986D3B02",
         "3",
         "4.3"
        ],
        [
         "1",
         "0466A42E-47CF-8D24-FD01-C0B689713128",
         "3",
         "4.3"
        ],
        [
         "2",
         "063FBA79-99EC-66FB-29F7-25726D1764A5",
         "4",
         "7.1"
        ],
        [
         "3",
         "0668296C-CDB9-A883-76BC-2E4C44F8C8AE",
         "3",
         "6.5"
        ],
        [
         "4",
         "06CD9AA5-9B42-D684-DDDD-A5E394FEBA99",
         "2",
         "1.2"
        ],
        [
         "5",
         "07A46D48-31A3-7E87-65B9-0DA902AD109F",
         "2",
         "5.4"
        ],
        [
         "6",
         "09DE92CE-6F27-2BB7-13B5-9385B2B3B8E2",
         "2",
         "1.2"
        ],
        [
         "7",
         "0A476ED9-0C13-1962-F87B-D3563924B539",
         "3",
         "9.1"
        ],
        [
         "8",
         "0BEB80B7-9D66-1707-CE4B-9DC7E71914B5",
         "4",
         "8.5"
        ],
        [
         "9",
         "0C7C3A33-9947-3BC1-846D-7BE3D0D17598",
         "2",
         "3.8"
        ],
        [
         "10",
         "0CE957A6-CCAA-2B7A-6839-8A4B1B324853",
         "4",
         "5.3"
        ],
        [
         "11",
         "0DD2E608-5C9E-D1B3-4999-B99F43AD735A",
         "3",
         "6.5"
        ],
        [
         "12",
         "1017AA59-3D5F-7A4C-1992-D151A8D1FA0A",
         "2",
         "2.0"
        ],
        [
         "13",
         "1026DA24-8929-31F1-8250-D7BAB05C13D2",
         "4",
         "7.5"
        ],
        [
         "14",
         "108B1D1D-5B23-A76C-55EF-C568E49A05DD",
         "1",
         "2.7"
        ],
        [
         "15",
         "10A9B07A-810C-76EB-4D15-12C6CC128037",
         "2",
         "3.3"
        ],
        [
         "16",
         "11ABED97-EA12-1B9A-96F0-A93ACC172179",
         "1",
         "3.2"
        ],
        [
         "17",
         "122DC333-E19F-D629-DCD8-9C54CF1EBB9A",
         "3",
         "2.2"
        ],
        [
         "18",
         "133B82CC-DE62-8604-2D11-3DC5449E0A5F",
         "1",
         "3.2"
        ],
        [
         "19",
         "135267BA-2E7D-957C-C42C-6450A2B3ED54",
         "2",
         "5.4"
        ],
        [
         "20",
         "13DCC69F-EA07-E52B-8309-D474C6281E80",
         "3",
         "6.9"
        ],
        [
         "21",
         "13FBB312-B283-7976-DA47-14DE5986218A",
         "4",
         "7.1"
        ],
        [
         "22",
         "1479B3D2-B7BA-C7BB-4CE3-8D7C2DE85ABB",
         "3",
         "9.1"
        ],
        [
         "23",
         "14CAE5B5-8FB1-3E4A-4C85-0EA4167534F4",
         "4",
         "6.8"
        ],
        [
         "24",
         "1517E8A8-8B44-A7C9-6691-692C27D0DC2C",
         "2",
         "3.3"
        ],
        [
         "25",
         "152598C2-029D-D684-4B66-91EDF393EBFF",
         "2",
         "3.7"
        ],
        [
         "26",
         "156F3F80-7E7D-65CF-727D-6AE03CEB7520",
         "1",
         "3.2"
        ],
        [
         "27",
         "1575F87A-E37B-DADD-554C-A99D8E7162A6",
         "3",
         "4.7"
        ],
        [
         "28",
         "158A3ACB-541C-DBCC-65BD-6373CC67BF1C",
         "4",
         "10.1"
        ],
        [
         "29",
         "15CC4862-D13E-ED4B-941C-486484AFDFAD",
         "2",
         "4.2"
        ],
        [
         "30",
         "162C7E78-2B6B-7971-A1E4-D2124E732451",
         "1",
         "3.2"
        ],
        [
         "31",
         "167DE938-B1C2-428D-FA3D-96A45CD41B22",
         "3",
         "3.6"
        ],
        [
         "32",
         "1717FD6B-ADAD-7082-A748-9112BE892CCC",
         "2",
         "5.2"
        ],
        [
         "33",
         "1742D72D-6EC3-1B42-A1B2-24AA75A6A14B",
         "4",
         "9.2"
        ],
        [
         "34",
         "1753A288-9FC1-52E6-5C39-A1FFB97B0D3A",
         "4",
         "5.8"
        ],
        [
         "35",
         "17561134-37A4-E316-2C3C-C5541EDAD761",
         "2",
         "5.2"
        ],
        [
         "36",
         "1788C881-EE67-9BAB-377A-4C78E772160B",
         "3",
         "3.2"
        ],
        [
         "37",
         "17B43AB2-DD7D-96C4-2C7D-1989F119A1CB",
         "2",
         "5.9"
        ],
        [
         "38",
         "1822A630-4B6E-DABC-2576-6EC107FA15C2",
         "3",
         "4.3"
        ],
        [
         "39",
         "18528B27-18B8-93DA-9B8C-31635C536DA4",
         "2",
         "3.3"
        ],
        [
         "40",
         "185C9F2C-67A2-8EC0-0BB6-93789CC59F05",
         "2",
         "5.9"
        ],
        [
         "41",
         "186F53DE-DE27-B1FE-B82F-15B61CEB7726",
         "3",
         "4.8"
        ],
        [
         "42",
         "18B1AD88-F155-45B7-D2EA-4738407435D6",
         "1",
         "0.6"
        ],
        [
         "43",
         "18B2472B-DA8B-36F7-B0F2-7DDA688B73D1",
         "2",
         "5.4"
        ],
        [
         "44",
         "18C4E2DD-1E4C-F35E-2198-C660BD81DC25",
         "4",
         "5.8"
        ],
        [
         "45",
         "18CCBA7C-ABC1-813D-FAF3-4BAB97429368",
         "4",
         "9.1"
        ],
        [
         "46",
         "18D648AB-7D54-A3E8-2DBA-2D8D2991CA43",
         "1",
         "3.2"
        ],
        [
         "47",
         "1998A483-B4CD-FAE6-745C-8F2F2EB77A8E",
         "3",
         "3.9"
        ],
        [
         "48",
         "19E1EC3E-2119-1EFD-8AAE-5930D4A4E63F",
         "3",
         "8.6"
        ],
        [
         "49",
         "1A1279B1-B393-3EE4-6A2E-6D8F1256A49D",
         "3",
         "4.3"
        ]
       ],
       "shape": {
        "columns": 3,
        "rows": 587
       }
      },
      "text/html": [
       "<div>\n",
       "<style scoped>\n",
       "    .dataframe tbody tr th:only-of-type {\n",
       "        vertical-align: middle;\n",
       "    }\n",
       "\n",
       "    .dataframe tbody tr th {\n",
       "        vertical-align: top;\n",
       "    }\n",
       "\n",
       "    .dataframe thead th {\n",
       "        text-align: right;\n",
       "    }\n",
       "</style>\n",
       "<table border=\"1\" class=\"dataframe\">\n",
       "  <thead>\n",
       "    <tr style=\"text-align: right;\">\n",
       "      <th></th>\n",
       "      <th>transactions_id</th>\n",
       "      <th>products_per_transact</th>\n",
       "      <th>total_weight</th>\n",
       "    </tr>\n",
       "  </thead>\n",
       "  <tbody>\n",
       "    <tr>\n",
       "      <th>0</th>\n",
       "      <td>02C6201E-D90A-1859-B4EE-88D2986D3B02</td>\n",
       "      <td>3</td>\n",
       "      <td>4.3</td>\n",
       "    </tr>\n",
       "    <tr>\n",
       "      <th>1</th>\n",
       "      <td>0466A42E-47CF-8D24-FD01-C0B689713128</td>\n",
       "      <td>3</td>\n",
       "      <td>4.3</td>\n",
       "    </tr>\n",
       "    <tr>\n",
       "      <th>2</th>\n",
       "      <td>063FBA79-99EC-66FB-29F7-25726D1764A5</td>\n",
       "      <td>4</td>\n",
       "      <td>7.1</td>\n",
       "    </tr>\n",
       "    <tr>\n",
       "      <th>3</th>\n",
       "      <td>0668296C-CDB9-A883-76BC-2E4C44F8C8AE</td>\n",
       "      <td>3</td>\n",
       "      <td>6.5</td>\n",
       "    </tr>\n",
       "    <tr>\n",
       "      <th>4</th>\n",
       "      <td>06CD9AA5-9B42-D684-DDDD-A5E394FEBA99</td>\n",
       "      <td>2</td>\n",
       "      <td>1.2</td>\n",
       "    </tr>\n",
       "    <tr>\n",
       "      <th>...</th>\n",
       "      <td>...</td>\n",
       "      <td>...</td>\n",
       "      <td>...</td>\n",
       "    </tr>\n",
       "    <tr>\n",
       "      <th>582</th>\n",
       "      <td>FD2E8957-414B-BEEC-E9AD-59AA7A8A6290</td>\n",
       "      <td>4</td>\n",
       "      <td>9.7</td>\n",
       "    </tr>\n",
       "    <tr>\n",
       "      <th>583</th>\n",
       "      <td>FD89D51B-AE8D-77DC-E450-B8083FBD3187</td>\n",
       "      <td>4</td>\n",
       "      <td>5.5</td>\n",
       "    </tr>\n",
       "    <tr>\n",
       "      <th>584</th>\n",
       "      <td>FD9CBCCD-8E1E-8DA1-4606-7E3A6F3A5A65</td>\n",
       "      <td>1</td>\n",
       "      <td>1.0</td>\n",
       "    </tr>\n",
       "    <tr>\n",
       "      <th>585</th>\n",
       "      <td>FE809ED4-2DB6-55AC-C915-929516E4646B</td>\n",
       "      <td>2</td>\n",
       "      <td>3.3</td>\n",
       "    </tr>\n",
       "    <tr>\n",
       "      <th>586</th>\n",
       "      <td>FE96CE47-BD59-381C-4E18-E3CA3D44E8FF</td>\n",
       "      <td>1</td>\n",
       "      <td>1.5</td>\n",
       "    </tr>\n",
       "  </tbody>\n",
       "</table>\n",
       "<p>587 rows × 3 columns</p>\n",
       "</div>"
      ],
      "text/plain": [
       "                          transactions_id  products_per_transact  total_weight\n",
       "0    02C6201E-D90A-1859-B4EE-88D2986D3B02                      3           4.3\n",
       "1    0466A42E-47CF-8D24-FD01-C0B689713128                      3           4.3\n",
       "2    063FBA79-99EC-66FB-29F7-25726D1764A5                      4           7.1\n",
       "3    0668296C-CDB9-A883-76BC-2E4C44F8C8AE                      3           6.5\n",
       "4    06CD9AA5-9B42-D684-DDDD-A5E394FEBA99                      2           1.2\n",
       "..                                    ...                    ...           ...\n",
       "582  FD2E8957-414B-BEEC-E9AD-59AA7A8A6290                      4           9.7\n",
       "583  FD89D51B-AE8D-77DC-E450-B8083FBD3187                      4           5.5\n",
       "584  FD9CBCCD-8E1E-8DA1-4606-7E3A6F3A5A65                      1           1.0\n",
       "585  FE809ED4-2DB6-55AC-C915-929516E4646B                      2           3.3\n",
       "586  FE96CE47-BD59-381C-4E18-E3CA3D44E8FF                      1           1.5\n",
       "\n",
       "[587 rows x 3 columns]"
      ]
     },
     "execution_count": 333,
     "metadata": {},
     "output_type": "execute_result"
    }
   ],
   "source": [
    "#Dataframe con peso total y productos totales por transacción:\n",
    "\n",
    "products_transact_total = pd.merge(total_products,total_weight, on='transactions_id',how='inner')\n",
    "products_transact_total"
   ]
  },
  {
   "cell_type": "code",
   "execution_count": 335,
   "id": "9b8cf2d3",
   "metadata": {},
   "outputs": [
    {
     "data": {
      "application/vnd.microsoft.datawrangler.viewer.v0+json": {
       "columns": [
        {
         "name": "index",
         "rawType": "int64",
         "type": "integer"
        },
        {
         "name": "transactions_id",
         "rawType": "object",
         "type": "string"
        },
        {
         "name": "user_id",
         "rawType": "int64",
         "type": "integer"
        },
        {
         "name": "amount",
         "rawType": "float64",
         "type": "float"
        },
        {
         "name": "declined",
         "rawType": "int64",
         "type": "integer"
        },
        {
         "name": "age",
         "rawType": "int32",
         "type": "integer"
        },
        {
         "name": "country",
         "rawType": "object",
         "type": "string"
        },
        {
         "name": "products_per_transact",
         "rawType": "int64",
         "type": "integer"
        },
        {
         "name": "total_weight",
         "rawType": "float64",
         "type": "float"
        }
       ],
       "ref": "37df01b0-e97a-4bfb-9bac-3923be669236",
       "rows": [
        [
         "0",
         "02C6201E-D90A-1859-B4EE-88D2986D3B02",
         "92",
         "466.92",
         "0",
         "41",
         "United States",
         "3",
         "4.3"
        ],
        [
         "1",
         "0466A42E-47CF-8D24-FD01-C0B689713128",
         "170",
         "49.53",
         "0",
         "38",
         "United Kingdom",
         "3",
         "4.3"
        ],
        [
         "2",
         "063FBA79-99EC-66FB-29F7-25726D1764A5",
         "275",
         "92.61",
         "0",
         "43",
         "Canada",
         "4",
         "7.1"
        ],
        [
         "3",
         "0668296C-CDB9-A883-76BC-2E4C44F8C8AE",
         "265",
         "394.18",
         "0",
         "26",
         "Canada",
         "3",
         "6.5"
        ],
        [
         "4",
         "06CD9AA5-9B42-D684-DDDD-A5E394FEBA99",
         "92",
         "279.93",
         "0",
         "41",
         "United States",
         "2",
         "1.2"
        ]
       ],
       "shape": {
        "columns": 8,
        "rows": 5
       }
      },
      "text/html": [
       "<div>\n",
       "<style scoped>\n",
       "    .dataframe tbody tr th:only-of-type {\n",
       "        vertical-align: middle;\n",
       "    }\n",
       "\n",
       "    .dataframe tbody tr th {\n",
       "        vertical-align: top;\n",
       "    }\n",
       "\n",
       "    .dataframe thead th {\n",
       "        text-align: right;\n",
       "    }\n",
       "</style>\n",
       "<table border=\"1\" class=\"dataframe\">\n",
       "  <thead>\n",
       "    <tr style=\"text-align: right;\">\n",
       "      <th></th>\n",
       "      <th>transactions_id</th>\n",
       "      <th>user_id</th>\n",
       "      <th>amount</th>\n",
       "      <th>declined</th>\n",
       "      <th>age</th>\n",
       "      <th>country</th>\n",
       "      <th>products_per_transact</th>\n",
       "      <th>total_weight</th>\n",
       "    </tr>\n",
       "  </thead>\n",
       "  <tbody>\n",
       "    <tr>\n",
       "      <th>0</th>\n",
       "      <td>02C6201E-D90A-1859-B4EE-88D2986D3B02</td>\n",
       "      <td>92</td>\n",
       "      <td>466.92</td>\n",
       "      <td>0</td>\n",
       "      <td>41</td>\n",
       "      <td>United States</td>\n",
       "      <td>3</td>\n",
       "      <td>4.3</td>\n",
       "    </tr>\n",
       "    <tr>\n",
       "      <th>1</th>\n",
       "      <td>0466A42E-47CF-8D24-FD01-C0B689713128</td>\n",
       "      <td>170</td>\n",
       "      <td>49.53</td>\n",
       "      <td>0</td>\n",
       "      <td>38</td>\n",
       "      <td>United Kingdom</td>\n",
       "      <td>3</td>\n",
       "      <td>4.3</td>\n",
       "    </tr>\n",
       "    <tr>\n",
       "      <th>2</th>\n",
       "      <td>063FBA79-99EC-66FB-29F7-25726D1764A5</td>\n",
       "      <td>275</td>\n",
       "      <td>92.61</td>\n",
       "      <td>0</td>\n",
       "      <td>43</td>\n",
       "      <td>Canada</td>\n",
       "      <td>4</td>\n",
       "      <td>7.1</td>\n",
       "    </tr>\n",
       "    <tr>\n",
       "      <th>3</th>\n",
       "      <td>0668296C-CDB9-A883-76BC-2E4C44F8C8AE</td>\n",
       "      <td>265</td>\n",
       "      <td>394.18</td>\n",
       "      <td>0</td>\n",
       "      <td>26</td>\n",
       "      <td>Canada</td>\n",
       "      <td>3</td>\n",
       "      <td>6.5</td>\n",
       "    </tr>\n",
       "    <tr>\n",
       "      <th>4</th>\n",
       "      <td>06CD9AA5-9B42-D684-DDDD-A5E394FEBA99</td>\n",
       "      <td>92</td>\n",
       "      <td>279.93</td>\n",
       "      <td>0</td>\n",
       "      <td>41</td>\n",
       "      <td>United States</td>\n",
       "      <td>2</td>\n",
       "      <td>1.2</td>\n",
       "    </tr>\n",
       "  </tbody>\n",
       "</table>\n",
       "</div>"
      ],
      "text/plain": [
       "                        transactions_id  user_id  amount  declined  age  \\\n",
       "0  02C6201E-D90A-1859-B4EE-88D2986D3B02       92  466.92         0   41   \n",
       "1  0466A42E-47CF-8D24-FD01-C0B689713128      170   49.53         0   38   \n",
       "2  063FBA79-99EC-66FB-29F7-25726D1764A5      275   92.61         0   43   \n",
       "3  0668296C-CDB9-A883-76BC-2E4C44F8C8AE      265  394.18         0   26   \n",
       "4  06CD9AA5-9B42-D684-DDDD-A5E394FEBA99       92  279.93         0   41   \n",
       "\n",
       "          country  products_per_transact  total_weight  \n",
       "0   United States                      3           4.3  \n",
       "1  United Kingdom                      3           4.3  \n",
       "2          Canada                      4           7.1  \n",
       "3          Canada                      3           6.5  \n",
       "4   United States                      2           1.2  "
      ]
     },
     "execution_count": 335,
     "metadata": {},
     "output_type": "execute_result"
    }
   ],
   "source": [
    "#Creo el dataframe con los datos que usaré para la correlación:\n",
    "\n",
    "datos_correlacion = pd.merge(datos_pairplot,products_transact_total, on='transactions_id', how='inner')\n",
    "datos_correlacion.head()"
   ]
  },
  {
   "cell_type": "code",
   "execution_count": 372,
   "id": "4f0d9ebe",
   "metadata": {},
   "outputs": [
    {
     "name": "stdout",
     "output_type": "stream",
     "text": [
      "amount:, Estadístico de Shapiro-Wilk: 0.9459, p-valor: 0.0000\n",
      "Los datos no siguen una distribución normal (p < 0.05).\n",
      "\n",
      "products_per_transact:, Estadístico de Shapiro-Wilk: 0.8793, p-valor: 0.0000\n",
      "Los datos no siguen una distribución normal (p < 0.05).\n",
      "\n",
      "total_weight:, Estadístico de Shapiro-Wilk: 0.9790, p-valor: 0.0000\n",
      "Los datos no siguen una distribución normal (p < 0.05).\n",
      "\n"
     ]
    }
   ],
   "source": [
    "#Hago un test de shapiro wilk para ver si los datos son normales.\n",
    "\n",
    "test_shapiro =  datos_correlacion[['amount','products_per_transact','total_weight']]\n",
    "\n",
    "for col in test_shapiro.columns:\n",
    "    stat, p = stats.shapiro(test_shapiro[col])\n",
    "    print(f'{col}:, Estadístico de Shapiro-Wilk: {stat:.4f}, p-valor: {p:.4f}')\n",
    "    if p < 0.05:\n",
    "        print('Los datos no siguen una distribución normal (p < 0.05).')\n",
    "    else:\n",
    "        print('Los datos podrían seguir una distribución normal (p ≥ 0.05).')\n",
    "    print()\n"
   ]
  },
  {
   "cell_type": "code",
   "execution_count": 376,
   "id": "33150d53",
   "metadata": {},
   "outputs": [
    {
     "data": {
      "application/vnd.microsoft.datawrangler.viewer.v0+json": {
       "columns": [
        {
         "name": "index",
         "rawType": "object",
         "type": "string"
        },
        {
         "name": "amount",
         "rawType": "float64",
         "type": "float"
        },
        {
         "name": "products_per_transact",
         "rawType": "float64",
         "type": "float"
        },
        {
         "name": "total_weight",
         "rawType": "float64",
         "type": "float"
        }
       ],
       "ref": "14708215-e223-4c0c-a3e8-d89234501991",
       "rows": [
        [
         "amount",
         "1.0",
         "0.012036620823100036",
         "-0.0052240489388687686"
        ],
        [
         "products_per_transact",
         "0.012036620823100036",
         "1.0",
         "0.7615097836149386"
        ],
        [
         "total_weight",
         "-0.0052240489388687686",
         "0.7615097836149386",
         "1.0"
        ]
       ],
       "shape": {
        "columns": 3,
        "rows": 3
       }
      },
      "text/html": [
       "<div>\n",
       "<style scoped>\n",
       "    .dataframe tbody tr th:only-of-type {\n",
       "        vertical-align: middle;\n",
       "    }\n",
       "\n",
       "    .dataframe tbody tr th {\n",
       "        vertical-align: top;\n",
       "    }\n",
       "\n",
       "    .dataframe thead th {\n",
       "        text-align: right;\n",
       "    }\n",
       "</style>\n",
       "<table border=\"1\" class=\"dataframe\">\n",
       "  <thead>\n",
       "    <tr style=\"text-align: right;\">\n",
       "      <th></th>\n",
       "      <th>amount</th>\n",
       "      <th>products_per_transact</th>\n",
       "      <th>total_weight</th>\n",
       "    </tr>\n",
       "  </thead>\n",
       "  <tbody>\n",
       "    <tr>\n",
       "      <th>amount</th>\n",
       "      <td>1.000000</td>\n",
       "      <td>0.012037</td>\n",
       "      <td>-0.005224</td>\n",
       "    </tr>\n",
       "    <tr>\n",
       "      <th>products_per_transact</th>\n",
       "      <td>0.012037</td>\n",
       "      <td>1.000000</td>\n",
       "      <td>0.761510</td>\n",
       "    </tr>\n",
       "    <tr>\n",
       "      <th>total_weight</th>\n",
       "      <td>-0.005224</td>\n",
       "      <td>0.761510</td>\n",
       "      <td>1.000000</td>\n",
       "    </tr>\n",
       "  </tbody>\n",
       "</table>\n",
       "</div>"
      ],
      "text/plain": [
       "                         amount  products_per_transact  total_weight\n",
       "amount                 1.000000               0.012037     -0.005224\n",
       "products_per_transact  0.012037               1.000000      0.761510\n",
       "total_weight          -0.005224               0.761510      1.000000"
      ]
     },
     "execution_count": 376,
     "metadata": {},
     "output_type": "execute_result"
    }
   ],
   "source": [
    "#como los datos no siguen una distribución normal, uso el coeficiente de spearman\n",
    "correlacion_spearman = datos_correlacion[['amount','products_per_transact','total_weight']].corr(method= 'spearman')\n",
    "correlacion_spearman"
   ]
  },
  {
   "cell_type": "markdown",
   "id": "87bab677",
   "metadata": {},
   "source": []
  },
  {
   "cell_type": "code",
   "execution_count": 378,
   "id": "f0e4de12",
   "metadata": {},
   "outputs": [
    {
     "data": {
      "image/png": "[encoded data removed]",
      "text/plain": [
       "<Figure size 640x480 with 2 Axes>"
      ]
     },
     "metadata": {},
     "output_type": "display_data"
    }
   ],
   "source": [
    "#Grafico la correlación de las variables numéricas con un heatmap\n",
    "sns.heatmap(datos_correlacion[['products_per_transact','amount','total_weight']].corr(),annot=True, fmt='.2f', cmap='coolwarm', linewidths=0.5);"
   ]
  },
  {
   "cell_type": "markdown",
   "id": "ec095d1a",
   "metadata": {},
   "source": [
    "Como conclusión, vemos que la relación más significativa es la que se da entre el número de productos adquirido vs el peso total del pedido, lo cual es algo que tiene sentido.\n",
    "\n",
    "Por el contrario, vemos que la relación entre importe y peso no es significativa. Esto puede ser porque el producto más caro no necesariamente es el que pesa más."
   ]
  },
  {
   "cell_type": "markdown",
   "id": "e6c71f1f",
   "metadata": {},
   "source": []
  },
  {
   "cell_type": "markdown",
   "id": "45798417",
   "metadata": {},
   "source": [
    "<font color=\"violet\">**- Ejercicio 2**</font>\n",
    "\n",
    "Implementa un jointplot.\n",
    "\n",
    "En línea con la pregunta anterior, uso los datos de la correlación entre peso total y productos por transacción para graficar el jointplot"
   ]
  },
  {
   "cell_type": "code",
   "execution_count": 388,
   "id": "24b8e252",
   "metadata": {},
   "outputs": [
    {
     "data": {
      "image/png": "[encoded data removed]",
      "text/plain": [
       "<Figure size 600x600 with 3 Axes>"
      ]
     },
     "metadata": {},
     "output_type": "display_data"
    }
   ],
   "source": [
    "#joinplot: visualización que permite observar simultáneamente la distribución de dos variables y su relación conjunta.\n",
    "sns.jointplot(datos_correlacion, x='total_weight', y='products_per_transact', hue='amount')\n",
    "plt.show()"
   ]
  },
  {
   "cell_type": "markdown",
   "id": "5046490d",
   "metadata": {},
   "source": [
    "# <font color=\"violet\">**Nivel 3**</font>"
   ]
  },
  {
   "cell_type": "markdown",
   "id": "71de4196",
   "metadata": {},
   "source": [
    "<font color=\"violet\">**- Ejercicio 1**</font>\n",
    "\n",
    "Implementa un violinplot combinado con otro tipo de gráfico.\n",
    "\n",
    "Uso los datos del ejercicio 1.6 con el top 5 de paises para hacer un violinplot combinado"
   ]
  },
  {
   "cell_type": "code",
   "execution_count": 404,
   "id": "62b65275",
   "metadata": {},
   "outputs": [
    {
     "data": {
      "image/png": "[encoded data removed]",
      "text/plain": [
       "<Figure size 1000x600 with 1 Axes>"
      ]
     },
     "metadata": {},
     "output_type": "display_data"
    }
   ],
   "source": [
    "# Grafico el violinplot\n",
    "\n",
    "plt.figure(figsize=(10, 6))\n",
    "sns.violinplot(data= transactions_companies_filtered, x ='country', y ='amount',hue='declined') \n",
    "sns.swarmplot(data=transactions_companies_filtered,x ='country', y ='amount', color= 'lightgrey', size= 8 )\n",
    "\n",
    "plt.title('Ventas por país (Top 5)')\n",
    "plt.legend(title='¿Declined?',bbox_to_anchor=(1, 1), loc='upper left',)\n",
    "plt.tight_layout()\n",
    "plt.show()"
   ]
  },
  {
   "cell_type": "markdown",
   "id": "0689d81d",
   "metadata": {},
   "source": [
    "En la imagen podemos ver que a priori tanto las transacciones declinadas como no declinadas tienen distribuciones similares en cuanto al importe. Así que el importe no necesariamente predice el rechazo de la operación.\n",
    "\n"
   ]
  },
  {
   "cell_type": "markdown",
   "id": "74375755",
   "metadata": {},
   "source": [
    "<font color=\"violet\">**- Ejercicio 2**</font>\n",
    "\n",
    "Genera un FacetGrid para visualizar múltiples aspectos de datos simultáneamente. \n",
    "\n",
    "Facetgrid ayuda a visualizar la distribución de una variable así como la relación entre múltiples variables por separado dentro de subconjuntos de su conjunto de datos usando múltiples paneles."
   ]
  },
  {
   "cell_type": "code",
   "execution_count": 409,
   "id": "e829f018",
   "metadata": {},
   "outputs": [
    {
     "data": {
      "application/vnd.microsoft.datawrangler.viewer.v0+json": {
       "columns": [
        {
         "name": "index",
         "rawType": "int64",
         "type": "integer"
        },
        {
         "name": "transactions_id",
         "rawType": "object",
         "type": "string"
        },
        {
         "name": "user_id",
         "rawType": "int64",
         "type": "integer"
        },
        {
         "name": "amount",
         "rawType": "float64",
         "type": "float"
        },
        {
         "name": "declined",
         "rawType": "int64",
         "type": "integer"
        },
        {
         "name": "age",
         "rawType": "int32",
         "type": "integer"
        },
        {
         "name": "country",
         "rawType": "object",
         "type": "string"
        },
        {
         "name": "products_per_transact",
         "rawType": "int64",
         "type": "integer"
        },
        {
         "name": "total_weight",
         "rawType": "float64",
         "type": "float"
        }
       ],
       "ref": "791d45e9-2b9f-4405-b92f-f974df3d07c3",
       "rows": [
        [
         "0",
         "02C6201E-D90A-1859-B4EE-88D2986D3B02",
         "92",
         "466.92",
         "0",
         "41",
         "United States",
         "3",
         "4.3"
        ],
        [
         "1",
         "0466A42E-47CF-8D24-FD01-C0B689713128",
         "170",
         "49.53",
         "0",
         "38",
         "United Kingdom",
         "3",
         "4.3"
        ],
        [
         "2",
         "063FBA79-99EC-66FB-29F7-25726D1764A5",
         "275",
         "92.61",
         "0",
         "43",
         "Canada",
         "4",
         "7.1"
        ],
        [
         "3",
         "0668296C-CDB9-A883-76BC-2E4C44F8C8AE",
         "265",
         "394.18",
         "0",
         "26",
         "Canada",
         "3",
         "6.5"
        ],
        [
         "4",
         "06CD9AA5-9B42-D684-DDDD-A5E394FEBA99",
         "92",
         "279.93",
         "0",
         "41",
         "United States",
         "2",
         "1.2"
        ],
        [
         "5",
         "07A46D48-31A3-7E87-65B9-0DA902AD109F",
         "272",
         "340.87",
         "1",
         "34",
         "Canada",
         "2",
         "5.4"
        ],
        [
         "6",
         "09DE92CE-6F27-2BB7-13B5-9385B2B3B8E2",
         "275",
         "303.05",
         "1",
         "43",
         "Canada",
         "2",
         "1.2"
        ],
        [
         "7",
         "0A476ED9-0C13-1962-F87B-D3563924B539",
         "221",
         "430.49",
         "0",
         "44",
         "Canada",
         "3",
         "9.1"
        ],
        [
         "8",
         "0BEB80B7-9D66-1707-CE4B-9DC7E71914B5",
         "272",
         "288.81",
         "1",
         "34",
         "Canada",
         "4",
         "8.5"
        ],
        [
         "9",
         "0C7C3A33-9947-3BC1-846D-7BE3D0D17598",
         "272",
         "103.44",
         "1",
         "34",
         "Canada",
         "2",
         "3.8"
        ],
        [
         "10",
         "0CE957A6-CCAA-2B7A-6839-8A4B1B324853",
         "269",
         "428.69",
         "1",
         "29",
         "Canada",
         "4",
         "5.3"
        ],
        [
         "11",
         "0DD2E608-5C9E-D1B3-4999-B99F43AD735A",
         "275",
         "252.47",
         "1",
         "43",
         "Canada",
         "3",
         "6.5"
        ],
        [
         "12",
         "1017AA59-3D5F-7A4C-1992-D151A8D1FA0A",
         "267",
         "447.11",
         "0",
         "34",
         "Canada",
         "2",
         "2.0"
        ],
        [
         "13",
         "1026DA24-8929-31F1-8250-D7BAB05C13D2",
         "92",
         "465.31",
         "0",
         "41",
         "United States",
         "4",
         "7.5"
        ],
        [
         "14",
         "108B1D1D-5B23-A76C-55EF-C568E49A05DD",
         "275",
         "293.57",
         "0",
         "43",
         "Canada",
         "1",
         "2.7"
        ],
        [
         "15",
         "10A9B07A-810C-76EB-4D15-12C6CC128037",
         "272",
         "27.85",
         "1",
         "34",
         "Canada",
         "2",
         "3.3"
        ],
        [
         "16",
         "11ABED97-EA12-1B9A-96F0-A93ACC172179",
         "68",
         "157.2",
         "0",
         "46",
         "United States",
         "1",
         "3.2"
        ],
        [
         "17",
         "122DC333-E19F-D629-DCD8-9C54CF1EBB9A",
         "221",
         "172.01",
         "0",
         "44",
         "Canada",
         "3",
         "2.2"
        ],
        [
         "18",
         "133B82CC-DE62-8604-2D11-3DC5449E0A5F",
         "271",
         "348.88",
         "1",
         "34",
         "Canada",
         "1",
         "3.2"
        ],
        [
         "19",
         "135267BA-2E7D-957C-C42C-6450A2B3ED54",
         "210",
         "17.97",
         "0",
         "24",
         "Canada",
         "2",
         "5.4"
        ],
        [
         "20",
         "13DCC69F-EA07-E52B-8309-D474C6281E80",
         "272",
         "50.09",
         "1",
         "34",
         "Canada",
         "3",
         "6.9"
        ],
        [
         "21",
         "13FBB312-B283-7976-DA47-14DE5986218A",
         "272",
         "80.58",
         "1",
         "34",
         "Canada",
         "4",
         "7.1"
        ],
        [
         "22",
         "1479B3D2-B7BA-C7BB-4CE3-8D7C2DE85ABB",
         "133",
         "309.45",
         "0",
         "27",
         "United States",
         "3",
         "9.1"
        ],
        [
         "23",
         "14CAE5B5-8FB1-3E4A-4C85-0EA4167534F4",
         "189",
         "388.04",
         "0",
         "27",
         "United Kingdom",
         "4",
         "6.8"
        ],
        [
         "24",
         "1517E8A8-8B44-A7C9-6691-692C27D0DC2C",
         "267",
         "259.51",
         "1",
         "34",
         "Canada",
         "2",
         "3.3"
        ],
        [
         "25",
         "152598C2-029D-D684-4B66-91EDF393EBFF",
         "126",
         "395.43",
         "0",
         "25",
         "United States",
         "2",
         "3.7"
        ],
        [
         "26",
         "156F3F80-7E7D-65CF-727D-6AE03CEB7520",
         "92",
         "404.16",
         "0",
         "41",
         "United States",
         "1",
         "3.2"
        ],
        [
         "27",
         "1575F87A-E37B-DADD-554C-A99D8E7162A6",
         "235",
         "37.55",
         "0",
         "32",
         "Canada",
         "3",
         "4.7"
        ],
        [
         "28",
         "158A3ACB-541C-DBCC-65BD-6373CC67BF1C",
         "183",
         "240.29",
         "0",
         "43",
         "United Kingdom",
         "4",
         "10.1"
        ],
        [
         "29",
         "15CC4862-D13E-ED4B-941C-486484AFDFAD",
         "272",
         "447.11",
         "0",
         "34",
         "Canada",
         "2",
         "4.2"
        ],
        [
         "30",
         "162C7E78-2B6B-7971-A1E4-D2124E732451",
         "210",
         "231.26",
         "0",
         "24",
         "Canada",
         "1",
         "3.2"
        ],
        [
         "31",
         "167DE938-B1C2-428D-FA3D-96A45CD41B22",
         "255",
         "414.36",
         "0",
         "27",
         "Canada",
         "3",
         "3.6"
        ],
        [
         "32",
         "1717FD6B-ADAD-7082-A748-9112BE892CCC",
         "172",
         "249.91",
         "0",
         "27",
         "United Kingdom",
         "2",
         "5.2"
        ],
        [
         "33",
         "1742D72D-6EC3-1B42-A1B2-24AA75A6A14B",
         "96",
         "297.59",
         "0",
         "37",
         "United States",
         "4",
         "9.2"
        ],
        [
         "34",
         "1753A288-9FC1-52E6-5C39-A1FFB97B0D3A",
         "222",
         "497.84",
         "0",
         "42",
         "Canada",
         "4",
         "5.8"
        ],
        [
         "35",
         "17561134-37A4-E316-2C3C-C5541EDAD761",
         "92",
         "371.57",
         "0",
         "41",
         "United States",
         "2",
         "5.2"
        ],
        [
         "36",
         "1788C881-EE67-9BAB-377A-4C78E772160B",
         "275",
         "486.83",
         "0",
         "43",
         "Canada",
         "3",
         "3.2"
        ],
        [
         "37",
         "17B43AB2-DD7D-96C4-2C7D-1989F119A1CB",
         "199",
         "494.17",
         "0",
         "35",
         "United Kingdom",
         "2",
         "5.9"
        ],
        [
         "38",
         "1822A630-4B6E-DABC-2576-6EC107FA15C2",
         "194",
         "140.31",
         "0",
         "34",
         "United Kingdom",
         "3",
         "4.3"
        ],
        [
         "39",
         "18528B27-18B8-93DA-9B8C-31635C536DA4",
         "96",
         "208.0",
         "0",
         "37",
         "United States",
         "2",
         "3.3"
        ],
        [
         "40",
         "185C9F2C-67A2-8EC0-0BB6-93789CC59F05",
         "92",
         "285.24",
         "0",
         "41",
         "United States",
         "2",
         "5.9"
        ],
        [
         "41",
         "186F53DE-DE27-B1FE-B82F-15B61CEB7726",
         "225",
         "238.16",
         "0",
         "29",
         "Canada",
         "3",
         "4.8"
        ],
        [
         "42",
         "18B1AD88-F155-45B7-D2EA-4738407435D6",
         "65",
         "268.48",
         "0",
         "32",
         "United States",
         "1",
         "0.6"
        ],
        [
         "43",
         "18B2472B-DA8B-36F7-B0F2-7DDA688B73D1",
         "87",
         "391.38",
         "0",
         "44",
         "United States",
         "2",
         "5.4"
        ],
        [
         "44",
         "18C4E2DD-1E4C-F35E-2198-C660BD81DC25",
         "177",
         "237.04",
         "0",
         "25",
         "United Kingdom",
         "4",
         "5.8"
        ],
        [
         "45",
         "18CCBA7C-ABC1-813D-FAF3-4BAB97429368",
         "173",
         "58.16",
         "0",
         "29",
         "United Kingdom",
         "4",
         "9.1"
        ],
        [
         "46",
         "18D648AB-7D54-A3E8-2DBA-2D8D2991CA43",
         "263",
         "305.02",
         "0",
         "35",
         "Canada",
         "1",
         "3.2"
        ],
        [
         "47",
         "1998A483-B4CD-FAE6-745C-8F2F2EB77A8E",
         "92",
         "372.58",
         "0",
         "41",
         "United States",
         "3",
         "3.9"
        ],
        [
         "48",
         "19E1EC3E-2119-1EFD-8AAE-5930D4A4E63F",
         "154",
         "29.63",
         "0",
         "39",
         "United Kingdom",
         "3",
         "8.6"
        ],
        [
         "49",
         "1A1279B1-B393-3EE4-6A2E-6D8F1256A49D",
         "272",
         "225.64",
         "1",
         "34",
         "Canada",
         "3",
         "4.3"
        ]
       ],
       "shape": {
        "columns": 8,
        "rows": 587
       }
      },
      "text/html": [
       "<div>\n",
       "<style scoped>\n",
       "    .dataframe tbody tr th:only-of-type {\n",
       "        vertical-align: middle;\n",
       "    }\n",
       "\n",
       "    .dataframe tbody tr th {\n",
       "        vertical-align: top;\n",
       "    }\n",
       "\n",
       "    .dataframe thead th {\n",
       "        text-align: right;\n",
       "    }\n",
       "</style>\n",
       "<table border=\"1\" class=\"dataframe\">\n",
       "  <thead>\n",
       "    <tr style=\"text-align: right;\">\n",
       "      <th></th>\n",
       "      <th>transactions_id</th>\n",
       "      <th>user_id</th>\n",
       "      <th>amount</th>\n",
       "      <th>declined</th>\n",
       "      <th>age</th>\n",
       "      <th>country</th>\n",
       "      <th>products_per_transact</th>\n",
       "      <th>total_weight</th>\n",
       "    </tr>\n",
       "  </thead>\n",
       "  <tbody>\n",
       "    <tr>\n",
       "      <th>0</th>\n",
       "      <td>02C6201E-D90A-1859-B4EE-88D2986D3B02</td>\n",
       "      <td>92</td>\n",
       "      <td>466.92</td>\n",
       "      <td>0</td>\n",
       "      <td>41</td>\n",
       "      <td>United States</td>\n",
       "      <td>3</td>\n",
       "      <td>4.3</td>\n",
       "    </tr>\n",
       "    <tr>\n",
       "      <th>1</th>\n",
       "      <td>0466A42E-47CF-8D24-FD01-C0B689713128</td>\n",
       "      <td>170</td>\n",
       "      <td>49.53</td>\n",
       "      <td>0</td>\n",
       "      <td>38</td>\n",
       "      <td>United Kingdom</td>\n",
       "      <td>3</td>\n",
       "      <td>4.3</td>\n",
       "    </tr>\n",
       "    <tr>\n",
       "      <th>2</th>\n",
       "      <td>063FBA79-99EC-66FB-29F7-25726D1764A5</td>\n",
       "      <td>275</td>\n",
       "      <td>92.61</td>\n",
       "      <td>0</td>\n",
       "      <td>43</td>\n",
       "      <td>Canada</td>\n",
       "      <td>4</td>\n",
       "      <td>7.1</td>\n",
       "    </tr>\n",
       "    <tr>\n",
       "      <th>3</th>\n",
       "      <td>0668296C-CDB9-A883-76BC-2E4C44F8C8AE</td>\n",
       "      <td>265</td>\n",
       "      <td>394.18</td>\n",
       "      <td>0</td>\n",
       "      <td>26</td>\n",
       "      <td>Canada</td>\n",
       "      <td>3</td>\n",
       "      <td>6.5</td>\n",
       "    </tr>\n",
       "    <tr>\n",
       "      <th>4</th>\n",
       "      <td>06CD9AA5-9B42-D684-DDDD-A5E394FEBA99</td>\n",
       "      <td>92</td>\n",
       "      <td>279.93</td>\n",
       "      <td>0</td>\n",
       "      <td>41</td>\n",
       "      <td>United States</td>\n",
       "      <td>2</td>\n",
       "      <td>1.2</td>\n",
       "    </tr>\n",
       "    <tr>\n",
       "      <th>...</th>\n",
       "      <td>...</td>\n",
       "      <td>...</td>\n",
       "      <td>...</td>\n",
       "      <td>...</td>\n",
       "      <td>...</td>\n",
       "      <td>...</td>\n",
       "      <td>...</td>\n",
       "      <td>...</td>\n",
       "    </tr>\n",
       "    <tr>\n",
       "      <th>582</th>\n",
       "      <td>FD2E8957-414B-BEEC-E9AD-59AA7A8A6290</td>\n",
       "      <td>272</td>\n",
       "      <td>78.29</td>\n",
       "      <td>0</td>\n",
       "      <td>34</td>\n",
       "      <td>Canada</td>\n",
       "      <td>4</td>\n",
       "      <td>9.7</td>\n",
       "    </tr>\n",
       "    <tr>\n",
       "      <th>583</th>\n",
       "      <td>FD89D51B-AE8D-77DC-E450-B8083FBD3187</td>\n",
       "      <td>250</td>\n",
       "      <td>200.72</td>\n",
       "      <td>0</td>\n",
       "      <td>31</td>\n",
       "      <td>Canada</td>\n",
       "      <td>4</td>\n",
       "      <td>5.5</td>\n",
       "    </tr>\n",
       "    <tr>\n",
       "      <th>584</th>\n",
       "      <td>FD9CBCCD-8E1E-8DA1-4606-7E3A6F3A5A65</td>\n",
       "      <td>223</td>\n",
       "      <td>42.32</td>\n",
       "      <td>0</td>\n",
       "      <td>33</td>\n",
       "      <td>Canada</td>\n",
       "      <td>1</td>\n",
       "      <td>1.0</td>\n",
       "    </tr>\n",
       "    <tr>\n",
       "      <th>585</th>\n",
       "      <td>FE809ED4-2DB6-55AC-C915-929516E4646B</td>\n",
       "      <td>185</td>\n",
       "      <td>219.83</td>\n",
       "      <td>0</td>\n",
       "      <td>32</td>\n",
       "      <td>United Kingdom</td>\n",
       "      <td>2</td>\n",
       "      <td>3.3</td>\n",
       "    </tr>\n",
       "    <tr>\n",
       "      <th>586</th>\n",
       "      <td>FE96CE47-BD59-381C-4E18-E3CA3D44E8FF</td>\n",
       "      <td>275</td>\n",
       "      <td>480.13</td>\n",
       "      <td>1</td>\n",
       "      <td>43</td>\n",
       "      <td>Canada</td>\n",
       "      <td>1</td>\n",
       "      <td>1.5</td>\n",
       "    </tr>\n",
       "  </tbody>\n",
       "</table>\n",
       "<p>587 rows × 8 columns</p>\n",
       "</div>"
      ],
      "text/plain": [
       "                          transactions_id  user_id  amount  declined  age  \\\n",
       "0    02C6201E-D90A-1859-B4EE-88D2986D3B02       92  466.92         0   41   \n",
       "1    0466A42E-47CF-8D24-FD01-C0B689713128      170   49.53         0   38   \n",
       "2    063FBA79-99EC-66FB-29F7-25726D1764A5      275   92.61         0   43   \n",
       "3    0668296C-CDB9-A883-76BC-2E4C44F8C8AE      265  394.18         0   26   \n",
       "4    06CD9AA5-9B42-D684-DDDD-A5E394FEBA99       92  279.93         0   41   \n",
       "..                                    ...      ...     ...       ...  ...   \n",
       "582  FD2E8957-414B-BEEC-E9AD-59AA7A8A6290      272   78.29         0   34   \n",
       "583  FD89D51B-AE8D-77DC-E450-B8083FBD3187      250  200.72         0   31   \n",
       "584  FD9CBCCD-8E1E-8DA1-4606-7E3A6F3A5A65      223   42.32         0   33   \n",
       "585  FE809ED4-2DB6-55AC-C915-929516E4646B      185  219.83         0   32   \n",
       "586  FE96CE47-BD59-381C-4E18-E3CA3D44E8FF      275  480.13         1   43   \n",
       "\n",
       "            country  products_per_transact  total_weight  \n",
       "0     United States                      3           4.3  \n",
       "1    United Kingdom                      3           4.3  \n",
       "2            Canada                      4           7.1  \n",
       "3            Canada                      3           6.5  \n",
       "4     United States                      2           1.2  \n",
       "..              ...                    ...           ...  \n",
       "582          Canada                      4           9.7  \n",
       "583          Canada                      4           5.5  \n",
       "584          Canada                      1           1.0  \n",
       "585  United Kingdom                      2           3.3  \n",
       "586          Canada                      1           1.5  \n",
       "\n",
       "[587 rows x 8 columns]"
      ]
     },
     "execution_count": 409,
     "metadata": {},
     "output_type": "execute_result"
    }
   ],
   "source": [
    "datos_correlacion"
   ]
  },
  {
   "cell_type": "code",
   "execution_count": 412,
   "id": "8299cf8d",
   "metadata": {},
   "outputs": [
    {
     "data": {
      "image/png": "[encoded data removed]",
      "text/plain": [
       "<Figure size 1200x600 with 8 Axes>"
      ]
     },
     "metadata": {},
     "output_type": "display_data"
    }
   ],
   "source": [
    "facetgrid = sns.FacetGrid(datos_correlacion, col='products_per_transact', row= 'declined', margin_titles=True)\n",
    "facetgrid.map_dataframe(sns.histplot, 'amount')\n",
    "facetgrid.set_axis_labels('Amount','Nº Transactions');\n"
   ]
  },
  {
   "cell_type": "markdown",
   "id": "05de82eb",
   "metadata": {},
   "source": [
    "Las transacciones que tienen dos o tres productos adquiridos son aquellas que concentran el mayor volumen de movimientos.\n",
    "Respecto a las transacciones declinadas o no declinadas, vemos que en relación con el total de movimientos, el número de declinadas no es muy elevado."
   ]
  },
  {
   "cell_type": "markdown",
   "id": "01325d4c",
   "metadata": {},
   "source": []
  }
 ],
 "metadata": {
  "kernelspec": {
   "display_name": "Reskilling",
   "language": "python",
   "name": "python3"
  },
  "language_info": {
   "codemirror_mode": {
    "name": "ipython",
    "version": 3
   },
   "file_extension": ".py",
   "mimetype": "text/x-python",
   "name": "python",
   "nbconvert_exporter": "python",
   "pygments_lexer": "ipython3",
   "version": "3.13.2"
  }
 },
 "nbformat": 4,
 "nbformat_minor": 5
}
